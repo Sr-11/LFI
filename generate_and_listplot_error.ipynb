{
 "cells": [
  {
   "cell_type": "code",
   "execution_count": 1,
   "metadata": {},
   "outputs": [
    {
     "name": "stderr",
     "output_type": "stream",
     "text": [
      "/math/home/eruisun/software/anaconda/envs/LFI/lib/python3.9/site-packages/tqdm/auto.py:22: TqdmWarning: IProgress not found. Please update jupyter and ipywidgets. See https://ipywidgets.readthedocs.io/en/stable/user_install.html\n",
      "  from .autonotebook import tqdm as notebook_tqdm\n"
     ]
    }
   ],
   "source": [
    "import numpy as np\n",
    "import torch\n",
    "import sys\n",
    "from utils import *\n",
    "from matplotlib import pyplot as plt\n",
    "import torch.nn as nn\n",
    "import time\n",
    "from numba import cuda\n",
    "from tqdm import tqdm, trange\n",
    "import os\n",
    "import pyroc\n",
    "import pandas as pd\n",
    "import gc\n",
    "from IPython.display import clear_output\n",
    "sys.path.append(\"..\") \n",
    "import global_config\n",
    "\n",
    "num_models = global_config.test_param_configs['num_models']\n",
    "num_repeats = global_config.test_param_configs['num_repeats']\n",
    "ns = global_config.test_param_configs['n_tr_list']\n",
    "n_te = global_config.test_param_configs['n_te']\n",
    "n_ev = global_config.test_param_configs['n_ev']\n",
    "\n",
    "os.environ[\"CUDA_DEVICE_ORDER\"]=\"PCI_BUS_ID\"\n",
    "os.environ[\"CUDA_VISIBLE_DEVICES\"]=\"2\"  \n",
    "device = torch.device(\"cuda:0\")\n",
    "dtype = torch.float32\n",
    "torch.manual_seed(42)\n",
    "np.random.seed(42)"
   ]
  },
  {
   "cell_type": "code",
   "execution_count": 2,
   "metadata": {},
   "outputs": [],
   "source": [
    "dataset = np.load('HIGGS.npy')\n",
    "dataset_P = dataset[dataset[:,0]==0][:, 1:] # background (5829122, 28)\n",
    "dataset_Q = dataset[dataset[:,0]==1][:, 1:] # signal     (5170877, 28)\n",
    "dataset_P = MatConvert(dataset_P, device=device, dtype=dtype)\n",
    "dataset_Q = MatConvert(dataset_Q, device=device, dtype=dtype)"
   ]
  },
  {
   "attachments": {},
   "cell_type": "markdown",
   "metadata": {},
   "source": [
    "# Define function"
   ]
  },
  {
   "cell_type": "code",
   "execution_count": 3,
   "metadata": {},
   "outputs": [],
   "source": [
    "def generate_PQ(X_test, Y_test, model, another_model, epsilonOPT, sigmaOPT, sigma0OPT, cst,\n",
    "                n_test, Samples, batch_size = 5000, If_n_large_MonteCarlo = 1000, test_batch_size=20000):\n",
    "    '''\n",
    "    Input: \n",
    "        n_eval: n_eval in our paper, then we generate $X^{eval}$ and $Y^{eval}$ used to compute MMD.\n",
    "        Samples: we generate 'Samples' samples from P and Q, then compute their scores f(sample;X_eval,Y_eval)\n",
    "    Output:\n",
    "        X_eval, Y_eval: generate from P and Q, each with size (n_eval, 28)\n",
    "        P_scores, Q_scores: scores of samples from P and Q, each with size (Samples,)\n",
    "        EKxx, EKyy, EKxy: expectation of K(X,X), K(Y,Y), K(X,Y), where X~P_X, Y~P_Y. Then the gamma in our paper can be computed from these three values.\n",
    "    '''\n",
    "    # X_test = dataset_P[np.random.choice(dataset_P.shape[0], n_test, replace=False)]\n",
    "    # Y_test = dataset_Q[np.random.choice(dataset_Q.shape[0], n_test, replace=False)]\n",
    "    EKxx, EKyy, EKxy = compute_gamma(X_test, Y_test, model, another_model, epsilonOPT, sigmaOPT, sigma0OPT, cst, MonteCarlo=If_n_large_MonteCarlo)\n",
    "    batches = (Samples-1)//batch_size + 1\n",
    "    P_scores = np.zeros(Samples)\n",
    "    Q_scores = np.zeros(Samples)\n",
    "    for i in trange(batches):\n",
    "        remain = batch_size\n",
    "        if i==batches-1:\n",
    "            remain = Samples - batch_size*(batches-1)\n",
    "        S_hand = np.concatenate((dataset_P[np.random.choice(dataset_P.shape[0], remain, replace=False)],\n",
    "                    dataset_Q[np.random.choice(dataset_Q.shape[0], remain, replace=False)]), axis=0)\n",
    "        S_hand = MatConvert(S_hand, device, dtype)\n",
    "        PQhat_hand = compute_score_func(S_hand, X_test, Y_test, \n",
    "                    model, another_model, epsilonOPT, sigmaOPT, sigma0OPT, cst,\n",
    "                    M = test_batch_size)\n",
    "        PQhat_hand = PQhat_hand.cpu().detach().numpy()\n",
    "        P_scores[i*batch_size: i*batch_size+remain] = PQhat_hand[:remain]\n",
    "        Q_scores[i*batch_size: i*batch_size+remain] = PQhat_hand[remain:]\n",
    "        del S_hand, PQhat_hand\n",
    "        gc.collect()\n",
    "    return X_test, Y_test, P_scores, Q_scores, EKxx, EKyy, EKxy\n",
    "\n",
    "class PQ_data():\n",
    "    '''\n",
    "    Define a class to compute the p-value, the Type I/II error.\n",
    "    '''\n",
    "    def __init__(self, P_scores, Q_scores, EKxx, EKyy, EKxy):\n",
    "        self.P_scores = P_scores\n",
    "        self.Q_scores = Q_scores\n",
    "        self.P_mean = np.mean(P_scores)\n",
    "        self.P_std = np.std(P_scores)\n",
    "        self.Q_mean = np.mean(Q_scores)\n",
    "        self.Q_std = np.std(Q_scores)\n",
    "        self.EKxx = EKxx\n",
    "        self.EKyy = EKyy\n",
    "        self.EKxy = EKxy\n",
    "    def pval_T_m_in_sigma(self, pi, m, use_gaussian, MonteCarlo):\n",
    "        '''\n",
    "        Compute the expected significance of discovery.\n",
    "        Input:\n",
    "            pi: the strength of the mixture in our paper.\n",
    "            m: the number of samples, i.e. the size of Z in our paper.\n",
    "            use_gaussian: if use Gaussian Approximation, then use_gaussian = True, else use_gaussian = False.\n",
    "            MonteCarlo: when use_gaussian = False, we use Monte Carlo to approximate the expectation.\n",
    "        Output:\n",
    "            p: the expected significance of discovery (in units of Gaussian sigma)\n",
    "        '''\n",
    "        T = pi*self.Q_mean + (1-pi)*self.P_mean\n",
    "        P_scores = self.P_scores\n",
    "        mean = self.P_mean\n",
    "        std = self.P_std\n",
    "        if m==1:\n",
    "            p = np.mean(P_scores > T)\n",
    "            p = -scipy.stats.norm.ppf(p)\n",
    "            self.p = p\n",
    "            return p\n",
    "        if use_gaussian:\n",
    "            p = (T-mean)/std*np.sqrt(m)\n",
    "        else:\n",
    "            T_mix_MonteCarlo_list = np.zeros(MonteCarlo)\n",
    "            for i in range(MonteCarlo):\n",
    "                idx = np.random.choice(P_scores.shape[0], m, replace=False)\n",
    "                T_mix_MonteCarlo_list[i] = np.mean(P_scores[idx])\n",
    "            p = np.mean(T_mix_MonteCarlo_list > T)\n",
    "            p = -scipy.stats.norm.ppf(p)\n",
    "        self.p = p\n",
    "        return p\n",
    "    def type_1_error_H0(self, pi, m, use_gaussian, MonteCarlo):\n",
    "        '''\n",
    "        Compute the estimated Type I error.\n",
    "        Input:\n",
    "            pi: the strength of the mixture in our paper.\n",
    "            m: the number of samples, i.e. the size of Z in our paper.\n",
    "            use_gaussian: if use Gaussian Approximation, then use_gaussian = True, else use_gaussian = False.\n",
    "            MonteCarlo: when use_gaussian = False, we use Monte Carlo to approximate the expectation.\n",
    "        Output:\n",
    "            type_1_error: the estimated Type I error.   \n",
    "        '''\n",
    "        P_scores = self.P_scores\n",
    "        Q_scores = self.Q_scores\n",
    "        mean = self.P_mean\n",
    "        std = self.P_std\n",
    "        P_mean = self.P_mean\n",
    "        P_std = self.P_std\n",
    "        Q_mean = self.Q_mean\n",
    "        gamma = self.EKxx*(pi/2-1) + self.EKxy*(1-pi) + self.EKyy*(pi/2)\n",
    "        #gamma = (pi/2)*Q_mean + (1-pi/2)*P_mean\n",
    "        self.gamma = gamma\n",
    "        if m==1:\n",
    "            type_1_error = np.mean(P_scores > gamma)\n",
    "            self.type_1_error = type_1_error\n",
    "            return type_1_error\n",
    "        if use_gaussian:\n",
    "            type_1_error = 1-scipy.stats.norm.cdf((gamma-mean)/std*np.sqrt(m))\n",
    "        else:\n",
    "            MonteCarlo_list = np.zeros(MonteCarlo)\n",
    "            for i in range(MonteCarlo):\n",
    "                idx = np.random.choice(P_scores.shape[0], m, replace=False)\n",
    "                MonteCarlo_list[i] = np.mean(P_scores[idx])\n",
    "            type_1_error = np.mean(MonteCarlo_list > gamma)\n",
    "            del MonteCarlo_list\n",
    "            gc.collect()\n",
    "        self.type_1_error = type_1_error\n",
    "        return type_1_error\n",
    "    def type_2_error_H1(self, pi, m, use_gaussian, MonteCarlo):\n",
    "        '''\n",
    "        Compute the estimated Type II error.\n",
    "        Input:\n",
    "            pi: the strength of the mixture in our paper.\n",
    "            m: the number of samples, i.e. the size of Z in our paper.\n",
    "            use_gaussian: if use Gaussian Approximation, then use_gaussian = True, else use_gaussian = False.\n",
    "            MonteCarlo: when use_gaussian = False, we use Monte Carlo to approximate the expectation.\n",
    "        Output:\n",
    "            type_2_error: the estimated Type II error.              \n",
    "        '''\n",
    "        P_scores = self.P_scores\n",
    "        Q_scores = self.Q_scores\n",
    "        P_mean = self.P_mean\n",
    "        P_std = self.P_std\n",
    "        Q_mean = self.Q_mean\n",
    "        Q_std = self.Q_std\n",
    "        gamma = self.EKxx*(pi/2-1) + self.EKxy*(1-pi) + self.EKyy*(pi/2)\n",
    "        #gamma = (pi/2)*Q_mean + (1-pi/2)*P_mean\n",
    "        self.gamma = gamma\n",
    "        if m==1:\n",
    "            type_2_error = np.mean(Q_scores < gamma)\n",
    "            self.type_2_error = type_2_error\n",
    "            return type_2_error\n",
    "        if use_gaussian:\n",
    "            mean = Q_mean*pi + P_mean*(1-pi)\n",
    "            std = np.sqrt(pi*Q_std**2 + (1-pi)*P_std**2 + pi*(1-pi)*(P_mean-Q_mean)**2)\n",
    "            type_2_error = scipy.stats.norm.cdf((gamma-mean)/std*np.sqrt(m))\n",
    "        else:\n",
    "            MonteCarlo_list = np.zeros(MonteCarlo)\n",
    "            for i in range(MonteCarlo):\n",
    "                Signals_idx = np.random.choice(Q_scores.shape[0], int(m*pi), replace=False)\n",
    "                Backgrounds_idx = np.random.choice(P_scores.shape[0], int(m*(1-pi)), replace=False)\n",
    "                MonteCarlo_list[i] = np.mean(np.concatenate((Q_scores[Signals_idx], P_scores[Backgrounds_idx])))\n",
    "            type_2_error = np.mean(MonteCarlo_list < gamma)\n",
    "            del MonteCarlo_list\n",
    "            gc.collect()\n",
    "        self.type_2_error = type_2_error\n",
    "        return type_2_error"
   ]
  },
  {
   "cell_type": "code",
   "execution_count": null,
   "metadata": {},
   "outputs": [],
   "source": []
  },
  {
   "attachments": {},
   "cell_type": "markdown",
   "metadata": {},
   "source": [
    "# Start to calculate p for different n"
   ]
  },
  {
   "cell_type": "code",
   "execution_count": 4,
   "metadata": {},
   "outputs": [
    {
     "data": {
      "text/plain": [
       "([50000, 5000], 5)"
      ]
     },
     "execution_count": 4,
     "metadata": {},
     "output_type": "execute_result"
    }
   ],
   "source": [
    "# ns is list of n_train\n",
    "repeats = num_models\n",
    "ns, repeats"
   ]
  },
  {
   "cell_type": "code",
   "execution_count": 5,
   "metadata": {},
   "outputs": [
    {
     "name": "stdout",
     "output_type": "stream",
     "text": [
      "fail\n",
      "fail\n"
     ]
    }
   ],
   "source": [
    "for n in ns:\n",
    "    try:\n",
    "        ps_L, ps_L_thres = get_p_from_10_model(n, 'Res_Net', repeats)\n",
    "        np.save('./Res_Net/%d_soft.npy'%n, ps_L)\n",
    "        np.save('./Res_Net/%d_hard.npy'%n, ps_L_thres)\n",
    "        # clear_output(wait=True)\n",
    "    except: print('fail')"
   ]
  },
  {
   "cell_type": "code",
   "execution_count": 6,
   "metadata": {},
   "outputs": [
    {
     "name": "stdout",
     "output_type": "stream",
     "text": [
      "fail\n",
      "fail\n"
     ]
    }
   ],
   "source": [
    "for n in ns:\n",
    "    try:\n",
    "        ps_L, ps_L_thres = get_p_from_10_model(n, 'Mix', repeats)\n",
    "        np.save('./Mix/%d_soft.npy'%n, ps_L)\n",
    "        np.save('./Mix/%d_hard.npy'%n, ps_L_thres)\n",
    "        clear_output(wait=True)\n",
    "    except: print('fail')"
   ]
  },
  {
   "cell_type": "code",
   "execution_count": 7,
   "metadata": {},
   "outputs": [
    {
     "name": "stdout",
     "output_type": "stream",
     "text": [
      "fail\n",
      "fail\n"
     ]
    }
   ],
   "source": [
    "for n in ns:\n",
    "    try:\n",
    "        ps_B, ps_B_thres = get_p_from_10_model(n, 'LBI', repeats)\n",
    "        np.save('./LBI/%d_soft.npy'%n, ps_B)\n",
    "        clear_output(wait=True)\n",
    "    except: print('fail')"
   ]
  },
  {
   "cell_type": "code",
   "execution_count": 8,
   "metadata": {},
   "outputs": [
    {
     "name": "stdout",
     "output_type": "stream",
     "text": [
      "fail\n",
      "fail\n"
     ]
    }
   ],
   "source": [
    "for n in ns:\n",
    "    try:\n",
    "        ps_G, ps_G_thres = get_p_from_10_model(n, 'Fea_Gau', repeats)\n",
    "        np.save('./Fea_Gau/%d_soft.npy'%n, ps_G)\n",
    "        np.save('./Fea_Gau/%d_hard.npy'%n, ps_G_thres)\n",
    "        clear_output(wait=True)\n",
    "    except: print('fail')"
   ]
  },
  {
   "cell_type": "code",
   "execution_count": 9,
   "metadata": {},
   "outputs": [
    {
     "name": "stdout",
     "output_type": "stream",
     "text": [
      "fail\n",
      "fail\n"
     ]
    }
   ],
   "source": [
    "for n in ns:\n",
    "    try:\n",
    "        ps_O, ps_O_thres = get_p_from_10_model(n, 'Gaussian', repeats)\n",
    "        np.save('./Gaussian/%d_soft.npy'%n, ps_O)\n",
    "        np.save('./Gaussian/%d_hard.npy'%n, ps_O_thres)\n",
    "        clear_output(wait=True)\n",
    "    except: print('fail')"
   ]
  },
  {
   "cell_type": "code",
   "execution_count": 10,
   "metadata": {},
   "outputs": [
    {
     "name": "stdout",
     "output_type": "stream",
     "text": [
      "fail\n",
      "fail\n"
     ]
    }
   ],
   "source": [
    "for n in ns:\n",
    "    try:\n",
    "        ps_S, ps_S_thres = get_p_from_10_model(n, 'Scheffe', repeats)\n",
    "        np.save('./Scheffe/%d_soft.npy'%n, ps_S)\n",
    "        np.save('./Scheffe/%d_hard.npy'%n, ps_S_thres)\n",
    "        _, ps_S_thres_05 = get_p_from_10_model(n, 'Scheffe', repeats, force_thres=0.5)\n",
    "        np.save('./Scheffe/%d_05.npy'%n, ps_S_thres_05)\n",
    "        clear_output(wait=True)\n",
    "    except: print('fail')"
   ]
  },
  {
   "cell_type": "code",
   "execution_count": 11,
   "metadata": {},
   "outputs": [
    {
     "name": "stdout",
     "output_type": "stream",
     "text": [
      "------------------- n_tr = 50000 -------------------\n",
      "  0%|                                                     | 0/5 [00:00<?, ?it/s]^C\n",
      "  0%|                                                     | 0/5 [00:24<?, ?it/s]\n",
      "Traceback (most recent call last):\n",
      "  File \"/math/home/eruisun/github/LFI/UME/Higgs_kmod_test.py\", line 172, in <module>\n",
      "    run_test()\n",
      "  File \"/math/home/eruisun/github/LFI/UME/Higgs_kmod_test.py\", line 152, in run_test\n",
      "    p_soft_mat[i,:], p_hard_mat[i,:] = simulate_p_value(n_tr_label, n_ev, min(n_tr,n_te),\n",
      "  File \"/math/home/eruisun/github/LFI/UME/Higgs_kmod_test.py\", line 81, in simulate_p_value\n",
      "    thres, _, _ = get_thres_from_evaluated_scores(X_test_scores, Y_test_scores)\n",
      "  File \"/math/home/eruisun/github/LFI/UME/utils_UME.py\", line 319, in get_thres_from_evaluated_scores\n",
      "    auc, x, y = get_auc_from_evaluated_scores(X,Y)\n",
      "  File \"/math/home/eruisun/github/LFI/UME/utils_UME.py\", line 312, in get_auc_from_evaluated_scores\n",
      "    fpr, tpr = roc._roc(pred) # False positive rate, True positive rate\n",
      "  File \"/math/home/eruisun/software/anaconda/envs/LFI/lib/python3.9/site-packages/pyroc.py\", line 302, in _roc\n",
      "    FP = np.logical_and(y_pred == 1, N)\n",
      "KeyboardInterrupt\n"
     ]
    }
   ],
   "source": [
    "try:\n",
    "    !python UME/Higgs_kmod_test.py\n",
    "    clear_output(wait=True)\n",
    "except: print('fail')"
   ]
  },
  {
   "cell_type": "code",
   "execution_count": null,
   "metadata": {},
   "outputs": [
    {
     "name": "stdout",
     "output_type": "stream",
     "text": [
      "------------------- n_tr = 5000 -------------------\n",
      "  0%|                                                     | 0/1 [00:00<?, ?it/s]thres = 0.6924\n",
      "100%|█████████████████████████████████████████████| 1/1 [00:04<00:00,  4.60s/it]\n",
      "------------------- n_tr = 5000 -------------------\n",
      "------------------- n_tr = 5000 -------------------\n",
      "  0%|                                                     | 0/1 [00:00<?, ?it/s]thres = 0.0154\n",
      "100%|█████████████████████████████████████████████| 1/1 [00:07<00:00,  7.31s/it]\n",
      "\u001b[2K\r"
     ]
    }
   ],
   "source": [
    "try:\n",
    "    !python RFM/Higgs_RFM_test.py\n",
    "    !python RFM/Higgs_RFM_used_in_MMD.py\n",
    "    clear_output(wait=True)\n",
    "except: print('fail')"
   ]
  },
  {
   "attachments": {},
   "cell_type": "markdown",
   "metadata": {},
   "source": [
    "# Packge the pval data into one file"
   ]
  },
  {
   "cell_type": "code",
   "execution_count": null,
   "metadata": {},
   "outputs": [],
   "source": [
    "def load_pval(ns):\n",
    "    method_ntr_pval_dict = {\n",
    "        'Res_Net_soft':{},\n",
    "        'Res_Net_hard':{},\n",
    "        'Mix_soft':{},\n",
    "        'Mix_hard':{},\n",
    "        'LBI_soft':{},\n",
    "        # 'LBI_hard':{},\n",
    "        'Fea_Gau_soft':{},\n",
    "        'Fea_Gau_hard':{},\n",
    "        'Gaussian_soft':{},\n",
    "        'Gaussian_hard':{},\n",
    "        'Scheffe_soft':{},\n",
    "        'Scheffe_hard':{},\n",
    "        'Scheffe_05':{},\n",
    "        'UME_soft':{},\n",
    "        'UME_hard':{}\n",
    "    }\n",
    "    for n in ns:\n",
    "        method_ntr_pval_dict['Res_Net_soft'][n] = np.load('./Res_Net/%d_soft.npy'%n)\n",
    "        method_ntr_pval_dict['Res_Net_hard'][n] = np.load('./Res_Net/%d_hard.npy'%n)\n",
    "        method_ntr_pval_dict['Mix_soft'][n] = np.load('./Mix/%d_soft.npy'%n)\n",
    "        method_ntr_pval_dict['Mix_hard'][n] = np.load('./Mix/%d_hard.npy'%n)\n",
    "        method_ntr_pval_dict['LBI_soft'][n] = np.load('./LBI/%d_soft.npy'%n)\n",
    "        # method_ntr_pval_dict['LBI_hard'][n] = np.load('./LBI/%d_hard.npy'%n)\n",
    "        method_ntr_pval_dict['Fea_Gau_soft'][n] = np.load('./Fea_Gau/%d_soft.npy'%n)\n",
    "        method_ntr_pval_dict['Fea_Gau_hard'][n] = np.load('./Fea_Gau/%d_hard.npy'%n)\n",
    "        method_ntr_pval_dict['Gaussian_soft'][n] = np.load('./Gaussian/%d_soft.npy'%n)\n",
    "        method_ntr_pval_dict['Gaussian_hard'][n] = np.load('./Gaussian/%d_hard.npy'%n)\n",
    "        method_ntr_pval_dict['Scheffe_soft'][n] = np.load('./Scheffe/%d_soft.npy'%n)\n",
    "        method_ntr_pval_dict['Scheffe_hard'][n] = np.load('./Scheffe/%d_hard.npy'%n)\n",
    "        method_ntr_pval_dict['Scheffe_05'][n] = np.load('./Scheffe/%d_05.npy'%n)\n",
    "        method_ntr_pval_dict['UME_soft'][n] = np.load('./UME/pval_data/n_tr=%d_soft.npy'%n)\n",
    "        method_ntr_pval_dict['UME_hard'][n] = np.load('./UME/pval_data/n_tr=%d_hard.npy'%n)\n",
    "    return method_ntr_pval_dict\n"
   ]
  },
  {
   "cell_type": "code",
   "execution_count": null,
   "metadata": {},
   "outputs": [
    {
     "ename": "FileNotFoundError",
     "evalue": "[Errno 2] No such file or directory: './Mix/5000_soft.npy'",
     "output_type": "error",
     "traceback": [
      "\u001b[0;31m---------------------------------------------------------------------------\u001b[0m",
      "\u001b[0;31mFileNotFoundError\u001b[0m                         Traceback (most recent call last)",
      "Cell \u001b[0;32mIn[147], line 3\u001b[0m\n\u001b[1;32m      1\u001b[0m \u001b[39mimport\u001b[39;00m \u001b[39mnumpy\u001b[39;00m \u001b[39mas\u001b[39;00m \u001b[39mnp\u001b[39;00m\n\u001b[1;32m      2\u001b[0m \u001b[39m# ns = np.array([1300000, 1000000, 700000, 400000, 200000, 50000])\u001b[39;00m\n\u001b[0;32m----> 3\u001b[0m method_ntr_pval_dict \u001b[39m=\u001b[39m load_pval(ns)\n",
      "Cell \u001b[0;32mIn[146], line 22\u001b[0m, in \u001b[0;36mload_pval\u001b[0;34m(ns)\u001b[0m\n\u001b[1;32m     20\u001b[0m method_ntr_pval_dict[\u001b[39m'\u001b[39m\u001b[39mRes_Net_soft\u001b[39m\u001b[39m'\u001b[39m][n] \u001b[39m=\u001b[39m np\u001b[39m.\u001b[39mload(\u001b[39m'\u001b[39m\u001b[39m./Res_Net/\u001b[39m\u001b[39m%d\u001b[39;00m\u001b[39m_soft.npy\u001b[39m\u001b[39m'\u001b[39m\u001b[39m%\u001b[39mn)\n\u001b[1;32m     21\u001b[0m method_ntr_pval_dict[\u001b[39m'\u001b[39m\u001b[39mRes_Net_hard\u001b[39m\u001b[39m'\u001b[39m][n] \u001b[39m=\u001b[39m np\u001b[39m.\u001b[39mload(\u001b[39m'\u001b[39m\u001b[39m./Res_Net/\u001b[39m\u001b[39m%d\u001b[39;00m\u001b[39m_hard.npy\u001b[39m\u001b[39m'\u001b[39m\u001b[39m%\u001b[39mn)\n\u001b[0;32m---> 22\u001b[0m method_ntr_pval_dict[\u001b[39m'\u001b[39m\u001b[39mMix_soft\u001b[39m\u001b[39m'\u001b[39m][n] \u001b[39m=\u001b[39m np\u001b[39m.\u001b[39;49mload(\u001b[39m'\u001b[39;49m\u001b[39m./Mix/\u001b[39;49m\u001b[39m%d\u001b[39;49;00m\u001b[39m_soft.npy\u001b[39;49m\u001b[39m'\u001b[39;49m\u001b[39m%\u001b[39;49mn)\n\u001b[1;32m     23\u001b[0m method_ntr_pval_dict[\u001b[39m'\u001b[39m\u001b[39mMix_hard\u001b[39m\u001b[39m'\u001b[39m][n] \u001b[39m=\u001b[39m np\u001b[39m.\u001b[39mload(\u001b[39m'\u001b[39m\u001b[39m./Mix/\u001b[39m\u001b[39m%d\u001b[39;00m\u001b[39m_hard.npy\u001b[39m\u001b[39m'\u001b[39m\u001b[39m%\u001b[39mn)\n\u001b[1;32m     24\u001b[0m method_ntr_pval_dict[\u001b[39m'\u001b[39m\u001b[39mLBI_soft\u001b[39m\u001b[39m'\u001b[39m][n] \u001b[39m=\u001b[39m np\u001b[39m.\u001b[39mload(\u001b[39m'\u001b[39m\u001b[39m./LBI/\u001b[39m\u001b[39m%d\u001b[39;00m\u001b[39m_soft.npy\u001b[39m\u001b[39m'\u001b[39m\u001b[39m%\u001b[39mn)\n",
      "File \u001b[0;32m~/software/anaconda/envs/LFI/lib/python3.9/site-packages/numpy/lib/npyio.py:407\u001b[0m, in \u001b[0;36mload\u001b[0;34m(file, mmap_mode, allow_pickle, fix_imports, encoding)\u001b[0m\n\u001b[1;32m    405\u001b[0m     own_fid \u001b[39m=\u001b[39m \u001b[39mFalse\u001b[39;00m\n\u001b[1;32m    406\u001b[0m \u001b[39melse\u001b[39;00m:\n\u001b[0;32m--> 407\u001b[0m     fid \u001b[39m=\u001b[39m stack\u001b[39m.\u001b[39menter_context(\u001b[39mopen\u001b[39;49m(os_fspath(file), \u001b[39m\"\u001b[39;49m\u001b[39mrb\u001b[39;49m\u001b[39m\"\u001b[39;49m))\n\u001b[1;32m    408\u001b[0m     own_fid \u001b[39m=\u001b[39m \u001b[39mTrue\u001b[39;00m\n\u001b[1;32m    410\u001b[0m \u001b[39m# Code to distinguish from NumPy binary files and pickles.\u001b[39;00m\n",
      "\u001b[0;31mFileNotFoundError\u001b[0m: [Errno 2] No such file or directory: './Mix/5000_soft.npy'"
     ]
    }
   ],
   "source": [
    "import numpy as np\n",
    "# ns = np.array([1300000, 1000000, 700000, 400000, 200000, 50000])\n",
    "method_ntr_pval_dict = load_pval(ns)"
   ]
  },
  {
   "cell_type": "code",
   "execution_count": null,
   "metadata": {},
   "outputs": [],
   "source": [
    "import pickle\n",
    "with open('./pval_dict.pkl', 'wb') as f:\n",
    "        pickle.dump(method_ntr_pval_dict, f, pickle.HIGHEST_PROTOCOL)"
   ]
  }
 ],
 "metadata": {
  "kernelspec": {
   "display_name": "LFI",
   "language": "python",
   "name": "python3"
  },
  "language_info": {
   "codemirror_mode": {
    "name": "ipython",
    "version": 3
   },
   "file_extension": ".py",
   "mimetype": "text/x-python",
   "name": "python",
   "nbconvert_exporter": "python",
   "pygments_lexer": "ipython3",
   "version": "3.9.12"
  },
  "orig_nbformat": 4,
  "vscode": {
   "interpreter": {
    "hash": "b3398c4b5aa1e55195b0bb96b4f8fc5c3f4a0ffb5794362f58b6653d525fb08f"
   }
  }
 },
 "nbformat": 4,
 "nbformat_minor": 2
}

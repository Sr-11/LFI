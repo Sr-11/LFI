{
 "cells": [
  {
   "cell_type": "code",
   "execution_count": 18,
   "metadata": {},
   "outputs": [],
   "source": [
    "import numpy as np\n",
    "import torch\n",
    "import sys\n",
    "from utils_old import *\n",
    "from matplotlib import pyplot as plt\n",
    "import torch.nn as nn\n",
    "import time\n",
    "from numba import cuda\n",
    "from tqdm import tqdm, trange\n",
    "import os\n",
    "import pyroc\n",
    "import pandas as pd\n",
    "import gc\n",
    "from IPython.display import clear_output\n",
    "os.environ[\"CUDA_DEVICE_ORDER\"]=\"PCI_BUS_ID\"\n",
    "os.environ[\"CUDA_VISIBLE_DEVICES\"]=\"0\"  \n",
    "device = torch.device(\"cuda:0\")\n",
    "dtype = torch.float32\n",
    "torch.manual_seed(42)\n",
    "np.random.seed(42)"
   ]
  },
  {
   "cell_type": "code",
   "execution_count": 19,
   "metadata": {},
   "outputs": [],
   "source": [
    "\n",
    "H = 500\n",
    "out= 100\n",
    "L = 1\n",
    "class DN(torch.nn.Module):\n",
    "    def __init__(self, H=300, out=100):\n",
    "        super(DN, self).__init__()\n",
    "        self.restored = False\n",
    "        self.model = torch.nn.Sequential(\n",
    "            torch.nn.Linear(28, H, bias=True),\n",
    "            torch.nn.ReLU(),\n",
    "            torch.nn.Linear(H, H, bias=True),\n",
    "            torch.nn.ReLU(),\n",
    "            torch.nn.Linear(H, H, bias=True),\n",
    "            torch.nn.ReLU(),\n",
    "            torch.nn.Linear(H, H, bias=True),\n",
    "            torch.nn.ReLU(),\n",
    "            torch.nn.Linear(H, H, bias=True),\n",
    "            torch.nn.ReLU(),\n",
    "            torch.nn.Linear(H, out, bias=True),\n",
    "        )\n",
    "    def forward(self, input):\n",
    "        output = self.model(input)\n",
    "        return output\n",
    "\n",
    "class another_DN(torch.nn.Module):\n",
    "    def __init__(self, H=300, out=100):\n",
    "        super(another_DN, self).__init__()\n",
    "        self.restored = False\n",
    "        self.model = torch.nn.Sequential(\n",
    "            torch.nn.Linear(28, H, bias=True),\n",
    "            torch.nn.Tanh(),\n",
    "            torch.nn.Linear(H, H, bias=True),\n",
    "            torch.nn.Tanh(),\n",
    "            torch.nn.Linear(H, H, bias=True),\n",
    "            torch.nn.Tanh(),\n",
    "            torch.nn.Linear(H, H, bias=True),\n",
    "            torch.nn.Tanh(),\n",
    "            torch.nn.Linear(H, H, bias=True),\n",
    "            torch.nn.Tanh(),\n",
    "            torch.nn.Linear(H, 28, bias=True),\n",
    "        )\n",
    "    def forward(self, input):\n",
    "        output = self.model(input) + input\n",
    "        return output\n",
    "\n",
    "class Classifier(torch.nn.Module):\n",
    "    def __init__(self, H=300, layers = 5):\n",
    "        super(Classifier, self).__init__()\n",
    "        self.restored = False\n",
    "        self.model = torch.nn.Sequential(\n",
    "            torch.nn.Linear(28, H, bias=True),\n",
    "            torch.nn.ReLU(),\n",
    "            torch.nn.Linear(H, H, bias=True),\n",
    "            torch.nn.ReLU(),\n",
    "            torch.nn.Linear(H, H, bias=True),\n",
    "            torch.nn.ReLU(),\n",
    "            torch.nn.Linear(H, H, bias=True),\n",
    "            torch.nn.ReLU(),\n",
    "            torch.nn.Linear(H, 1, bias=True),\n",
    "            torch.nn.Sigmoid(),\n",
    "        )\n",
    "        if layers == 6:\n",
    "            self.model = torch.nn.Sequential(\n",
    "                torch.nn.Linear(28, H, bias=True),\n",
    "                torch.nn.ReLU(),\n",
    "                torch.nn.Linear(H, H, bias=True),\n",
    "                torch.nn.ReLU(),\n",
    "                torch.nn.Linear(H, H, bias=True),\n",
    "                torch.nn.ReLU(),\n",
    "                torch.nn.Linear(H, H, bias=True),\n",
    "                torch.nn.ReLU(),\n",
    "                torch.nn.Linear(H, H, bias=True),\n",
    "                torch.nn.ReLU(),\n",
    "                torch.nn.Linear(H, 1, bias=True),\n",
    "                torch.nn.Sigmoid(),\n",
    "            )\n",
    "    def forward(self, input):\n",
    "        output = self.model(input)\n",
    "        return output"
   ]
  },
  {
   "cell_type": "code",
   "execution_count": 20,
   "metadata": {},
   "outputs": [],
   "source": [
    "dataset = np.load('HIGGS.npy')\n",
    "dataset_P = dataset[dataset[:,0]==0][:, 1:] # background (5829122, 28)\n",
    "dataset_Q = dataset[dataset[:,0]==1][:, 1:] # signal     (5170877, 28)\n",
    "del dataset"
   ]
  },
  {
   "cell_type": "code",
   "execution_count": 21,
   "metadata": {},
   "outputs": [],
   "source": [
    "n_train = 1300000\n",
    "path ='./Res_Net/checkpoint1300000/0/'\n",
    "model = DN(300, 100).cuda()\n",
    "another_model = another_DN(300, 100).cuda()\n",
    "model,another_model,epsilonOPT,sigmaOPT,sigma0OPT,cst = load_model(model, another_model, path)"
   ]
  },
  {
   "cell_type": "code",
   "execution_count": 22,
   "metadata": {},
   "outputs": [],
   "source": [
    "def generate_PQ(n_test, Samples, batch_size = 10000, If_n_large_MonteCarlo = 1000):\n",
    "    '''\n",
    "    Input: \n",
    "        n_test: n_test in our paper, then we generate $X^{test}$ and $Y^{test}$ used to compute MMD.\n",
    "        Samples: we generate 'Samples' samples from P and Q, then compute their scores f(sample;X_test,Y_test)\n",
    "    Output:\n",
    "        X_test, Y_test: generate from P and Q, each with size (n_test, 28)\n",
    "        P_scores, Q_scores: scores of samples from P and Q, each with size (Samples,)\n",
    "        EKxx, EKyy, EKxy: expectation of K(X,X), K(Y,Y), K(X,Y), where X~P_X, Y~P_Y. Then the gamma in our paper can be computed from these three values.\n",
    "    '''\n",
    "    X_test = dataset_P[np.random.choice(n_train, n_test, replace=False)]\n",
    "    Y_test = dataset_Q[np.random.choice(n_train, n_test, replace=False)]\n",
    "    EKxx, EKyy, EKxy = compute_gamma(X_test, Y_test, model, another_model, epsilonOPT, sigmaOPT, sigma0OPT, cst, MonteCarlo=If_n_large_MonteCarlo)\n",
    "    batches = (Samples-1)//batch_size + 1\n",
    "    P_scores = np.zeros(Samples)\n",
    "    Q_scores = np.zeros(Samples)\n",
    "    for i in trange(batches):\n",
    "        remain = batch_size\n",
    "        if i==batches-1:\n",
    "            remain = Samples - batch_size*(batches-1)\n",
    "        S_hand = np.concatenate((dataset_P[np.random.choice(dataset_P.shape[0], remain, replace=False)],\n",
    "                    dataset_Q[np.random.choice(dataset_Q.shape[0], remain, replace=False)]), axis=0)\n",
    "        S_hand = MatConvert(S_hand, device, dtype)\n",
    "        PQhat_hand = compute_score_func(S_hand, X_test, Y_test, \n",
    "                    model, another_model, epsilonOPT, sigmaOPT, sigma0OPT, cst,\n",
    "                    M = n_test)\n",
    "        PQhat_hand = PQhat_hand.cpu().detach().numpy()\n",
    "        P_scores[i*batch_size: i*batch_size+remain] = PQhat_hand[:remain]\n",
    "        Q_scores[i*batch_size: i*batch_size+remain] = PQhat_hand[remain:]\n",
    "    return X_test, Y_test, P_scores, Q_scores, EKxx, EKyy, EKxy\n"
   ]
  },
  {
   "cell_type": "code",
   "execution_count": 23,
   "metadata": {},
   "outputs": [],
   "source": [
    "class PQ_data():\n",
    "    '''\n",
    "    Define a class to compute the p-value, the Type I/II error.\n",
    "    '''\n",
    "    def __init__(self, P_scores, Q_scores, EKxx, EKyy, EKxy):\n",
    "        self.P_scores = P_scores\n",
    "        self.Q_scores = Q_scores\n",
    "        self.P_mean = np.mean(P_scores)\n",
    "        self.P_std = np.std(P_scores)\n",
    "        self.Q_mean = np.mean(Q_scores)\n",
    "        self.Q_std = np.std(Q_scores)\n",
    "        self.EKxx = EKxx\n",
    "        self.EKyy = EKyy\n",
    "        self.EKxy = EKxy\n",
    "    def pval_T_m_in_sigma(self, pi, m, use_gaussian, MonteCarlo):\n",
    "        '''\n",
    "        Compute the expected significance of discovery.\n",
    "        Input:\n",
    "            pi: the strength of the mixture in our paper.\n",
    "            m: the number of samples, i.e. the size of Z in our paper.\n",
    "            use_gaussian: if use Gaussian Approximation, then use_gaussian = True, else use_gaussian = False.\n",
    "            MonteCarlo: when use_gaussian = False, we use Monte Carlo to approximate the expectation.\n",
    "        Output:\n",
    "            p: the expected significance of discovery (in units of Gaussian sigma)\n",
    "        '''\n",
    "        T = pi*self.Q_mean + (1-pi)*self.P_mean\n",
    "        P_scores = self.P_scores\n",
    "        mean = self.P_mean\n",
    "        std = self.P_std\n",
    "        if m==1:\n",
    "            p = np.mean(P_scores > T)\n",
    "            p = -scipy.stats.norm.ppf(p)\n",
    "        if use_gaussian:\n",
    "            p = (T-mean)/std*np.sqrt(m)\n",
    "        else:\n",
    "            T_mix_MonteCarlo_list = np.zeros(MonteCarlo)\n",
    "            for i in range(MonteCarlo):\n",
    "                idx = np.random.choice(P_scores.shape[0], m, replace=False)\n",
    "                T_mix_MonteCarlo_list[i] = np.mean(P_scores[idx])\n",
    "            p = np.mean(T_mix_MonteCarlo_list > T)\n",
    "            p = -scipy.stats.norm.ppf(p)\n",
    "        self.p = p\n",
    "        return p\n",
    "    def type_1_error_H0(self, pi, m, use_gaussian, MonteCarlo):\n",
    "        '''\n",
    "        Compute the estimated Type I error.\n",
    "        Input:\n",
    "            pi: the strength of the mixture in our paper.\n",
    "            m: the number of samples, i.e. the size of Z in our paper.\n",
    "            use_gaussian: if use Gaussian Approximation, then use_gaussian = True, else use_gaussian = False.\n",
    "            MonteCarlo: when use_gaussian = False, we use Monte Carlo to approximate the expectation.\n",
    "        Output:\n",
    "            type_1_error: the estimated Type I error.   \n",
    "        '''\n",
    "        P_scores = self.P_scores\n",
    "        Q_scores = self.Q_scores\n",
    "        mean = self.P_mean\n",
    "        std = self.P_std\n",
    "        gamma = self.EKxx*(pi/2-1) + self.EKxy*(1-pi) + self.EKyy*(pi/2)\n",
    "        self.gamma = gamma\n",
    "        if m==1:\n",
    "            type_1_error = np.mean(P_scores > gamma)\n",
    "        if use_gaussian:\n",
    "            type_1_error = 1-scipy.stats.norm.cdf((gamma-mean)/std*np.sqrt(m))\n",
    "        else:\n",
    "            MonteCarlo_list = np.zeros(MonteCarlo)\n",
    "            for i in range(MonteCarlo):\n",
    "                idx = np.random.choice(P_scores.shape[0], m, replace=False)\n",
    "                MonteCarlo_list[i] = np.mean(P_scores[idx])\n",
    "            type_1_error = np.mean(MonteCarlo_list > gamma)\n",
    "        self.type_1_error = type_1_error\n",
    "        return type_1_error\n",
    "    def type_2_error_H1(self, pi, m, use_gaussian, MonteCarlo):\n",
    "        '''\n",
    "        Compute the estimated Type II error.\n",
    "        Input:\n",
    "            pi: the strength of the mixture in our paper.\n",
    "            m: the number of samples, i.e. the size of Z in our paper.\n",
    "            use_gaussian: if use Gaussian Approximation, then use_gaussian = True, else use_gaussian = False.\n",
    "            MonteCarlo: when use_gaussian = False, we use Monte Carlo to approximate the expectation.\n",
    "        Output:\n",
    "            type_2_error: the estimated Type II error.              \n",
    "        '''\n",
    "        P_scores = self.P_scores\n",
    "        Q_scores = self.Q_scores\n",
    "        P_mean = self.P_mean\n",
    "        P_std = self.P_std\n",
    "        Q_mean = self.Q_mean\n",
    "        Q_std = self.Q_std\n",
    "        gamma = self.EKxx*(pi/2-1) + self.EKxy*(1-pi) + self.EKyy*(pi/2)\n",
    "        self.gamma = gamma\n",
    "        if m==1:\n",
    "            type_2_error = np.mean(Q_scores < gamma)\n",
    "        if use_gaussian:\n",
    "            mean = Q_mean*pi + P_mean*(1-pi)\n",
    "            std = np.sqrt(pi*Q_std**2 + (1-pi)*P_std**2)\n",
    "            type_2_error = scipy.stats.norm.cdf((gamma-mean)/std*np.sqrt(m))\n",
    "        else:\n",
    "            MonteCarlo_list = np.zeros(MonteCarlo)\n",
    "            for i in range(MonteCarlo):\n",
    "                Signals_idx = np.random.choice(Q_scores.shape[0], int(m*pi), replace=False)\n",
    "                Backgrounds_idx = np.random.choice(P_scores.shape[0], int(m*(1-pi)), replace=False)\n",
    "                MonteCarlo_list[i] = np.mean(np.concatenate((Q_scores[Signals_idx], P_scores[Backgrounds_idx])))\n",
    "            type_2_error = np.mean(MonteCarlo_list < gamma)\n",
    "        self.type_2_error = type_2_error\n",
    "        return type_2_error"
   ]
  },
  {
   "cell_type": "code",
   "execution_count": 24,
   "metadata": {},
   "outputs": [
    {
     "data": {
      "text/plain": [
       "4219"
      ]
     },
     "execution_count": 24,
     "metadata": {},
     "output_type": "execute_result"
    }
   ],
   "source": [
    "torch.cuda.empty_cache()\n",
    "gc.collect()"
   ]
  },
  {
   "attachments": {},
   "cell_type": "markdown",
   "metadata": {},
   "source": [
    "# Just for giving some intuition "
   ]
  },
  {
   "cell_type": "code",
   "execution_count": 25,
   "metadata": {},
   "outputs": [
    {
     "name": "stderr",
     "output_type": "stream",
     "text": [
      "100%|██████████| 10/10 [00:08<00:00,  1.14it/s]\n"
     ]
    },
    {
     "data": {
      "text/plain": [
       "<matplotlib.legend.Legend at 0x7f6525368370>"
      ]
     },
     "execution_count": 25,
     "metadata": {},
     "output_type": "execute_result"
    },
    {
     "data": {
      "image/png": "[encoded data removed]",
      "text/plain": [
       "<Figure size 640x480 with 1 Axes>"
      ]
     },
     "metadata": {},
     "output_type": "display_data"
    }
   ],
   "source": [
    "n_test = 20000\n",
    "Samples = 100000\n",
    "X_test, Y_test, P_scores, Q_scores, EKxx, EKyy, EKxy = generate_PQ(n_test, Samples=100000, batch_size=10000, If_n_large_MonteCarlo = 10)\n",
    "plt.hist(P_scores, bins=100, alpha=0.5, label='P(Background)', color='r')\n",
    "plt.hist(Q_scores, bins=100, alpha=0.5, label='Q(Signal)', color='b')\n",
    "My_class = PQ_data(P_scores, Q_scores, EKxx, EKyy, EKxy)\n",
    "m = 100\n",
    "pi = 0.2\n",
    "Pval = My_class.pval_T_m_in_sigma(pi, m, use_gaussian=1, MonteCarlo=0)\n",
    "Type1 = My_class.type_1_error_H0(pi, m, use_gaussian=1, MonteCarlo=0)\n",
    "Type2 = My_class.type_2_error_H1(pi, m, use_gaussian=1, MonteCarlo=0)\n",
    "plt.axvline(My_class.gamma, color='g', label='threshold $\\gamma$')\n",
    "plt.axvline(My_class.P_mean, color='r', label='P mean')\n",
    "plt.axvline(My_class.Q_mean, color='b', label='Q mean')\n",
    "title1 = '$n_{train}=1.3e6, n_{test}=%d$'%n_test\n",
    "title2 = 'm=%d, $\\pi=%.2f$'%(m, pi)\n",
    "title3 = 'Pval= %.3f, type1 error= %.3f, type2 error= %.3f'%(Pval, Type1, Type2)\n",
    "plt.title(title1+'\\n'+title2+'\\n'+title3)\n",
    "Mix_scores = np.concatenate((P_scores[0:int(Samples*(1-pi))], Q_scores[0:int(Samples*pi)]))\n",
    "plt.hist(Mix_scores, bins=100, alpha=0.5, label='Mixed distribution', color='y')\n",
    "Mix_mean = np.mean(Mix_scores)\n",
    "plt.axvline(Mix_mean, color='y', label='Mixed mean')\n",
    "plt.legend()"
   ]
  },
  {
   "attachments": {},
   "cell_type": "markdown",
   "metadata": {},
   "source": [
    "# $\\pi=0.1$, use Gaussian approximation"
   ]
  },
  {
   "cell_type": "code",
   "execution_count": 26,
   "metadata": {},
   "outputs": [],
   "source": [
    "pi= 0.1\n",
    "# n_list is the list of all n_test to plot\n",
    "n_list = np.array([2, 6, 10, 20, 50, 100, 200, 500, 1000, 2000, 5000, 10000,])\n",
    "# m_list is the list of all m to plot\n",
    "m_list = np.array([1, 2, 6, 10, 20, 50, 100, 200, 500, 1000, 2000, 5000, 10000,])\n",
    "\n",
    "n_list = 10**np.linspace(0.5, 4.3, 40)\n",
    "n_list = n_list.astype(int)\n",
    "m_list = 10**np.linspace(0.5, 4.3, 40)\n",
    "m_list = m_list.astype(int)\n",
    "\n",
    "repeat_sample_n_test = 2000\n",
    "Pval_mat = np.zeros((len(n_list), len(m_list),repeat_sample_n_test))\n",
    "Type1_mat = np.zeros((len(n_list), len(m_list),repeat_sample_n_test))\n",
    "Type2_mat = np.zeros((len(n_list), len(m_list),repeat_sample_n_test))\n",
    "Use_Gaussian = 1"
   ]
  },
  {
   "cell_type": "code",
   "execution_count": null,
   "metadata": {},
   "outputs": [],
   "source": [
    "for r in range(repeat_sample_n_test):\n",
    "    for i in trange(len(n_list)):\n",
    "        with torch.no_grad():\n",
    "            torch.cuda.empty_cache()\n",
    "            n_test = n_list[i]\n",
    "            X_test, Y_test, P_scores, Q_scores, EKxx, EKyy, EKxy = generate_PQ(n_test, Samples=20000, batch_size=4000, If_n_large_MonteCarlo=10)\n",
    "            My_class = PQ_data(P_scores, Q_scores, EKxx, EKyy, EKxy)\n",
    "            for j in range(len(m_list)):\n",
    "                m = m_list[j]\n",
    "                Pval_mat[i,j,r] += My_class.pval_T_m_in_sigma(pi, m, use_gaussian=Use_Gaussian, MonteCarlo=0)\n",
    "                Type1_mat[i,j,r] += My_class.type_1_error_H0(pi, m, use_gaussian=Use_Gaussian, MonteCarlo=0)\n",
    "                Type2_mat[i,j,r] += My_class.type_2_error_H1(pi, m, use_gaussian=Use_Gaussian, MonteCarlo=0)\n",
    "            del My_class, X_test, Y_test, P_scores, Q_scores, EKxx, EKyy, EKxy\n",
    "            gc.collect()\n",
    "        clear_output()   \n",
    "        print(r)"
   ]
  },
  {
   "cell_type": "code",
   "execution_count": 32,
   "metadata": {},
   "outputs": [],
   "source": [
    "Type1_mat  = np.mean(Type1_mat[:,:,0:r], axis=2)\n",
    "Type2_mat  = np.mean(Type2_mat[:,:,0:r], axis=2)\n",
    "Type12_mat = Type1_mat + Type2_mat\n",
    "np.save('Type12_mat.npy', Type12_mat)"
   ]
  },
  {
   "cell_type": "code",
   "execution_count": 36,
   "metadata": {},
   "outputs": [
    {
     "name": "stdout",
     "output_type": "stream",
     "text": [
      "[1.41601572e-16 6.02303597e-12 1.13950872e-08 2.38005366e-06\n",
      " 1.04454774e-04 1.51920741e-03 1.01096864e-02 3.86778616e-02\n",
      " 1.00000000e-01 1.95908922e-01 3.15364473e-01 4.41760225e-01\n",
      " 5.60804328e-01 6.64006085e-01 7.48354645e-01 8.14469651e-01\n",
      " 8.64777269e-01 9.02259868e-01 9.29773627e-01 9.49757624e-01\n",
      " 9.64164347e-01]\n"
     ]
    },
    {
     "data": {
      "text/plain": [
       "Text(0.5, 1.0, 'Type I error + II error')"
      ]
     },
     "execution_count": 36,
     "metadata": {},
     "output_type": "execute_result"
    },
    {
     "data": {
      "image/png": "[encoded data removed]",
      "text/plain": [
       "<Figure size 640x480 with 2 Axes>"
      ]
     },
     "metadata": {},
     "output_type": "display_data"
    }
   ],
   "source": [
    "Type12_mat = np.load('Type12_mat.npy')\n",
    "levels = 20\n",
    "fig, ax = plt.subplots()\n",
    "Type12_mat_log = -np.log10(-np.log10(Type12_mat))\n",
    "contourf_ = ax.contourf(np.log10(n_list), np.log10(m_list), Type12_mat_log,levels=levels)\n",
    "cb = fig.colorbar(contourf_)\n",
    "\n",
    "log_log_p_list = cb.mappable.levels # np.linspace(Type12_mat_log.min()+0.00001, Type12_mat_log.max()-0.000001, levels+1)\n",
    "real_p_list = 10**(-(10**(-log_log_p_list)))\n",
    "# cb.set_ticks(log_log_p_list)\n",
    "# # numpy to str list with 3 decimal\n",
    "print(real_p_list)\n",
    "real_p_list = np.around(real_p_list, decimals=4)\n",
    "real_p_list = real_p_list.astype(str)\n",
    "# real_p_list[0] = '1.42e-16'\n",
    "# real_p_list[1] = '6.02e-12'\n",
    "# real_p_list[2] = '1.14e-08'\n",
    "# real_p_list[3] = '2.38e-06'\n",
    "cb.set_ticks(log_log_p_list[1:-1:2])\n",
    "cb.set_ticklabels(real_p_list[1:-1:2])\n",
    "\n",
    "plt.xlabel('$lg(n_{test})$')\n",
    "plt.ylabel('lg(m)')\n",
    "plt.title('Type I error + II error')\n",
    "# plt.xlim(1, 4)\n",
    "# plt.ylim(1, 4)"
   ]
  },
  {
   "cell_type": "code",
   "execution_count": null,
   "metadata": {},
   "outputs": [],
   "source": []
  }
 ],
 "metadata": {
  "kernelspec": {
   "display_name": "Python 3 (ipykernel)",
   "language": "python",
   "name": "python3"
  },
  "language_info": {
   "codemirror_mode": {
    "name": "ipython",
    "version": 3
   },
   "file_extension": ".py",
   "mimetype": "text/x-python",
   "name": "python",
   "nbconvert_exporter": "python",
   "pygments_lexer": "ipython3",
   "version": "3.9.12"
  },
  "vscode": {
   "interpreter": {
    "hash": "b3398c4b5aa1e55195b0bb96b4f8fc5c3f4a0ffb5794362f58b6653d525fb08f"
   }
  }
 },
 "nbformat": 4,
 "nbformat_minor": 4
}

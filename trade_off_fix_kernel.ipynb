{
 "cells": [
  {
   "cell_type": "code",
   "execution_count": 19,
   "metadata": {},
   "outputs": [],
   "source": [
    "import numpy as np\n",
    "import torch\n",
    "import sys\n",
    "from utils_old import *\n",
    "import utils\n",
    "from matplotlib import pyplot as plt\n",
    "import torch.nn as nn\n",
    "import time\n",
    "from numba import cuda\n",
    "from tqdm import tqdm, trange\n",
    "import os\n",
    "import pyroc\n",
    "import pandas as pd\n",
    "import gc\n",
    "from IPython.display import clear_output\n",
    "os.environ[\"CUDA_DEVICE_ORDER\"]=\"PCI_BUS_ID\"\n",
    "os.environ[\"CUDA_VISIBLE_DEVICES\"]=\"6\"  \n",
    "device = torch.device(\"cuda:0\")\n",
    "dtype = torch.float32\n",
    "torch.manual_seed(42)\n",
    "np.random.seed(42)"
   ]
  },
  {
   "cell_type": "code",
   "execution_count": 20,
   "metadata": {},
   "outputs": [],
   "source": [
    "\n",
    "H = 500\n",
    "out= 100\n",
    "L = 1\n",
    "class DN(torch.nn.Module):\n",
    "    def __init__(self, H=300, out=100):\n",
    "        super(DN, self).__init__()\n",
    "        self.restored = False\n",
    "        self.model = torch.nn.Sequential(\n",
    "            torch.nn.Linear(28, H, bias=True),\n",
    "            torch.nn.ReLU(),\n",
    "            torch.nn.Linear(H, H, bias=True),\n",
    "            torch.nn.ReLU(),\n",
    "            torch.nn.Linear(H, H, bias=True),\n",
    "            torch.nn.ReLU(),\n",
    "            torch.nn.Linear(H, H, bias=True),\n",
    "            torch.nn.ReLU(),\n",
    "            torch.nn.Linear(H, H, bias=True),\n",
    "            torch.nn.ReLU(),\n",
    "            torch.nn.Linear(H, out, bias=True),\n",
    "        )\n",
    "    def forward(self, input):\n",
    "        output = self.model(input)\n",
    "        return output\n",
    "\n",
    "class another_DN(torch.nn.Module):\n",
    "    def __init__(self, H=300, out=100):\n",
    "        super(another_DN, self).__init__()\n",
    "        self.restored = False\n",
    "        self.model = torch.nn.Sequential(\n",
    "            torch.nn.Linear(28, H, bias=True),\n",
    "            torch.nn.Tanh(),\n",
    "            torch.nn.Linear(H, H, bias=True),\n",
    "            torch.nn.Tanh(),\n",
    "            torch.nn.Linear(H, H, bias=True),\n",
    "            torch.nn.Tanh(),\n",
    "            torch.nn.Linear(H, H, bias=True),\n",
    "            torch.nn.Tanh(),\n",
    "            torch.nn.Linear(H, H, bias=True),\n",
    "            torch.nn.Tanh(),\n",
    "            torch.nn.Linear(H, 28, bias=True),\n",
    "        )\n",
    "    def forward(self, input):\n",
    "        output = self.model(input) + input\n",
    "        return output\n",
    "\n",
    "class Classifier(torch.nn.Module):\n",
    "    def __init__(self, H=300, layers = 5):\n",
    "        super(Classifier, self).__init__()\n",
    "        self.restored = False\n",
    "        self.model = torch.nn.Sequential(\n",
    "            torch.nn.Linear(28, H, bias=True),\n",
    "            torch.nn.ReLU(),\n",
    "            torch.nn.Linear(H, H, bias=True),\n",
    "            torch.nn.ReLU(),\n",
    "            torch.nn.Linear(H, H, bias=True),\n",
    "            torch.nn.ReLU(),\n",
    "            torch.nn.Linear(H, H, bias=True),\n",
    "            torch.nn.ReLU(),\n",
    "            torch.nn.Linear(H, 1, bias=True),\n",
    "            torch.nn.Sigmoid(),\n",
    "        )\n",
    "        if layers == 6:\n",
    "            self.model = torch.nn.Sequential(\n",
    "                torch.nn.Linear(28, H, bias=True),\n",
    "                torch.nn.ReLU(),\n",
    "                torch.nn.Linear(H, H, bias=True),\n",
    "                torch.nn.ReLU(),\n",
    "                torch.nn.Linear(H, H, bias=True),\n",
    "                torch.nn.ReLU(),\n",
    "                torch.nn.Linear(H, H, bias=True),\n",
    "                torch.nn.ReLU(),\n",
    "                torch.nn.Linear(H, H, bias=True),\n",
    "                torch.nn.ReLU(),\n",
    "                torch.nn.Linear(H, 1, bias=True),\n",
    "                torch.nn.Sigmoid(),\n",
    "            )\n",
    "    def forward(self, input):\n",
    "        output = self.model(input)\n",
    "        return output"
   ]
  },
  {
   "cell_type": "code",
   "execution_count": 21,
   "metadata": {},
   "outputs": [],
   "source": [
    "dataset = np.load('HIGGS.npy')\n",
    "dataset_P = dataset[dataset[:,0]==0][:, 1:] # background (5829122, 28)\n",
    "dataset_Q = dataset[dataset[:,0]==1][:, 1:] # signal     (5170877, 28)\n",
    "del dataset"
   ]
  },
  {
   "cell_type": "code",
   "execution_count": 22,
   "metadata": {},
   "outputs": [],
   "source": [
    "# 看(n_eval,m)\n",
    "# 选定 X_eval, Y_eval, 还要算phi=Eq[k(y,z)]-Ep[k(x,z)]的threhold在哪里\n",
    "# 必须手算!\n",
    "def generate_PQ(n_eval, Samples, batch_size = 5000, If_n_large_MonteCarlo = 1000):\n",
    "    X_eval = dataset_P[np.random.choice(dataset_P.shape[0], n_eval, replace=False)]\n",
    "    Y_eval = dataset_Q[np.random.choice(dataset_Q.shape[0], n_eval, replace=False)]\n",
    "    EKxx, EKyy, EKxy = compute_gamma(X_eval, Y_eval, model, another_model, epsilonOPT, sigmaOPT, sigma0OPT, cst, MonteCarlo=If_n_large_MonteCarlo)\n",
    "    # 算定下来X_eval, Y_eval之后phi的真实的分布\n",
    "    batches = (Samples-1)//batch_size + 1\n",
    "    P_scores = np.zeros(Samples)\n",
    "    Q_scores = np.zeros(Samples)\n",
    "    for i in trange(batches):\n",
    "        remain = batch_size\n",
    "        if i==batches-1:\n",
    "            remain = Samples - batch_size*(batches-1)\n",
    "        S_hand = np.concatenate((dataset_P[np.random.choice(dataset_P.shape[0], remain, replace=False)],\n",
    "                    dataset_Q[np.random.choice(dataset_Q.shape[0], remain, replace=False)]), axis=0)\n",
    "        S_hand = MatConvert(S_hand, device, dtype)\n",
    "        PQhat_hand = compute_score_func(S_hand, X_eval, Y_eval, \n",
    "                    model, another_model, epsilonOPT, sigmaOPT, sigma0OPT, cst,\n",
    "                    M = n_eval)\n",
    "        PQhat_hand = PQhat_hand.cpu().detach().numpy()\n",
    "        P_scores[i*batch_size: i*batch_size+remain] = PQhat_hand[:remain]\n",
    "        Q_scores[i*batch_size: i*batch_size+remain] = PQhat_hand[remain:]\n",
    "    return X_eval, Y_eval, P_scores, Q_scores, EKxx, EKyy, EKxy\n"
   ]
  },
  {
   "cell_type": "code",
   "execution_count": 23,
   "metadata": {},
   "outputs": [],
   "source": [
    "# 注意P_scores, Q_scores已经考虑到n_eval贡献的方差\n",
    "# EKxx, EKyy, EKxy完全是n_eval决定\n",
    "class PQ_data():\n",
    "    def __init__(self, P_scores, Q_scores, EKxx, EKyy, EKxy):\n",
    "        self.P_scores = P_scores\n",
    "        self.Q_scores = Q_scores\n",
    "        self.P_mean = np.mean(P_scores)\n",
    "        self.P_std = np.std(P_scores)\n",
    "        self.Q_mean = np.mean(Q_scores)\n",
    "        self.Q_std = np.std(Q_scores)\n",
    "        self.EKxx = EKxx\n",
    "        self.EKyy = EKyy\n",
    "        self.EKxy = EKxy\n",
    "    def pval_T_m_in_sigma(self, pi, m, use_gaussian, MonteCarlo):\n",
    "        T = pi*self.Q_mean + (1-pi)*self.P_mean\n",
    "        # use_gaussian: 是否用高斯近似, 0是用MonteCarlo近似，1是用高斯近似\n",
    "        P_scores = self.P_scores\n",
    "        mean = self.P_mean\n",
    "        std = self.P_std\n",
    "        if m==1:\n",
    "            p = np.mean(P_scores > T)\n",
    "            p = -scipy.stats.norm.ppf(p)\n",
    "        if use_gaussian:\n",
    "            p = (T-mean)/std*np.sqrt(m)\n",
    "        else:\n",
    "            T_mix_MonteCarlo_list = np.zeros(MonteCarlo)\n",
    "            for i in range(MonteCarlo):\n",
    "                idx = np.random.choice(P_scores.shape[0], m, replace=False)\n",
    "                T_mix_MonteCarlo_list[i] = np.mean(P_scores[idx])\n",
    "            p = np.mean(T_mix_MonteCarlo_list > T)\n",
    "            p = -scipy.stats.norm.ppf(p)\n",
    "        self.p = p\n",
    "        return p\n",
    "    def type_1_error_H0(self, pi, m, use_gaussian, MonteCarlo):\n",
    "        P_scores = self.P_scores\n",
    "        Q_scores = self.Q_scores\n",
    "        mean = self.P_mean\n",
    "        std = self.P_std\n",
    "        P_mean = self.P_mean\n",
    "        P_std = self.P_std\n",
    "        Q_mean = self.Q_mean\n",
    "        gamma = self.EKxx*(pi/2-1) + self.EKxy*(1-pi) + self.EKyy*(pi/2)\n",
    "        #gamma = (pi/2)*Q_mean + (1-pi/2)*P_mean\n",
    "        self.gamma = gamma\n",
    "        if m==1:\n",
    "            type_1_error = np.mean(P_scores > gamma)\n",
    "        if use_gaussian:\n",
    "            type_1_error = 1-scipy.stats.norm.cdf((gamma-mean)/std*np.sqrt(m))\n",
    "        else:\n",
    "            MonteCarlo_list = np.zeros(MonteCarlo)\n",
    "            for i in range(MonteCarlo):\n",
    "                idx = np.random.choice(P_scores.shape[0], m, replace=False)\n",
    "                MonteCarlo_list[i] = np.mean(P_scores[idx])\n",
    "            type_1_error = np.mean(MonteCarlo_list > gamma)\n",
    "        self.type_1_error = type_1_error\n",
    "        return type_1_error\n",
    "    def type_2_error_H1(self, pi, m, use_gaussian, MonteCarlo):\n",
    "        P_scores = self.P_scores\n",
    "        Q_scores = self.Q_scores\n",
    "        P_mean = self.P_mean\n",
    "        P_std = self.P_std\n",
    "        Q_mean = self.Q_mean\n",
    "        Q_std = self.Q_std\n",
    "        gamma = self.EKxx*(pi/2-1) + self.EKxy*(1-pi) + self.EKyy*(pi/2)\n",
    "        #gamma = (pi/2)*Q_mean + (1-pi/2)*P_mean\n",
    "        self.gamma = gamma\n",
    "        if m==1:\n",
    "            type_2_error = np.mean(Q_scores < gamma)\n",
    "        if use_gaussian:\n",
    "            mean = Q_mean*pi + P_mean*(1-pi)\n",
    "            std = np.sqrt(pi*Q_std**2 + (1-pi)*P_std**2 + pi*(1-pi)*(P_mean-Q_mean)**2)\n",
    "            type_2_error = scipy.stats.norm.cdf((gamma-mean)/std*np.sqrt(m))\n",
    "        else:\n",
    "            MonteCarlo_list = np.zeros(MonteCarlo)\n",
    "            for i in range(MonteCarlo):\n",
    "                Signals_idx = np.random.choice(Q_scores.shape[0], int(m*pi), replace=False)\n",
    "                Backgrounds_idx = np.random.choice(P_scores.shape[0], int(m*(1-pi)), replace=False)\n",
    "                MonteCarlo_list[i] = np.mean(np.concatenate((Q_scores[Signals_idx], P_scores[Backgrounds_idx])))\n",
    "            type_2_error = np.mean(MonteCarlo_list < gamma)\n",
    "        self.type_2_error = type_2_error\n",
    "        return type_2_error"
   ]
  },
  {
   "cell_type": "code",
   "execution_count": 24,
   "metadata": {},
   "outputs": [
    {
     "data": {
      "text/plain": [
       "1822"
      ]
     },
     "execution_count": 24,
     "metadata": {},
     "output_type": "execute_result"
    }
   ],
   "source": [
    "torch.cuda.empty_cache()\n",
    "gc.collect()"
   ]
  },
  {
   "attachments": {},
   "cell_type": "markdown",
   "metadata": {},
   "source": [
    "# 固定pi=0.1, Gaussian\n",
    "所以对每一组(n,m,pi)有三个(p-val, typeI, typeII)  \n",
    "pval = pval(平均H1) = 平均H1后面的尾  \n",
    "type-I = gamma后面  "
   ]
  },
  {
   "cell_type": "code",
   "execution_count": 25,
   "metadata": {},
   "outputs": [],
   "source": [
    "pi= 0.1\n",
    "\n",
    "n_list = 10**np.linspace(1, 4, 30)\n",
    "n_list = n_list.astype(int)\n",
    "m_list = 10**np.linspace(1, 4, 30)\n",
    "m_list = m_list.astype(int)\n",
    "\n",
    "repeat_sample_n_eval = 10\n",
    "Pval_mat = np.zeros((len(n_list), len(m_list), repeat_sample_n_eval))\n",
    "Type1_mat = np.zeros((len(n_list), len(m_list), repeat_sample_n_eval))\n",
    "Type2_mat = np.zeros((len(n_list), len(m_list), repeat_sample_n_eval))\n",
    "Use_Gaussian = 1"
   ]
  },
  {
   "cell_type": "code",
   "execution_count": 26,
   "metadata": {},
   "outputs": [],
   "source": [
    "# Pval_mat = np.load('Pval_mat.npy')\n",
    "#Pval_mat = np.mean(Pval_mat[:,:,0:2], axis=2)\n",
    "Type1_mat = np.mean(Type1_mat[:,:,0:2], axis=2)\n",
    "Type2_mat = np.mean(Type2_mat[:,:,0:2], axis=2)\n"
   ]
  },
  {
   "cell_type": "code",
   "execution_count": 27,
   "metadata": {},
   "outputs": [
    {
     "ename": "FileNotFoundError",
     "evalue": "[Errno 2] No such file or directory: 'Pval_mat.npy'",
     "output_type": "error",
     "traceback": [
      "\u001b[0;31m---------------------------------------------------------------------------\u001b[0m",
      "\u001b[0;31mFileNotFoundError\u001b[0m                         Traceback (most recent call last)",
      "Cell \u001b[0;32mIn[27], line 1\u001b[0m\n\u001b[0;32m----> 1\u001b[0m Pval_mat \u001b[39m=\u001b[39m np\u001b[39m.\u001b[39;49mload(\u001b[39m'\u001b[39;49m\u001b[39mPval_mat.npy\u001b[39;49m\u001b[39m'\u001b[39;49m)\n\u001b[1;32m      2\u001b[0m n_list_P_mat \u001b[39m=\u001b[39m \u001b[39m10\u001b[39m\u001b[39m*\u001b[39m\u001b[39m*\u001b[39mnp\u001b[39m.\u001b[39mlinspace(\u001b[39m0.5\u001b[39m, \u001b[39m4.3\u001b[39m, \u001b[39m50\u001b[39m)\n\u001b[1;32m      3\u001b[0m m_list_P_mat \u001b[39m=\u001b[39m \u001b[39m10\u001b[39m\u001b[39m*\u001b[39m\u001b[39m*\u001b[39mnp\u001b[39m.\u001b[39mlinspace(\u001b[39m0\u001b[39m, \u001b[39m4.3\u001b[39m, \u001b[39m50\u001b[39m)\n",
      "File \u001b[0;32m~/software/anaconda/envs/LFI/lib/python3.9/site-packages/numpy/lib/npyio.py:407\u001b[0m, in \u001b[0;36mload\u001b[0;34m(file, mmap_mode, allow_pickle, fix_imports, encoding)\u001b[0m\n\u001b[1;32m    405\u001b[0m     own_fid \u001b[39m=\u001b[39m \u001b[39mFalse\u001b[39;00m\n\u001b[1;32m    406\u001b[0m \u001b[39melse\u001b[39;00m:\n\u001b[0;32m--> 407\u001b[0m     fid \u001b[39m=\u001b[39m stack\u001b[39m.\u001b[39menter_context(\u001b[39mopen\u001b[39;49m(os_fspath(file), \u001b[39m\"\u001b[39;49m\u001b[39mrb\u001b[39;49m\u001b[39m\"\u001b[39;49m))\n\u001b[1;32m    408\u001b[0m     own_fid \u001b[39m=\u001b[39m \u001b[39mTrue\u001b[39;00m\n\u001b[1;32m    410\u001b[0m \u001b[39m# Code to distinguish from NumPy binary files and pickles.\u001b[39;00m\n",
      "\u001b[0;31mFileNotFoundError\u001b[0m: [Errno 2] No such file or directory: 'Pval_mat.npy'"
     ]
    }
   ],
   "source": [
    "Pval_mat = np.load('Pval_mat.npy')\n",
    "n_list_P_mat = 10**np.linspace(0.5, 4.3, 50)\n",
    "m_list_P_mat = 10**np.linspace(0, 4.3, 50)\n",
    "fig = plt.figure(figsize=(10,4))\n",
    "\n",
    "\n",
    "\n",
    "plt.subplot(1,2,1)\n",
    "plt.contourf(np.log10(n_list_P_mat), np.log10(m_list_P_mat), Pval_mat.T, levels=20)\n",
    "plt.colorbar()\n",
    "plt.xlabel('$lg(n_{eval})$')\n",
    "plt.ylabel('lg(m)')\n",
    "plt.title('Significance')\n",
    "plt.ylim(1, 4)\n",
    "\n",
    "# n_list = 10**np.linspace(0.5, 4.3, 40)\n",
    "# n_list = n_list.astype(int)\n",
    "# m_list = 10**np.linspace(0.5, 4.3, 40)\n",
    "# m_list = m_list.astype(int)\n",
    "# Type12_mat = np.load('type12.npy')\n",
    "# plt.subplot(1,4,2)\n",
    "# plt.contourf(np.log10(n_list), np.log10(m_list), Type12_mat.T, levels=20)\n",
    "# plt.colorbar()\n",
    "# plt.xlabel('$lg(n_{eval})$')\n",
    "# plt.ylabel('lg(m)')\n",
    "# plt.title('Type I error + II error')\n",
    "\n",
    "ns = np.array([1300000, 1000000, 700000, 400000, 200000, 100000, 50000, 30000, 10000, 6000, 3000])\n",
    "ms = 10**np.linspace(1, 4, 30)\n",
    "ms = ms.astype(int)\n",
    "P_m_ntr = np.load('P_m_ntr.npy')\n",
    "Error_m_ntr = np.load('Error_m_ntr.npy')\n",
    "plt.subplot(1,2,2)\n",
    "im = plt.contourf(np.log10(ns), np.log10(ms), P_m_ntr.T, levels=20)\n",
    "plt.colorbar()\n",
    "plt.xlabel('$lg(n_{train})$')\n",
    "plt.ylabel('lg(m)')\n",
    "plt.title('Significance')\n",
    "\n",
    "\n",
    "# plt.subplot(1,4,4)\n",
    "# plt.contourf(np.log10(ns), np.log10(ms), Error_m_ntr.T, levels=20)\n",
    "# plt.colorbar()\n",
    "# plt.xlabel('$lg(n_{train})$')\n",
    "# plt.ylabel('lg(m)')\n",
    "# plt.title('Type I error + Type II error')\n",
    "\n",
    "#plt.suptitle(r'Fix kernel ($n_{train}=1.3e6$), Use Gaussian Approx='+str(Use_Gaussian)+', $\\pi$='+str(pi))\n",
    "#fig.colorbar(im)\n",
    "plt.savefig('./paper/tradeoff_p.pdf')"
   ]
  },
  {
   "cell_type": "code",
   "execution_count": null,
   "metadata": {},
   "outputs": [
    {
     "data": {
      "image/png": "[encoded data removed]",
      "text/plain": [
       "<Figure size 500x400 with 2 Axes>"
      ]
     },
     "metadata": {},
     "output_type": "display_data"
    }
   ],
   "source": [
    "fig = plt.figure(figsize=(5,4))\n",
    "plt.contourf(np.log10(ns), np.log10(ms), Error_m_ntr.T, levels=20)\n",
    "plt.colorbar()\n",
    "plt.xlabel('$lg(n)$')\n",
    "plt.ylabel('lg(m)')\n",
    "plt.title('Type I error + Type II error')\n",
    "\n",
    "#plt.suptitle(r'Fix kernel ($n_{train}=1.3e6$), Use Gaussian Approx='+str(Use_Gaussian)+', $\\pi$='+str(pi))\n",
    "fig.colorbar(im)\n",
    "plt.savefig('./paper/tradeoff_type.pdf')"
   ]
  },
  {
   "cell_type": "code",
   "execution_count": null,
   "metadata": {},
   "outputs": [
    {
     "name": "stdout",
     "output_type": "stream",
     "text": [
      "[1.41601572e-16 6.02303597e-12 1.13950872e-08 2.38005366e-06\n",
      " 1.04454774e-04 1.51920741e-03 1.01096864e-02 3.86778616e-02\n",
      " 1.00000000e-01 1.95908922e-01 3.15364473e-01 4.41760225e-01\n",
      " 5.60804328e-01 6.64006085e-01 7.48354645e-01 8.14469651e-01\n",
      " 8.64777269e-01 9.02259868e-01 9.29773627e-01 9.49757624e-01\n",
      " 9.64164347e-01]\n"
     ]
    },
    {
     "data": {
      "image/png": "[encoded data removed]",
      "text/plain": [
       "<Figure size 640x480 with 2 Axes>"
      ]
     },
     "metadata": {},
     "output_type": "display_data"
    }
   ],
   "source": [
    "Pval_mat = np.load('Pval_mat.npy')\n",
    "n_list_P_mat = 10**np.linspace(0.5, 4.3, 50)\n",
    "m_list_P_mat = 10**np.linspace(0, 4.3, 50)\n",
    "# fig = plt.figure(figsize=(10,4))\n",
    "\n",
    "n_list = 10**np.linspace(0.5, 4.3, 40)\n",
    "n_list = n_list.astype(int)\n",
    "m_list = 10**np.linspace(0.5, 4.3, 40)\n",
    "m_list = m_list.astype(int)\n",
    "Type12_mat_old = np.load('type12.npy')\n",
    "Type12_mat_medi = np.load('Type1_mat_new_new.npy') + np.load('Type2_mat_new_new.npy')\n",
    "Type12_mat_medi = np.mean(Type12_mat_medi[:,:,0:36], axis=2)\n",
    "Type12_mat_new = np.load('Type1_mat_new_new_new_new.npy') + np.load('Type2_mat_new_new_new_new.npy')\n",
    "Type12_mat_new = np.mean(Type12_mat_new[:,:,0:36], axis=2)\n",
    "Type12_mat_new240 = np.load('Type1_mat_new240.npy') + np.load('Type2_mat_new240.npy')\n",
    "Type12_mat_new240 = np.mean(Type12_mat_new240[:,:,0:242], axis=2)\n",
    "Type12_mat_new210 = np.load('Type1_mat_new210.npy') + np.load('Type2_mat_new210.npy')\n",
    "Type12_mat_new210 = np.mean(Type12_mat_new210[:,:,0:200], axis=2)\n",
    "Type12_mat = ( Type12_mat_new240 + Type12_mat_new210)/2\n",
    "\n",
    "levels = 20\n",
    "fig, ax = plt.subplots()\n",
    "Type12_mat_log = -np.log10(-np.log10(Type12_mat))\n",
    "contourf_ = ax.contourf(np.log10(n_list), np.log10(m_list), Type12_mat_log,levels=levels)\n",
    "cb = fig.colorbar(contourf_)\n",
    "\n",
    "log_log_p_list = cb.mappable.levels # np.linspace(Type12_mat_log.min()+0.00001, Type12_mat_log.max()-0.000001, levels+1)\n",
    "real_p_list = 10**(-(10**(-log_log_p_list)))\n",
    "# cb.set_ticks(log_log_p_list)\n",
    "# # numpy to str list with 3 decimal\n",
    "print(real_p_list)\n",
    "real_p_list = np.around(real_p_list, decimals=4)\n",
    "real_p_list = real_p_list.astype(str)\n",
    "real_p_list[0] = '1.42e-16'\n",
    "real_p_list[1] = '6.02e-12'\n",
    "real_p_list[2] = '1.14e-08'\n",
    "real_p_list[3] = '2.38e-06'\n",
    "cb.set_ticks(log_log_p_list[1:-1:2])\n",
    "cb.set_ticklabels(real_p_list[1:-1:2])\n",
    "\n",
    "plt.xlabel('$lg(n_{test})$')\n",
    "plt.ylabel('lg(m)')\n",
    "plt.title('Type I error + II error')\n",
    "# plt.xlim(1, 4)\n",
    "# plt.ylim(1, 4)\n",
    "plt.savefig('./paper/tradeoff_type1.pdf')"
   ]
  },
  {
   "cell_type": "code",
   "execution_count": null,
   "metadata": {},
   "outputs": [
    {
     "data": {
      "text/plain": [
       "array([-1.2 , -1.05, -0.9 , -0.75, -0.6 , -0.45, -0.3 , -0.15,  0.  ,\n",
       "        0.15,  0.3 ,  0.45,  0.6 ,  0.75,  0.9 ,  1.05,  1.2 ,  1.35,\n",
       "        1.5 ,  1.65,  1.8 ])"
      ]
     },
     "execution_count": 243,
     "metadata": {},
     "output_type": "execute_result"
    }
   ],
   "source": []
  },
  {
   "cell_type": "code",
   "execution_count": null,
   "metadata": {},
   "outputs": [],
   "source": []
  }
 ],
 "metadata": {
  "kernelspec": {
   "display_name": "LFI",
   "language": "python",
   "name": "python3"
  },
  "language_info": {
   "codemirror_mode": {
    "name": "ipython",
    "version": 3
   },
   "file_extension": ".py",
   "mimetype": "text/x-python",
   "name": "python",
   "nbconvert_exporter": "python",
   "pygments_lexer": "ipython3",
   "version": "3.9.12 (main, Jun  1 2022, 11:38:51) \n[GCC 7.5.0]"
  },
  "orig_nbformat": 4,
  "vscode": {
   "interpreter": {
    "hash": "b3398c4b5aa1e55195b0bb96b4f8fc5c3f4a0ffb5794362f58b6653d525fb08f"
   }
  }
 },
 "nbformat": 4,
 "nbformat_minor": 2
}

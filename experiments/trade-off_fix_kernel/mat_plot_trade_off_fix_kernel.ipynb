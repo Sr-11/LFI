{
 "cells": [
  {
   "attachments": {},
   "cell_type": "markdown",
   "metadata": {},
   "source": [
    "# Load Data"
   ]
  },
  {
   "cell_type": "code",
   "execution_count": 2,
   "metadata": {},
   "outputs": [],
   "source": [
    "dataset = np.load('../HIGGS.npy')\n",
    "dataset_P = dataset[dataset[:,0]==0][:, 1:] # background (5829122, 28)\n",
    "dataset_Q = dataset[dataset[:,0]==1][:, 1:] # signal     (5170877, 28)\n",
    "dataset_P = torch.from_numpy(dataset_P).to(device, dtype)\n",
    "dataset_Q = torch.from_numpy(dataset_Q).to(device, dtype)\n",
    "del dataset"
   ]
  },
  {
   "cell_type": "code",
   "execution_count": 3,
   "metadata": {},
   "outputs": [],
   "source": [
    "sys.path.append('../methods/Res_Net')\n",
    "from model import Model\n",
    "kernel = torch.load('../methods/Res_Net/checkpoints/n_tr=1300000'+'/kernel.pt')"
   ]
  },
  {
   "attachments": {},
   "cell_type": "markdown",
   "metadata": {},
   "source": [
    "# Run simulations"
   ]
  },
  {
   "cell_type": "code",
   "execution_count": 4,
   "metadata": {},
   "outputs": [],
   "source": [
    "n_list = 10**np.linspace(0.5, 4, 20)\n",
    "n_list = n_list.astype(int)\n",
    "m_list = 10**np.linspace(0.5, 4, 20)\n",
    "m_list = m_list.astype(int)\n",
    "repeats = 1\n",
    "pi = 0.1"
   ]
  },
  {
   "cell_type": "code",
   "execution_count": 5,
   "metadata": {},
   "outputs": [],
   "source": [
    "type_1_error_mat = np.zeros((len(n_list), len(m_list), repeats))\n",
    "type_2_error_mat = np.zeros((len(n_list), len(m_list), repeats))"
   ]
  },
  {
   "cell_type": "code",
   "execution_count": 6,
   "metadata": {},
   "outputs": [
    {
     "name": "stderr",
     "output_type": "stream",
     "text": [
      "n_list:   5%|▌         | 1/20 [00:05<01:47,  5.65s/it]"
     ]
    },
    {
     "name": "stdout",
     "output_type": "stream",
     "text": [
      "tensor(1.1921e-07, device='cuda:0')\n"
     ]
    },
    {
     "name": "stderr",
     "output_type": "stream",
     "text": [
      "n_list:  10%|█         | 2/20 [00:06<00:55,  3.09s/it]"
     ]
    },
    {
     "name": "stdout",
     "output_type": "stream",
     "text": [
      "tensor(9.9960e-08, device='cuda:0')\n"
     ]
    },
    {
     "name": "stderr",
     "output_type": "stream",
     "text": [
      "n_list:  15%|█▌        | 3/20 [00:08<00:38,  2.26s/it]"
     ]
    },
    {
     "name": "stdout",
     "output_type": "stream",
     "text": [
      "tensor(1.8128e-07, device='cuda:0')\n"
     ]
    },
    {
     "name": "stderr",
     "output_type": "stream",
     "text": [
      "n_list:  20%|██        | 4/20 [00:09<00:27,  1.71s/it]"
     ]
    },
    {
     "name": "stdout",
     "output_type": "stream",
     "text": [
      "tensor(9.1080e-07, device='cuda:0')\n"
     ]
    },
    {
     "name": "stderr",
     "output_type": "stream",
     "text": [
      "n_list:  25%|██▌       | 5/20 [00:10<00:21,  1.45s/it]"
     ]
    },
    {
     "name": "stdout",
     "output_type": "stream",
     "text": [
      "tensor(1.0898e-06, device='cuda:0')\n"
     ]
    },
    {
     "name": "stderr",
     "output_type": "stream",
     "text": [
      "n_list:  30%|███       | 6/20 [00:11<00:18,  1.30s/it]"
     ]
    },
    {
     "name": "stdout",
     "output_type": "stream",
     "text": [
      "tensor(1.1915e-06, device='cuda:0')\n"
     ]
    },
    {
     "name": "stderr",
     "output_type": "stream",
     "text": [
      "n_list:  35%|███▌      | 7/20 [00:12<00:16,  1.26s/it]"
     ]
    },
    {
     "name": "stdout",
     "output_type": "stream",
     "text": [
      "tensor(1.1554e-06, device='cuda:0')\n"
     ]
    },
    {
     "name": "stderr",
     "output_type": "stream",
     "text": [
      "n_list:  40%|████      | 8/20 [00:13<00:14,  1.18s/it]"
     ]
    },
    {
     "name": "stdout",
     "output_type": "stream",
     "text": [
      "tensor(4.0832e-06, device='cuda:0')\n"
     ]
    },
    {
     "name": "stderr",
     "output_type": "stream",
     "text": []
    },
    {
     "name": "stdout",
     "output_type": "stream",
     "text": [
      "tensor(5.8832e-06, device='cuda:0')\n"
     ]
    },
    {
     "name": "stderr",
     "output_type": "stream",
     "text": [
      "n_list:  50%|█████     | 10/20 [00:15<00:10,  1.05s/it]"
     ]
    },
    {
     "name": "stdout",
     "output_type": "stream",
     "text": [
      "tensor(5.1984e-06, device='cuda:0')\n"
     ]
    },
    {
     "name": "stderr",
     "output_type": "stream",
     "text": []
    },
    {
     "name": "stdout",
     "output_type": "stream",
     "text": [
      "tensor(8.4803e-06, device='cuda:0')\n"
     ]
    },
    {
     "name": "stderr",
     "output_type": "stream",
     "text": [
      "n_list:  60%|██████    | 12/20 [00:17<00:08,  1.09s/it]"
     ]
    },
    {
     "name": "stdout",
     "output_type": "stream",
     "text": [
      "tensor(8.9363e-06, device='cuda:0')\n"
     ]
    },
    {
     "name": "stderr",
     "output_type": "stream",
     "text": []
    },
    {
     "name": "stdout",
     "output_type": "stream",
     "text": [
      "tensor(3.5359e-05, device='cuda:0')\n"
     ]
    },
    {
     "name": "stderr",
     "output_type": "stream",
     "text": [
      "n_list:  65%|██████▌   | 13/20 [00:18<00:08,  1.18s/it]"
     ]
    },
    {
     "name": "stdout",
     "output_type": "stream",
     "text": [
      "tensor(6.0206e-05, device='cuda:0')\n"
     ]
    },
    {
     "name": "stderr",
     "output_type": "stream",
     "text": [
      "n_list:  70%|███████   | 14/20 [00:20<00:08,  1.35s/it]"
     ]
    },
    {
     "name": "stdout",
     "output_type": "stream",
     "text": [
      "tensor(0.0001, device='cuda:0')\n"
     ]
    },
    {
     "name": "stderr",
     "output_type": "stream",
     "text": [
      "n_list:  75%|███████▌  | 15/20 [00:22<00:07,  1.55s/it]"
     ]
    },
    {
     "name": "stdout",
     "output_type": "stream",
     "text": [
      "tensor(0.0002, device='cuda:0')\n"
     ]
    },
    {
     "name": "stderr",
     "output_type": "stream",
     "text": [
      "n_list:  80%|████████  | 16/20 [00:24<00:07,  1.79s/it]"
     ]
    },
    {
     "name": "stdout",
     "output_type": "stream",
     "text": [
      "tensor(0.0002, device='cuda:0')\n"
     ]
    },
    {
     "name": "stderr",
     "output_type": "stream",
     "text": [
      "n_list:  85%|████████▌ | 17/20 [00:27<00:06,  2.14s/it]"
     ]
    },
    {
     "name": "stdout",
     "output_type": "stream",
     "text": [
      "tensor(0.0004, device='cuda:0')\n"
     ]
    },
    {
     "name": "stderr",
     "output_type": "stream",
     "text": [
      "n_list:  95%|█████████▌| 19/20 [00:34<00:02,  2.66s/it]"
     ]
    },
    {
     "name": "stdout",
     "output_type": "stream",
     "text": [
      "tensor(0.0006, device='cuda:0')\n"
     ]
    },
    {
     "name": "stderr",
     "output_type": "stream",
     "text": [
      "                                                       "
     ]
    },
    {
     "name": "stdout",
     "output_type": "stream",
     "text": [
      "tensor(0.0003, device='cuda:0')\n"
     ]
    },
    {
     "name": "stderr",
     "output_type": "stream",
     "text": [
      "\r"
     ]
    }
   ],
   "source": [
    "gc.collect()\n",
    "torch.cuda.empty_cache()\n",
    "n_ev = 20000\n",
    "for i, n in enumerate(tqdm(n_list, desc='n_list', leave=False)):\n",
    "    if n<5000:\n",
    "        batch_size = 10000\n",
    "    else:\n",
    "        batch_size = 5000\n",
    "    type_1_error, type_2_error = lfi.test.simulate_error(dataset_P, dataset_Q,\n",
    "                                                            1300000, n_ev, n, \n",
    "                                                            kernel, repeats,\n",
    "                                                            pi, m_list,\n",
    "                                                            batch_size,\n",
    "                                                            plot_hist_path=None)\n",
    "    type_1_error_mat[i, :, :] = type_1_error\n",
    "    type_2_error_mat[i, :, :] = type_2_error\n",
    "    # print gpu memory usage\n",
    "    # print(torch.cuda.memory_allocated(device=device)/1e9)\n",
    "    \n",
    "    \n",
    "np.save('type_1_error_mat.npy', type_1_error_mat)\n",
    "np.save('type_2_error_mat.npy', type_2_error_mat)\n",
    "Type1_mat = np.mean(type_1_error_mat, axis=2)\n",
    "np.save('Type1_mat.npy', Type1_mat) \n",
    "Type2_mat = np.mean(type_2_error_mat, axis=2)\n",
    "np.save('Type2_mat.npy', Type2_mat)\n",
    "Type12_mat = np.mean(type_1_error_mat, axis=2)+np.mean(type_2_error_mat, axis=2)\n",
    "np.save('Type12_mat.npy', Type12_mat)"
   ]
  },
  {
   "attachments": {},
   "cell_type": "markdown",
   "metadata": {},
   "source": [
    "# Plot"
   ]
  },
  {
   "cell_type": "code",
   "execution_count": 7,
   "metadata": {},
   "outputs": [
    {
     "name": "stderr",
     "output_type": "stream",
     "text": [
      "/tmp/ipykernel_916837/1506504982.py:2: RuntimeWarning: divide by zero encountered in log10\n",
      "  Type12_mat_log = -np.log10(-np.log10(Type12_mat))\n",
      "/tmp/ipykernel_916837/1506504982.py:2: RuntimeWarning: invalid value encountered in log10\n",
      "  Type12_mat_log = -np.log10(-np.log10(Type12_mat))\n"
     ]
    }
   ],
   "source": [
    "Type12_mat = np.load('Type12_mat.npy')\n",
    "Type12_mat_log = -np.log10(-np.log10(Type12_mat))"
   ]
  },
  {
   "cell_type": "code",
   "execution_count": 8,
   "metadata": {},
   "outputs": [
    {
     "name": "stdout",
     "output_type": "stream",
     "text": [
      "[0.1        0.12845442 0.16057272 0.19590892 0.2339067  0.27394203\n",
      " 0.31536447 0.35753323 0.39984607 0.44176023 0.48280553 0.52259074\n",
      " 0.56080433 0.59721112 0.63164603 0.66400608 0.69424168 0.72234762\n",
      " 0.74835465 0.77232155 0.79432823 0.81446965]\n"
     ]
    },
    {
     "data": {
      "image/png": "[encoded data removed]",
      "text/plain": [
       "<Figure size 640x480 with 2 Axes>"
      ]
     },
     "metadata": {},
     "output_type": "display_data"
    }
   ],
   "source": [
    "levels = 20\n",
    "fig, ax = plt.subplots()\n",
    "contourf_ = ax.contourf(np.log10(m_list), np.log10(n_list), Type12_mat, levels=levels)\n",
    "cb = fig.colorbar(contourf_)\n",
    "log_log_p_list = cb.mappable.levels \n",
    "real_p_list = 10**(-(10**(-log_log_p_list)))\n",
    "print(real_p_list)\n",
    "real_p_list = np.around(real_p_list, decimals=4)\n",
    "real_p_list = real_p_list.astype(str)\n",
    "# real_p_list[0] = '1.42e-16'\n",
    "# real_p_list[1] = '6.02e-12'\n",
    "# real_p_list[2] = '1.14e-08'\n",
    "# real_p_list[3] = '2.38e-06'\n",
    "cb.set_ticks(log_log_p_list[1:-1:2])\n",
    "cb.set_ticklabels(real_p_list[1:-1:2])\n",
    "# plt.xlim(1, 4)\n",
    "# plt.ylim(1, 4)\n",
    "plt.xlabel('lg(m)')\n",
    "plt.ylabel('lg($n_{ev}$)')\n",
    "plt.title('Type I error + II error')\n",
    "plt.savefig('Type12_mat.pdf', dpi=300)"
   ]
  },
  {
   "cell_type": "code",
   "execution_count": null,
   "metadata": {},
   "outputs": [],
   "source": []
  }
 ],
 "metadata": {
  "kernelspec": {
   "display_name": "Python 3 (ipykernel)",
   "language": "python",
   "name": "python3"
  },
  "language_info": {
   "codemirror_mode": {
    "name": "ipython",
    "version": 3
   },
   "file_extension": ".py",
   "mimetype": "text/x-python",
   "name": "python",
   "nbconvert_exporter": "python",
   "pygments_lexer": "ipython3",
   "version": "3.9.12"
  },
  "vscode": {
   "interpreter": {
    "hash": "b3398c4b5aa1e55195b0bb96b4f8fc5c3f4a0ffb5794362f58b6653d525fb08f"
   }
  }
 },
 "nbformat": 4,
 "nbformat_minor": 4
}

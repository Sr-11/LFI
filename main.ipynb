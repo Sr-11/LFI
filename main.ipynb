{
 "cells": [
  {
   "cell_type": "code",
   "execution_count": 6,
   "id": "1f79e29e-47c6-4f29-a895-d8e8444dd663",
   "metadata": {},
   "outputs": [
    {
     "name": "stderr",
     "output_type": "stream",
     "text": [
      "/math/home/eruisun/software/anaconda/envs/LFI/lib/python3.10/site-packages/tqdm/auto.py:22: TqdmWarning: IProgress not found. Please update jupyter and ipywidgets. See https://ipywidgets.readthedocs.io/en/stable/user_install.html\n",
      "  from .autonotebook import tqdm as notebook_tqdm\n"
     ]
    }
   ],
   "source": [
    "import sys\n",
    "import numpy as np"
   ]
  },
  {
   "cell_type": "code",
   "execution_count": 21,
   "id": "2083b02c-ff38-4ff8-ae4e-f34226050a01",
   "metadata": {},
   "outputs": [
    {
     "name": "stdout",
     "output_type": "stream",
     "text": [
      "##### Starting n=600 and m=40 #####\n",
      "##### Starting N_epoch=51 epochs #####\n",
      "##### K=15 big trials, N=1000 tests per trial for inference of Z. #####\n",
      "Traceback (most recent call last):\n",
      "  File \"/math/home/eruisun/github/LFI/LFI.py\", line 211, in <module>\n",
      "    train_d(n_list, m_list, title=title)\n",
      "  File \"/math/home/eruisun/github/LFI/LFI.py\", line 118, in train_d\n",
      "    total_S=[(X[i*batch_size:i*batch_size+batch_size], Y[i*batch_size:i*batch_size+batch_size]) for i in range(batches)]\n",
      "UnboundLocalError: local variable 'batches' referenced before assignment\n"
     ]
    }
   ],
   "source": [
    "!python LFI.py"
   ]
  },
  {
   "cell_type": "code",
   "execution_count": 25,
   "id": "bfd9b19e-2d1c-4528-930e-c7dd1118dbe0",
   "metadata": {},
   "outputs": [
    {
     "name": "stdout",
     "output_type": "stream",
     "text": [
      "/math/home/eruisun/software/anaconda/envs/LFI/lib/python3.10/site-packages/torch/nn/modules/container.py:139: UserWarning: Implicit dimension choice for softmax has been deprecated. Change the call to include dim=X as an argument.\n",
      "  input = module(input)\n",
      "epoch:  0\n",
      "loss:  tensor(1.3878, device='cuda:0', grad_fn=<AddBackward0>)\n",
      "accuracy on X:  tensor(1., device='cuda:0')\n",
      "\u001b[H\u001b[2Jepoch:  100\n",
      "loss:  tensor(1.2161, device='cuda:0', grad_fn=<AddBackward0>)\n",
      "accuracy on X:  tensor(0.6900, device='cuda:0')\n",
      "\u001b[H\u001b[2Jepoch:  200\n",
      "loss:  tensor(1.1511, device='cuda:0', grad_fn=<AddBackward0>)\n",
      "accuracy on X:  tensor(0.7900, device='cuda:0')\n",
      "\u001b[H\u001b[2Jepoch:  300\n",
      "loss:  tensor(1.0538, device='cuda:0', grad_fn=<AddBackward0>)\n",
      "accuracy on X:  tensor(0.8200, device='cuda:0')\n",
      "\u001b[H\u001b[2Jepoch:  400\n",
      "loss:  tensor(1.0144, device='cuda:0', grad_fn=<AddBackward0>)\n",
      "accuracy on X:  tensor(0.8100, device='cuda:0')\n",
      "\u001b[H\u001b[2Jepoch:  500\n",
      "loss:  tensor(0.9691, device='cuda:0', grad_fn=<AddBackward0>)\n",
      "accuracy on X:  tensor(0.7600, device='cuda:0')\n",
      "\u001b[H\u001b[2Jepoch:  600\n",
      "loss:  tensor(0.9558, device='cuda:0', grad_fn=<AddBackward0>)\n",
      "accuracy on X:  tensor(0.9000, device='cuda:0')\n",
      "\u001b[H\u001b[2Jepoch:  700\n",
      "loss:  tensor(0.9307, device='cuda:0', grad_fn=<AddBackward0>)\n",
      "accuracy on X:  tensor(0.8300, device='cuda:0')\n",
      "\u001b[H\u001b[2Jepoch:  800\n",
      "loss:  tensor(0.9182, device='cuda:0', grad_fn=<AddBackward0>)\n",
      "accuracy on X:  tensor(0.8200, device='cuda:0')\n",
      "\u001b[H\u001b[2Jepoch:  900\n",
      "loss:  tensor(0.9026, device='cuda:0', grad_fn=<AddBackward0>)\n",
      "accuracy on X:  tensor(0.8100, device='cuda:0')\n",
      "\u001b[H\u001b[2JFigure(640x480)\n",
      "average success rate of class 0:  tensor(0.5476, device='cuda:0')\n",
      "average success rate of class 1:  tensor(0.6081, device='cuda:0')\n"
     ]
    }
   ],
   "source": [
    "!python Scheffes.py"
   ]
  },
  {
   "cell_type": "code",
   "execution_count": 1,
   "id": "9bd61b32-95dd-41a0-a18f-5a29671108e3",
   "metadata": {},
   "outputs": [],
   "source": [
    "!git add ."
   ]
  },
  {
   "cell_type": "code",
   "execution_count": 4,
   "id": "397e8bff-ecfe-48e7-b103-e009afc334cd",
   "metadata": {},
   "outputs": [
    {
     "name": "stdout",
     "output_type": "stream",
     "text": [
      "[main 0eb3821] update\n",
      " 17 files changed, 43970 insertions(+), 4 deletions(-)\n",
      " create mode 100644 .ipynb_checkpoints/Data_gen-checkpoint.py\n",
      " create mode 100644 .ipynb_checkpoints/LFI-checkpoint.py\n",
      " create mode 100644 .ipynb_checkpoints/Scheffes-checkpoint.ipynb\n",
      " create mode 100644 .ipynb_checkpoints/Scheffes-checkpoint.py\n",
      " create mode 100644 .ipynb_checkpoints/eigen_experiments-checkpoint.ipynb\n",
      " create mode 100644 .ipynb_checkpoints/hyperplane_experiments-checkpoint.ipynb\n",
      " create mode 100644 .ipynb_checkpoints/main-checkpoint.ipynb\n",
      " create mode 100644 Scheffes.ipynb\n",
      " create mode 100644 __pycache__/Data_gen.cpython-310.pyc\n",
      " create mode 100644 __pycache__/LFI.cpython-310.pyc\n",
      " create mode 100644 data/PARAMETERS_untitled_run\n",
      " create mode 100644 eigen_experiments.ipynb\n",
      " create mode 100644 hyperplane_experiments.ipynb\n",
      " create mode 100644 main.ipynb\n"
     ]
    }
   ],
   "source": [
    "!git commit -m update "
   ]
  },
  {
   "cell_type": "code",
   "execution_count": null,
   "id": "eadc83d1-5e90-4850-8449-248fba34273d",
   "metadata": {},
   "outputs": [
    {
     "name": "stdout",
     "output_type": "stream",
     "text": [
      "warning: push.default is unset; its implicit value has changed in\n",
      "Git 2.0 from 'matching' to 'simple'. To squelch this message\n",
      "and maintain the traditional behavior, use:\n",
      "\n",
      "  git config --global push.default matching\n",
      "\n",
      "To squelch this message and adopt the new behavior now, use:\n",
      "\n",
      "  git config --global push.default simple\n",
      "\n",
      "When push.default is set to 'matching', git will push local branches\n",
      "to the remote branches that already exist with the same name.\n",
      "\n",
      "Since Git 2.0, Git defaults to the more conservative 'simple'\n",
      "behavior, which only pushes the current branch to the corresponding\n",
      "remote branch that 'git pull' uses to update the current branch.\n",
      "\n",
      "See 'git help config' and search for 'push.default' for further information.\n",
      "(the 'simple' mode was introduced in Git 1.7.11. Use the similar mode\n",
      "'current' instead of 'simple' if you sometimes use older versions of Git)\n",
      "\n",
      "Username for 'https://github.com': "
     ]
    }
   ],
   "source": [
    "!git push"
   ]
  },
  {
   "cell_type": "code",
   "execution_count": null,
   "id": "27b5fab1-d6e4-492c-a8c7-a58491442eb8",
   "metadata": {},
   "outputs": [],
   "source": []
  }
 ],
 "metadata": {
  "kernelspec": {
   "display_name": "Python 3 (ipykernel)",
   "language": "python",
   "name": "python3"
  },
  "language_info": {
   "codemirror_mode": {
    "name": "ipython",
    "version": 3
   },
   "file_extension": ".py",
   "mimetype": "text/x-python",
   "name": "python",
   "nbconvert_exporter": "python",
   "pygments_lexer": "ipython3",
   "version": "3.10.4"
  }
 },
 "nbformat": 4,
 "nbformat_minor": 5
}

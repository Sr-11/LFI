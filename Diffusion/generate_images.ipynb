{
 "cells": [
  {
   "cell_type": "code",
   "execution_count": 1,
   "id": "f1db6e28-d896-4fb1-a324-3f527043087b",
   "metadata": {},
   "outputs": [],
   "source": [
    "# use 0.3.0 \n",
    "# !pip install diffusers==0.3.0\n",
    "import os\n",
    "os.environ[\"OMP_NUM_THREADS\"] = \"1\" # export OMP_NUM_THREADS=1\n",
    "os.environ[\"OPENBLAS_NUM_THREADS\"] = \"1\" # export OPENBLAS_NUM_THREADS=1\n",
    "os.environ[\"MKL_NUM_THREADS\"] = \"1\" # export MKL_NUM_THREADS=1\n",
    "os.environ[\"VECLIB_MAXIMUM_THREADS\"] = \"1\" # export VECLIB_MAXIMUM_THREADS=1\n",
    "os.environ[\"NUMEXPR_NUM_THREADS\"] = \"1\" # export NUMEXPR_NUM_THREADS=1"
   ]
  },
  {
   "cell_type": "code",
   "execution_count": 2,
   "id": "150374c4",
   "metadata": {},
   "outputs": [
    {
     "data": {
      "text/plain": [
       "'1.10.1'"
      ]
     },
     "execution_count": 2,
     "metadata": {},
     "output_type": "execute_result"
    }
   ],
   "source": [
    "import torch\n",
    "torch.set_num_threads(1)\n",
    "torch._pin_memory=False\n",
    "torch. __version__"
   ]
  },
  {
   "cell_type": "code",
   "execution_count": 3,
   "id": "34eccd2a",
   "metadata": {},
   "outputs": [],
   "source": [
    "# choose gpu    \n",
    "os.environ[\"CUDA_VISIBLE_DEVICES\"] = \"7\""
   ]
  },
  {
   "cell_type": "code",
   "execution_count": 4,
   "id": "264d5fe9-661b-4a11-8a9f-2c1df2f6edcc",
   "metadata": {},
   "outputs": [],
   "source": [
    "# import packages\n",
    "from diffusers import DDPMPipeline, DDIMPipeline, PNDMPipeline\n",
    "from PIL import Image\n",
    "import numpy as np\n",
    "from tqdm import trange\n",
    "import matplotlib.pyplot as plt\n",
    "from IPython.display import clear_output"
   ]
  },
  {
   "cell_type": "code",
   "execution_count": 5,
   "id": "21b45bf7-90d7-42a2-b0b9-f0a695fae1ed",
   "metadata": {},
   "outputs": [
    {
     "data": {
      "application/vnd.jupyter.widget-view+json": {
       "model_id": "e2c7bd06da374c578b67df71dd7c40f3",
       "version_major": 2,
       "version_minor": 0
      },
      "text/plain": [
       "Fetching 11 files:   0%|          | 0/11 [00:00<?, ?it/s]"
      ]
     },
     "metadata": {},
     "output_type": "display_data"
    },
    {
     "data": {
      "text/plain": [
       "DDPMPipeline {\n",
       "  \"_class_name\": \"DDPMPipeline\",\n",
       "  \"_diffusers_version\": \"0.3.0\",\n",
       "  \"scheduler\": [\n",
       "    \"diffusers\",\n",
       "    \"DDPMScheduler\"\n",
       "  ],\n",
       "  \"unet\": [\n",
       "    \"diffusers\",\n",
       "    \"UNet2DModel\"\n",
       "  ]\n",
       "}"
      ]
     },
     "execution_count": 5,
     "metadata": {},
     "output_type": "execute_result"
    }
   ],
   "source": [
    "# select a huggingface model\n",
    "model_id = \"google/ddpm-cifar10-32\"\n",
    "ddpm = DDPMPipeline.from_pretrained(model_id)  # you can replace DDPMPipeline with DDIMPipeline or PNDMPipeline for faster inference\n",
    "ddpm.to(\"cuda\")"
   ]
  },
  {
   "cell_type": "code",
   "execution_count": 6,
   "id": "e70346d5-b27a-4fc5-bffc-39a8c360fe05",
   "metadata": {},
   "outputs": [],
   "source": [
    "# number of samples \n",
    "n = 10000"
   ]
  },
  {
   "cell_type": "code",
   "execution_count": null,
   "id": "99e7b737-ca78-43dc-8019-5ebe8132e5f4",
   "metadata": {},
   "outputs": [
    {
     "name": "stdout",
     "output_type": "stream",
     "text": [
      "1348-th sample\n"
     ]
    },
    {
     "data": {
      "application/vnd.jupyter.widget-view+json": {
       "model_id": "9c5c178f6dd04c868f9194ed442c6c1f",
       "version_major": 2,
       "version_minor": 0
      },
      "text/plain": [
       "  0%|          | 0/1000 [00:00<?, ?it/s]"
      ]
     },
     "metadata": {},
     "output_type": "display_data"
    }
   ],
   "source": [
    "# run pipeline in inference (sample random noise and denoise)\n",
    "for i in range(n):\n",
    "    clear_output(wait=True)\n",
    "    print('{}-th sample'.format(i))\n",
    "    ddpm_output = ddpm()\n",
    "    image = np.asarray(ddpm_output.images[0], dtype=float)[np.newaxis, :, :, :]\n",
    "    # save images array\n",
    "    samples = np.load(\"ddpm_generated_images.npy\")\n",
    "    np.save(\"ddpm_generated_images.npy\", np.concatenate((samples,image)))"
   ]
  },
  {
   "cell_type": "code",
   "execution_count": null,
   "id": "db64d918-1b56-4557-819c-b6b3e72dc87d",
   "metadata": {},
   "outputs": [],
   "source": [
    "samples = np.load(\"ddpm_generated_images.npy\")\n",
    "print(samples.shape)\n",
    "plt.imshow(samples[0]/255)"
   ]
  },
  {
   "cell_type": "code",
   "execution_count": null,
   "id": "ba2ec5a9",
   "metadata": {},
   "outputs": [],
   "source": []
  },
  {
   "cell_type": "code",
   "execution_count": null,
   "id": "7400a085",
   "metadata": {},
   "outputs": [],
   "source": []
  }
 ],
 "metadata": {
  "kernelspec": {
   "display_name": "Python 3 (ipykernel)",
   "language": "python",
   "name": "python3"
  },
  "language_info": {
   "codemirror_mode": {
    "name": "ipython",
    "version": 3
   },
   "file_extension": ".py",
   "mimetype": "text/x-python",
   "name": "python",
   "nbconvert_exporter": "python",
   "pygments_lexer": "ipython3",
   "version": "3.7.13"
  },
  "vscode": {
   "interpreter": {
    "hash": "ae073a029ef3658536808f30712961957a8ff92fba6a02d8f6f7e211a4a07123"
   }
  }
 },
 "nbformat": 4,
 "nbformat_minor": 5
}

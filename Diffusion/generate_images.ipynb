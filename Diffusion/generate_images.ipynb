{
 "cells": [
  {
   "cell_type": "code",
   "execution_count": 1,
   "id": "f1db6e28-d896-4fb1-a324-3f527043087b",
   "metadata": {},
   "outputs": [],
   "source": [
    "# use 0.3.0 \n",
    "# !pip install diffusers==0.3.0"
   ]
  },
  {
   "cell_type": "code",
   "execution_count": 2,
   "id": "264d5fe9-661b-4a11-8a9f-2c1df2f6edcc",
   "metadata": {},
   "outputs": [],
   "source": [
    "# import packages\n",
    "from diffusers import DDPMPipeline, DDIMPipeline, PNDMPipeline\n",
    "from PIL import Image\n",
    "import numpy as np\n",
    "from tqdm import trange\n",
    "import matplotlib.pyplot as plt\n",
    "from IPython.display import clear_output"
   ]
  },
  {
   "cell_type": "code",
   "execution_count": 3,
   "id": "21b45bf7-90d7-42a2-b0b9-f0a695fae1ed",
   "metadata": {},
   "outputs": [
    {
     "data": {
      "application/vnd.jupyter.widget-view+json": {
       "model_id": "91d7b7e917804b4abec28eafc4c4963d",
       "version_major": 2,
       "version_minor": 0
      },
      "text/plain": [
       "Fetching 11 files:   0%|          | 0/11 [00:00<?, ?it/s]"
      ]
     },
     "metadata": {},
     "output_type": "display_data"
    }
   ],
   "source": [
    "# select a huggingface model\n",
    "model_id = \"google/ddpm-cifar10-32\"\n",
    "ddpm = DDPMPipeline.from_pretrained(model_id)  # you can replace DDPMPipeline with DDIMPipeline or PNDMPipeline for faster inference"
   ]
  },
  {
   "cell_type": "code",
   "execution_count": 6,
   "id": "e70346d5-b27a-4fc5-bffc-39a8c360fe05",
   "metadata": {},
   "outputs": [],
   "source": [
    "# number of samples \n",
    "n = 10000"
   ]
  },
  {
   "cell_type": "code",
   "execution_count": null,
   "id": "99e7b737-ca78-43dc-8019-5ebe8132e5f4",
   "metadata": {},
   "outputs": [
    {
     "name": "stdout",
     "output_type": "stream",
     "text": [
      "20-th sample\n"
     ]
    },
    {
     "data": {
      "application/vnd.jupyter.widget-view+json": {
       "model_id": "34b625eff8d1451c86c27301ebd0170e",
       "version_major": 2,
       "version_minor": 0
      },
      "text/plain": [
       "  0%|          | 0/1000 [00:00<?, ?it/s]"
      ]
     },
     "metadata": {},
     "output_type": "display_data"
    }
   ],
   "source": [
    "# run pipeline in inference (sample random noise and denoise)\n",
    "for i in range(n):\n",
    "    clear_output(wait=True)\n",
    "    print('{}-th sample'.format(i))\n",
    "    ddpm_output = ddpm()\n",
    "    image = np.asarray(ddpm_output.images[0], dtype=float)[np.newaxis, :, :, :]\n",
    "    # save images array\n",
    "    samples = np.load(\"ddpm_generated_images.npy\")\n",
    "    np.save(\"ddpm_generated_images.npy\", np.concatenate((samples,image)))"
   ]
  },
  {
   "cell_type": "code",
   "execution_count": 5,
   "id": "db64d918-1b56-4557-819c-b6b3e72dc87d",
   "metadata": {},
   "outputs": [
    {
     "name": "stdout",
     "output_type": "stream",
     "text": [
      "(772, 32, 32, 3)\n"
     ]
    },
    {
     "data": {
      "text/plain": [
       "<matplotlib.image.AxesImage at 0x7f8d1a839510>"
      ]
     },
     "execution_count": 5,
     "metadata": {},
     "output_type": "execute_result"
    },
    {
     "data": {
      "image/png": "[encoded data removed]",
      "text/plain": [
       "<Figure size 432x288 with 1 Axes>"
      ]
     },
     "metadata": {
      "needs_background": "light"
     },
     "output_type": "display_data"
    }
   ],
   "source": [
    "samples = np.load(\"ddpm_generated_images.npy\")\n",
    "print(samples.shape)\n",
    "plt.imshow(samples[0]/255)"
   ]
  },
  {
   "cell_type": "code",
   "execution_count": null,
   "id": "ba2ec5a9",
   "metadata": {},
   "outputs": [],
   "source": []
  },
  {
   "cell_type": "code",
   "execution_count": null,
   "id": "7400a085",
   "metadata": {},
   "outputs": [],
   "source": []
  }
 ],
 "metadata": {
  "kernelspec": {
   "display_name": "Python 3 (ipykernel)",
   "language": "python",
   "name": "python3"
  },
  "language_info": {
   "codemirror_mode": {
    "name": "ipython",
    "version": 3
   },
   "file_extension": ".py",
   "mimetype": "text/x-python",
   "name": "python",
   "nbconvert_exporter": "python",
   "pygments_lexer": "ipython3",
   "version": "3.7.13"
  },
  "vscode": {
   "interpreter": {
    "hash": "ae073a029ef3658536808f30712961957a8ff92fba6a02d8f6f7e211a4a07123"
   }
  }
 },
 "nbformat": 4,
 "nbformat_minor": 5
}

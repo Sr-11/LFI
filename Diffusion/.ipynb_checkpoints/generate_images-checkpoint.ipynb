{
 "cells": [
  {
   "cell_type": "code",
   "execution_count": 1,
   "id": "f1db6e28-d896-4fb1-a324-3f527043087b",
   "metadata": {},
   "outputs": [],
   "source": [
    "# use 0.3.0 \n",
    "# !pip install diffusers==0.3.0"
   ]
  },
  {
   "cell_type": "code",
   "execution_count": 2,
   "id": "264d5fe9-661b-4a11-8a9f-2c1df2f6edcc",
   "metadata": {},
   "outputs": [],
   "source": [
    "# import packages\n",
    "from diffusers import DDPMPipeline, DDIMPipeline, PNDMPipeline\n",
    "from PIL import Image\n",
    "import numpy as np\n",
    "from tqdm import trange\n",
    "import matplotlib.pyplot as plt"
   ]
  },
  {
   "cell_type": "code",
   "execution_count": 3,
   "id": "21b45bf7-90d7-42a2-b0b9-f0a695fae1ed",
   "metadata": {},
   "outputs": [
    {
     "data": {
      "application/vnd.jupyter.widget-view+json": {
       "model_id": "e627334178bc41b7b72f4128cd9e102f",
       "version_major": 2,
       "version_minor": 0
      },
      "text/plain": [
       "Fetching 11 files:   0%|          | 0/11 [00:00<?, ?it/s]"
      ]
     },
     "metadata": {},
     "output_type": "display_data"
    }
   ],
   "source": [
    "# select a huggingface model\n",
    "model_id = \"google/ddpm-cifar10-32\"\n",
    "ddpm = DDPMPipeline.from_pretrained(model_id)  # you can replace DDPMPipeline with DDIMPipeline or PNDMPipeline for faster inference"
   ]
  },
  {
   "cell_type": "code",
   "execution_count": 4,
   "id": "e70346d5-b27a-4fc5-bffc-39a8c360fe05",
   "metadata": {},
   "outputs": [],
   "source": [
    "# number of samples \n",
    "n = 10\n",
    "samples = np.zeros((n, 32, 32, 3))"
   ]
  },
  {
   "cell_type": "code",
   "execution_count": 5,
   "id": "99e7b737-ca78-43dc-8019-5ebe8132e5f4",
   "metadata": {},
   "outputs": [
    {
     "data": {
      "application/vnd.jupyter.widget-view+json": {
       "model_id": "c38556225de04d418168926940b26e91",
       "version_major": 2,
       "version_minor": 0
      },
      "text/plain": [
       "  0%|          | 0/1000 [00:00<?, ?it/s]"
      ]
     },
     "metadata": {},
     "output_type": "display_data"
    },
    {
     "data": {
      "application/vnd.jupyter.widget-view+json": {
       "model_id": "ab4ffb23b2e9427bb07901c0287b66b4",
       "version_major": 2,
       "version_minor": 0
      },
      "text/plain": [
       "  0%|          | 0/1000 [00:00<?, ?it/s]"
      ]
     },
     "metadata": {},
     "output_type": "display_data"
    },
    {
     "data": {
      "application/vnd.jupyter.widget-view+json": {
       "model_id": "f9d847bb194749acabce6c5e86bd5a71",
       "version_major": 2,
       "version_minor": 0
      },
      "text/plain": [
       "  0%|          | 0/1000 [00:00<?, ?it/s]"
      ]
     },
     "metadata": {},
     "output_type": "display_data"
    },
    {
     "data": {
      "application/vnd.jupyter.widget-view+json": {
       "model_id": "92397c7c114b49b0ac12e5c4b2318d38",
       "version_major": 2,
       "version_minor": 0
      },
      "text/plain": [
       "  0%|          | 0/1000 [00:00<?, ?it/s]"
      ]
     },
     "metadata": {},
     "output_type": "display_data"
    },
    {
     "data": {
      "application/vnd.jupyter.widget-view+json": {
       "model_id": "e8d0c32922754771a38daaef77287498",
       "version_major": 2,
       "version_minor": 0
      },
      "text/plain": [
       "  0%|          | 0/1000 [00:00<?, ?it/s]"
      ]
     },
     "metadata": {},
     "output_type": "display_data"
    },
    {
     "data": {
      "application/vnd.jupyter.widget-view+json": {
       "model_id": "095f2549e348430286c037235bae22ee",
       "version_major": 2,
       "version_minor": 0
      },
      "text/plain": [
       "  0%|          | 0/1000 [00:00<?, ?it/s]"
      ]
     },
     "metadata": {},
     "output_type": "display_data"
    },
    {
     "data": {
      "application/vnd.jupyter.widget-view+json": {
       "model_id": "5a515a3afe28438e8430242233ff6f3a",
       "version_major": 2,
       "version_minor": 0
      },
      "text/plain": [
       "  0%|          | 0/1000 [00:00<?, ?it/s]"
      ]
     },
     "metadata": {},
     "output_type": "display_data"
    },
    {
     "data": {
      "application/vnd.jupyter.widget-view+json": {
       "model_id": "4dbcf2487a6949e69c2386bbf3c687a1",
       "version_major": 2,
       "version_minor": 0
      },
      "text/plain": [
       "  0%|          | 0/1000 [00:00<?, ?it/s]"
      ]
     },
     "metadata": {},
     "output_type": "display_data"
    },
    {
     "data": {
      "application/vnd.jupyter.widget-view+json": {
       "model_id": "4225e261d2ec490fae79e510869d09b6",
       "version_major": 2,
       "version_minor": 0
      },
      "text/plain": [
       "  0%|          | 0/1000 [00:00<?, ?it/s]"
      ]
     },
     "metadata": {},
     "output_type": "display_data"
    },
    {
     "data": {
      "application/vnd.jupyter.widget-view+json": {
       "model_id": "63bcdcc852df40c18c4c3f233b4ec7e2",
       "version_major": 2,
       "version_minor": 0
      },
      "text/plain": [
       "  0%|          | 0/1000 [00:00<?, ?it/s]"
      ]
     },
     "metadata": {},
     "output_type": "display_data"
    }
   ],
   "source": [
    "# run pipeline in inference (sample random noise and denoise)\n",
    "for i in range(n):\n",
    "    image = ddpm().images[0]\n",
    "    samples[i] = np.asarray(image)"
   ]
  },
  {
   "cell_type": "code",
   "execution_count": null,
   "id": "19f3f8b4-49d9-4ec4-804e-152579c8efbf",
   "metadata": {},
   "outputs": [],
   "source": [
    "# save images array\n",
    "np.save(\"ddpm_generated_images\", samples)"
   ]
  },
  {
   "cell_type": "code",
   "execution_count": 43,
   "id": "db64d918-1b56-4557-819c-b6b3e72dc87d",
   "metadata": {},
   "outputs": [
    {
     "data": {
      "text/plain": [
       "<matplotlib.image.AxesImage at 0x7f4109ce4790>"
      ]
     },
     "execution_count": 43,
     "metadata": {},
     "output_type": "execute_result"
    },
    {
     "data": {
      "image/png": "[encoded data removed]",
      "text/plain": [
       "<Figure size 432x288 with 1 Axes>"
      ]
     },
     "metadata": {
      "needs_background": "light"
     },
     "output_type": "display_data"
    }
   ],
   "source": [
    "# old_samples = np.load(\"ddpm_generated_images.npy\") \n",
    "# concat_samples = np.concatenate((old_samples, samples)).shape\n",
    "plt.imshow(samples[0]/255)"
   ]
  },
  {
   "cell_type": "code",
   "execution_count": null,
   "id": "21aa83d6-9fb8-4890-a586-ab00a3868def",
   "metadata": {},
   "outputs": [],
   "source": []
  },
  {
   "cell_type": "code",
   "execution_count": null,
   "id": "e86c64ff-c3e6-402e-9b43-3fb99be5d3a9",
   "metadata": {},
   "outputs": [],
   "source": []
  },
  {
   "cell_type": "code",
   "execution_count": null,
   "id": "f5893c5d-1be8-4517-a8d0-4207b0c95b58",
   "metadata": {},
   "outputs": [],
   "source": []
  },
  {
   "cell_type": "code",
   "execution_count": null,
   "id": "35ec4ece-dc03-4762-b4d1-18cbdcd98a58",
   "metadata": {},
   "outputs": [],
   "source": []
  }
 ],
 "metadata": {
  "kernelspec": {
   "display_name": "temporal",
   "language": "python",
   "name": "python3"
  },
  "language_info": {
   "codemirror_mode": {
    "name": "ipython",
    "version": 3
   },
   "file_extension": ".py",
   "mimetype": "text/x-python",
   "name": "python",
   "nbconvert_exporter": "python",
   "pygments_lexer": "ipython3",
   "version": "3.7.13"
  },
  "vscode": {
   "interpreter": {
    "hash": "ae073a029ef3658536808f30712961957a8ff92fba6a02d8f6f7e211a4a07123"
   }
  }
 },
 "nbformat": 4,
 "nbformat_minor": 5
}

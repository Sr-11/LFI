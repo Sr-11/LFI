{
 "cells": [
  {
   "cell_type": "code",
   "execution_count": 6,
   "id": "1f79e29e-47c6-4f29-a895-d8e8444dd663",
   "metadata": {},
   "outputs": [
    {
     "name": "stderr",
     "output_type": "stream",
     "text": [
      "/math/home/eruisun/software/anaconda/envs/LFI/lib/python3.10/site-packages/tqdm/auto.py:22: TqdmWarning: IProgress not found. Please update jupyter and ipywidgets. See https://ipywidgets.readthedocs.io/en/stable/user_install.html\n",
      "  from .autonotebook import tqdm as notebook_tqdm\n"
     ]
    }
   ],
   "source": [
    "import sys\n",
    "import numpy as np"
   ]
  },
  {
   "cell_type": "code",
   "execution_count": 9,
   "id": "2083b02c-ff38-4ff8-ae4e-f34226050a01",
   "metadata": {},
   "outputs": [
    {
     "name": "stdout",
     "output_type": "stream",
     "text": [
      "##### Starting n=600 and m=40 #####\n",
      "##### Starting N_epoch=51 epochs #####\n",
      "##### K=15 big trials, N=1000 tests per trial for inference of Z. #####\n",
      "Traceback (most recent call last):\n",
      "  File \"/math/home/eruisun/github/LFI/LFI.py\", line 211, in <module>\n",
      "    train_d(n_list, m_list, title=title)\n",
      "  File \"/math/home/eruisun/github/LFI/LFI.py\", line 118, in train_d\n",
      "    total_S=[(X[i*batch_size:i*batch_size+batch_size], Y[i*batch_size:i*batch_size+batch_size]) for i in range(batches)]\n",
      "UnboundLocalError: local variable 'batches' referenced before assignment\n"
     ]
    }
   ],
   "source": [
    "!python LFI.py"
   ]
  },
  {
   "cell_type": "code",
   "execution_count": 3,
   "id": "bfd9b19e-2d1c-4528-930e-c7dd1118dbe0",
   "metadata": {},
   "outputs": [
    {
     "name": "stdout",
     "output_type": "stream",
     "text": [
      "/math/home/eruisun/software/anaconda/envs/LFI/lib/python3.10/site-packages/torch/nn/modules/container.py:139: UserWarning: Implicit dimension choice for softmax has been deprecated. Change the call to include dim=X as an argument.\n",
      "  input = module(input)\n",
      "loss:  tensor(1.3872, device='cuda:0', grad_fn=<AddBackward0>)\n",
      "accuracy on X:  tensor(0., device='cuda:0')\n",
      "loss:  tensor(1.1943, device='cuda:0', grad_fn=<AddBackward0>)\n",
      "accuracy on X:  tensor(0.5900, device='cuda:0')\n",
      "loss:  tensor(1.1023, device='cuda:0', grad_fn=<AddBackward0>)\n",
      "accuracy on X:  tensor(0.6700, device='cuda:0')\n",
      "loss:  tensor(1.0321, device='cuda:0', grad_fn=<AddBackward0>)\n",
      "accuracy on X:  tensor(0.6400, device='cuda:0')\n",
      "loss:  tensor(0.9807, device='cuda:0', grad_fn=<AddBackward0>)\n",
      "accuracy on X:  tensor(0.7000, device='cuda:0')\n",
      "loss:  tensor(0.9763, device='cuda:0', grad_fn=<AddBackward0>)\n",
      "accuracy on X:  tensor(0.6600, device='cuda:0')\n",
      "loss:  tensor(0.9361, device='cuda:0', grad_fn=<AddBackward0>)\n",
      "accuracy on X:  tensor(0.7400, device='cuda:0')\n",
      "loss:  tensor(0.9133, device='cuda:0', grad_fn=<AddBackward0>)\n",
      "accuracy on X:  tensor(0.7400, device='cuda:0')\n",
      "loss:  tensor(0.8678, device='cuda:0', grad_fn=<AddBackward0>)\n",
      "accuracy on X:  tensor(0.7800, device='cuda:0')\n",
      "loss:  tensor(1.0485, device='cuda:0', grad_fn=<AddBackward0>)\n",
      "accuracy on X:  tensor(0.7400, device='cuda:0')\n",
      "loss:  tensor(0.8661, device='cuda:0', grad_fn=<AddBackward0>)\n",
      "accuracy on X:  tensor(0.7700, device='cuda:0')\n",
      "loss:  tensor(0.8548, device='cuda:0', grad_fn=<AddBackward0>)\n",
      "accuracy on X:  tensor(0.7700, device='cuda:0')\n",
      "loss:  tensor(0.8495, device='cuda:0', grad_fn=<AddBackward0>)\n",
      "accuracy on X:  tensor(0.7700, device='cuda:0')\n",
      "loss:  tensor(0.8435, device='cuda:0', grad_fn=<AddBackward0>)\n",
      "accuracy on X:  tensor(0.7700, device='cuda:0')\n",
      "loss:  tensor(0.9922, device='cuda:0', grad_fn=<AddBackward0>)\n",
      "accuracy on X:  tensor(0.6800, device='cuda:0')\n",
      "loss:  tensor(0.8278, device='cuda:0', grad_fn=<AddBackward0>)\n",
      "accuracy on X:  tensor(0.7900, device='cuda:0')\n",
      "loss:  tensor(0.8148, device='cuda:0', grad_fn=<AddBackward0>)\n",
      "accuracy on X:  tensor(0.7900, device='cuda:0')\n",
      "loss:  tensor(0.8396, device='cuda:0', grad_fn=<AddBackward0>)\n",
      "accuracy on X:  tensor(0.7900, device='cuda:0')\n",
      "loss:  tensor(0.8740, device='cuda:0', grad_fn=<AddBackward0>)\n",
      "accuracy on X:  tensor(0.7300, device='cuda:0')\n",
      "loss:  tensor(0.8086, device='cuda:0', grad_fn=<AddBackward0>)\n",
      "accuracy on X:  tensor(0.7900, device='cuda:0')\n",
      "loss:  tensor(0.8099, device='cuda:0', grad_fn=<AddBackward0>)\n",
      "accuracy on X:  tensor(0.7800, device='cuda:0')\n",
      "loss:  tensor(0.8090, device='cuda:0', grad_fn=<AddBackward0>)\n",
      "accuracy on X:  tensor(0.7800, device='cuda:0')\n",
      "loss:  tensor(0.8074, device='cuda:0', grad_fn=<AddBackward0>)\n",
      "accuracy on X:  tensor(0.7900, device='cuda:0')\n",
      "loss:  tensor(0.8410, device='cuda:0', grad_fn=<AddBackward0>)\n",
      "accuracy on X:  tensor(0.8000, device='cuda:0')\n",
      "loss:  tensor(0.8025, device='cuda:0', grad_fn=<AddBackward0>)\n",
      "accuracy on X:  tensor(0.8000, device='cuda:0')\n",
      "loss:  tensor(0.8016, device='cuda:0', grad_fn=<AddBackward0>)\n",
      "accuracy on X:  tensor(0.8000, device='cuda:0')\n",
      "loss:  tensor(0.8019, device='cuda:0', grad_fn=<AddBackward0>)\n",
      "accuracy on X:  tensor(0.7900, device='cuda:0')\n",
      "loss:  tensor(0.9479, device='cuda:0', grad_fn=<AddBackward0>)\n",
      "accuracy on X:  tensor(0.7100, device='cuda:0')\n",
      "loss:  tensor(0.8299, device='cuda:0', grad_fn=<AddBackward0>)\n",
      "accuracy on X:  tensor(0.7800, device='cuda:0')\n",
      "loss:  tensor(0.8269, device='cuda:0', grad_fn=<AddBackward0>)\n",
      "accuracy on X:  tensor(0.7800, device='cuda:0')\n",
      "loss:  tensor(0.8570, device='cuda:0', grad_fn=<AddBackward0>)\n",
      "accuracy on X:  tensor(0.7400, device='cuda:0')\n",
      "loss:  tensor(0.8871, device='cuda:0', grad_fn=<AddBackward0>)\n",
      "accuracy on X:  tensor(0.7700, device='cuda:0')\n",
      "loss:  tensor(0.8828, device='cuda:0', grad_fn=<AddBackward0>)\n",
      "accuracy on X:  tensor(0.7800, device='cuda:0')\n",
      "loss:  tensor(0.8814, device='cuda:0', grad_fn=<AddBackward0>)\n",
      "accuracy on X:  tensor(0.7800, device='cuda:0')\n",
      "loss:  tensor(0.8812, device='cuda:0', grad_fn=<AddBackward0>)\n",
      "accuracy on X:  tensor(0.7900, device='cuda:0')\n",
      "loss:  tensor(0.8813, device='cuda:0', grad_fn=<AddBackward0>)\n",
      "accuracy on X:  tensor(0.7900, device='cuda:0')\n",
      "loss:  tensor(0.9199, device='cuda:0', grad_fn=<AddBackward0>)\n",
      "accuracy on X:  tensor(0.7600, device='cuda:0')\n",
      "loss:  tensor(0.9076, device='cuda:0', grad_fn=<AddBackward0>)\n",
      "accuracy on X:  tensor(0.7600, device='cuda:0')\n",
      "loss:  tensor(1.1627, device='cuda:0', grad_fn=<AddBackward0>)\n",
      "accuracy on X:  tensor(0.5000, device='cuda:0')\n",
      "loss:  tensor(0.9067, device='cuda:0', grad_fn=<AddBackward0>)\n",
      "accuracy on X:  tensor(0.7100, device='cuda:0')\n",
      "loss:  tensor(0.8548, device='cuda:0', grad_fn=<AddBackward0>)\n",
      "accuracy on X:  tensor(0.7800, device='cuda:0')\n",
      "loss:  tensor(0.8816, device='cuda:0', grad_fn=<AddBackward0>)\n",
      "accuracy on X:  tensor(0.7700, device='cuda:0')\n",
      "loss:  tensor(0.8801, device='cuda:0', grad_fn=<AddBackward0>)\n",
      "accuracy on X:  tensor(0.7500, device='cuda:0')\n",
      "loss:  tensor(0.8797, device='cuda:0', grad_fn=<AddBackward0>)\n",
      "accuracy on X:  tensor(0.7500, device='cuda:0')\n",
      "loss:  tensor(0.8792, device='cuda:0', grad_fn=<AddBackward0>)\n",
      "accuracy on X:  tensor(0.7500, device='cuda:0')\n",
      "loss:  tensor(0.8806, device='cuda:0', grad_fn=<AddBackward0>)\n",
      "accuracy on X:  tensor(0.7700, device='cuda:0')\n",
      "loss:  tensor(1.3765, device='cuda:0', grad_fn=<AddBackward0>)\n",
      "accuracy on X:  tensor(0.5500, device='cuda:0')\n",
      "loss:  tensor(1.3765, device='cuda:0', grad_fn=<AddBackward0>)\n",
      "accuracy on X:  tensor(0.5500, device='cuda:0')\n",
      "loss:  tensor(1.3765, device='cuda:0', grad_fn=<AddBackward0>)\n",
      "accuracy on X:  tensor(0.5500, device='cuda:0')\n",
      "loss:  tensor(1.3765, device='cuda:0', grad_fn=<AddBackward0>)\n",
      "accuracy on X:  tensor(0.5500, device='cuda:0')\n",
      "loss:  tensor(1.3765, device='cuda:0', grad_fn=<AddBackward0>)\n",
      "accuracy on X:  tensor(0.5500, device='cuda:0')\n",
      "loss:  tensor(1.3765, device='cuda:0', grad_fn=<AddBackward0>)\n",
      "accuracy on X:  tensor(0.5500, device='cuda:0')\n",
      "loss:  tensor(1.3765, device='cuda:0', grad_fn=<AddBackward0>)\n",
      "accuracy on X:  tensor(0.5500, device='cuda:0')\n",
      "loss:  tensor(1.3765, device='cuda:0', grad_fn=<AddBackward0>)\n",
      "accuracy on X:  tensor(0.5500, device='cuda:0')\n",
      "loss:  tensor(1.3765, device='cuda:0', grad_fn=<AddBackward0>)\n",
      "accuracy on X:  tensor(0.5500, device='cuda:0')\n",
      "loss:  tensor(1.3765, device='cuda:0', grad_fn=<AddBackward0>)\n",
      "accuracy on X:  tensor(0.5500, device='cuda:0')\n",
      "loss:  tensor(1.3765, device='cuda:0', grad_fn=<AddBackward0>)\n",
      "accuracy on X:  tensor(0.5500, device='cuda:0')\n",
      "loss:  tensor(1.3765, device='cuda:0', grad_fn=<AddBackward0>)\n",
      "accuracy on X:  tensor(0.5500, device='cuda:0')\n",
      "loss:  tensor(1.3765, device='cuda:0', grad_fn=<AddBackward0>)\n",
      "accuracy on X:  tensor(0.5500, device='cuda:0')\n"
     ]
    }
   ],
   "source": [
    "!python Scheffes.py"
   ]
  },
  {
   "cell_type": "code",
   "execution_count": null,
   "id": "9bd61b32-95dd-41a0-a18f-5a29671108e3",
   "metadata": {},
   "outputs": [],
   "source": []
  },
  {
   "cell_type": "code",
   "execution_count": null,
   "id": "397e8bff-ecfe-48e7-b103-e009afc334cd",
   "metadata": {},
   "outputs": [],
   "source": []
  }
 ],
 "metadata": {
  "kernelspec": {
   "display_name": "Python 3 (ipykernel)",
   "language": "python",
   "name": "python3"
  },
  "language_info": {
   "codemirror_mode": {
    "name": "ipython",
    "version": 3
   },
   "file_extension": ".py",
   "mimetype": "text/x-python",
   "name": "python",
   "nbconvert_exporter": "python",
   "pygments_lexer": "ipython3",
   "version": "3.10.4"
  }
 },
 "nbformat": 4,
 "nbformat_minor": 5
}

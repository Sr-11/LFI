{
 "cells": [
  {
   "attachments": {},
   "cell_type": "markdown",
   "metadata": {},
   "source": [
    "# Import Packages"
   ]
  },
  {
   "cell_type": "code",
   "execution_count": 1,
   "metadata": {},
   "outputs": [
    {
     "name": "stderr",
     "output_type": "stream",
     "text": [
      "/math/home/eruisun/software/anaconda/envs/LFI/lib/python3.9/site-packages/tqdm/auto.py:22: TqdmWarning: IProgress not found. Please update jupyter and ipywidgets. See https://ipywidgets.readthedocs.io/en/stable/user_install.html\n",
      "  from .autonotebook import tqdm as notebook_tqdm\n"
     ]
    },
    {
     "data": {
      "text/plain": [
       "<torch.autograd.grad_mode.set_grad_enabled at 0x7f6a0840a910>"
      ]
     },
     "execution_count": 1,
     "metadata": {},
     "output_type": "execute_result"
    }
   ],
   "source": [
    "import numpy as np\n",
    "import matplotlib.pyplot as plt\n",
    "import torch\n",
    "import pandas as pd\n",
    "import sys, os, gc\n",
    "from tqdm import trange, tqdm\n",
    "from IPython.display import clear_output\n",
    "sys.path.append('..')\n",
    "import lfi\n",
    "import global_config\n",
    "os.environ[\"CUDA_DEVICE_ORDER\"]=\"PCI_BUS_ID\"\n",
    "os.environ[\"CUDA_VISIBLE_DEVICES\"]='4'\n",
    "torch.backends.cudnn.deterministic = True\n",
    "dtype = torch.float32\n",
    "device = torch.device(\"cuda:0\" if torch.cuda.is_available() else \"cpu\")\n",
    "torch.set_grad_enabled(False)"
   ]
  },
  {
   "attachments": {},
   "cell_type": "markdown",
   "metadata": {},
   "source": [
    "# Load Data"
   ]
  },
  {
   "cell_type": "code",
   "execution_count": 2,
   "metadata": {},
   "outputs": [],
   "source": [
    "dataset = np.load('../datasets/HIGGS.npy')\n",
    "dataset_P = dataset[dataset[:,0]==0][:, 1:] # background (5829122, 28)\n",
    "dataset_Q = dataset[dataset[:,0]==1][:, 1:] # signal     (5170877, 28)\n",
    "dataset_P = torch.from_numpy(dataset_P).to(device, dtype)\n",
    "dataset_Q = torch.from_numpy(dataset_Q).to(device, dtype)\n",
    "del dataset"
   ]
  },
  {
   "attachments": {},
   "cell_type": "markdown",
   "metadata": {},
   "source": [
    "# Load Trained Model\n",
    "You may change to other checkpoints."
   ]
  },
  {
   "cell_type": "code",
   "execution_count": 5,
   "metadata": {},
   "outputs": [],
   "source": [
    "sys.path.append('../methods/Mix')\n",
    "from model import Model\n",
    "kernel = torch.load('../methods/Mix/checkpoints00/n_tr=1300000#0/kernel.pt')"
   ]
  },
  {
   "attachments": {},
   "cell_type": "markdown",
   "metadata": {},
   "source": [
    "# Run simulations"
   ]
  },
  {
   "cell_type": "code",
   "execution_count": 12,
   "metadata": {},
   "outputs": [],
   "source": [
    "n_ev_list = 10**np.linspace(0.5, 4, 20)\n",
    "n_ev_list = n_ev_list.astype(int)[::-1]\n",
    "m_list = 10**np.linspace(0.5, 4, 20)\n",
    "m_list = m_list.astype(int)\n",
    "repeats = range(10)\n",
    "pi = 0.1\n",
    "n_cal = 20000\n",
    "batch_size = 10000\n"
   ]
  },
  {
   "cell_type": "code",
   "execution_count": 13,
   "metadata": {},
   "outputs": [],
   "source": [
    "type_1_error_mat = np.zeros((len(n_ev_list), len(m_list), len(repeats)))\n",
    "type_2_error_mat = np.zeros((len(n_ev_list), len(m_list), len(repeats)))"
   ]
  },
  {
   "cell_type": "code",
   "execution_count": 14,
   "metadata": {},
   "outputs": [
    {
     "name": "stderr",
     "output_type": "stream",
     "text": [
      "\rprogress in repeating n_tr=1300000, n_ev=3:   0%|          | 0/10 [00:00<?, ?it/s]"
     ]
    },
    {
     "name": "stdout",
     "output_type": "stream",
     "text": [
      "plotting histogram to ../assets/hist.png\n"
     ]
    },
    {
     "name": "stderr",
     "output_type": "stream",
     "text": [
      "progress in repeating n_tr=1300000, n_ev=3:  10%|█         | 1/10 [00:01<00:14,  1.60s/it]"
     ]
    },
    {
     "name": "stdout",
     "output_type": "stream",
     "text": [
      "plotting histogram to ../assets/hist.png\n"
     ]
    },
    {
     "name": "stderr",
     "output_type": "stream",
     "text": [
      "progress in repeating n_tr=1300000, n_ev=3:  20%|██        | 2/10 [00:03<00:13,  1.64s/it]"
     ]
    },
    {
     "name": "stdout",
     "output_type": "stream",
     "text": [
      "plotting histogram to ../assets/hist.png\n"
     ]
    },
    {
     "name": "stderr",
     "output_type": "stream",
     "text": [
      "progress in repeating n_tr=1300000, n_ev=3:  30%|███       | 3/10 [00:04<00:11,  1.63s/it]"
     ]
    },
    {
     "name": "stdout",
     "output_type": "stream",
     "text": [
      "plotting histogram to ../assets/hist.png\n"
     ]
    },
    {
     "name": "stderr",
     "output_type": "stream",
     "text": [
      "progress in repeating n_tr=1300000, n_ev=3:  40%|████      | 4/10 [00:06<00:09,  1.63s/it]"
     ]
    },
    {
     "name": "stdout",
     "output_type": "stream",
     "text": [
      "plotting histogram to ../assets/hist.png\n"
     ]
    },
    {
     "name": "stderr",
     "output_type": "stream",
     "text": [
      "progress in repeating n_tr=1300000, n_ev=3:  50%|█████     | 5/10 [00:08<00:07,  1.58s/it]"
     ]
    },
    {
     "name": "stdout",
     "output_type": "stream",
     "text": [
      "plotting histogram to ../assets/hist.png\n"
     ]
    },
    {
     "name": "stderr",
     "output_type": "stream",
     "text": [
      "progress in repeating n_tr=1300000, n_ev=3:  60%|██████    | 6/10 [00:09<00:05,  1.45s/it]"
     ]
    },
    {
     "name": "stdout",
     "output_type": "stream",
     "text": [
      "plotting histogram to ../assets/hist.png\n"
     ]
    },
    {
     "name": "stderr",
     "output_type": "stream",
     "text": [
      "progress in repeating n_tr=1300000, n_ev=3:  70%|███████   | 7/10 [00:10<00:04,  1.42s/it]"
     ]
    },
    {
     "name": "stdout",
     "output_type": "stream",
     "text": [
      "plotting histogram to ../assets/hist.png\n"
     ]
    },
    {
     "name": "stderr",
     "output_type": "stream",
     "text": [
      "progress in repeating n_tr=1300000, n_ev=3:  80%|████████  | 8/10 [00:12<00:03,  1.50s/it]"
     ]
    },
    {
     "name": "stdout",
     "output_type": "stream",
     "text": [
      "plotting histogram to ../assets/hist.png\n"
     ]
    },
    {
     "name": "stderr",
     "output_type": "stream",
     "text": [
      "progress in repeating n_tr=1300000, n_ev=3:  90%|█████████ | 9/10 [00:13<00:01,  1.44s/it]"
     ]
    },
    {
     "name": "stdout",
     "output_type": "stream",
     "text": [
      "plotting histogram to ../assets/hist.png\n"
     ]
    },
    {
     "name": "stderr",
     "output_type": "stream",
     "text": [
      "                                                                                           \r"
     ]
    }
   ],
   "source": [
    "gc.collect(); torch.cuda.empty_cache()\n",
    "for i, n_ev in enumerate(n_ev_list):\n",
    "    type_1_error, type_2_error = lfi.test.simulate_error(dataset_P, dataset_Q,\n",
    "                                                            1300000, n_cal, n_ev, \n",
    "                                                            kernel, repeats,\n",
    "                                                            pi, m_list,\n",
    "                                                            batch_size,\n",
    "                                                            plot_hist_path='../assets/hist.png',\n",
    "                                                            verbose=True)\n",
    "    type_1_error_mat[i, :, :] = type_1_error\n",
    "    type_2_error_mat[i, :, :] = type_2_error\n",
    "    clear_output(wait=True)\n",
    "# np.save('Type12_mat.npy', Type12_mat)\n",
    "# np.save('type_1_error_mat.npy', type_1_error_mat)\n",
    "# np.save('type_2_error_mat.npy', type_2_error_mat)\n",
    "# np.save('Type1_mat.npy', Type1_mat) \n",
    "# np.save('Type2_mat.npy', Type2_mat)\n"
   ]
  },
  {
   "cell_type": "code",
   "execution_count": 15,
   "metadata": {},
   "outputs": [
    {
     "data": {
      "text/plain": [
       "<matplotlib.colorbar.Colorbar at 0x7f693c4698b0>"
      ]
     },
     "execution_count": 15,
     "metadata": {},
     "output_type": "execute_result"
    },
    {
     "data": {
      "image/png": "[encoded data removed]",
      "text/plain": [
       "<Figure size 480x480 with 2 Axes>"
      ]
     },
     "metadata": {},
     "output_type": "display_data"
    }
   ],
   "source": [
    "def not_outlier(A, axis=2):\n",
    "    mask = np.abs(A)>0\n",
    "    mean = np.mean(A, axis, keepdims=True, where=mask)\n",
    "    std = np.std(A, axis, keepdims=True, where=mask)\n",
    "    scores = (A-mean)/std\n",
    "    output = np.logical_and(np.abs(scores)<2, mask)\n",
    "    return output\n",
    "Type1_mat = np.mean(type_1_error_mat, where = not_outlier(type_1_error_mat), axis=2)\n",
    "Type2_mat = np.mean(type_2_error_mat, where = not_outlier(type_2_error_mat), axis=2)\n",
    "Type12_mat = Type1_mat + Type2_mat\n",
    "clear_output(wait=True)\n",
    "plt.matshow(Type1_mat)\n",
    "plt.colorbar()"
   ]
  },
  {
   "cell_type": "code",
   "execution_count": 19,
   "metadata": {},
   "outputs": [
    {
     "data": {
      "text/plain": [
       "<matplotlib.image.AxesImage at 0x7f691e565970>"
      ]
     },
     "execution_count": 19,
     "metadata": {},
     "output_type": "execute_result"
    },
    {
     "data": {
      "image/png": "[encoded data removed]",
      "text/plain": [
       "<Figure size 480x480 with 1 Axes>"
      ]
     },
     "metadata": {},
     "output_type": "display_data"
    }
   ],
   "source": [
    "Type1_mat = np.mean(type_1_error_mat, axis=2)\n",
    "Type2_mat = np.mean(type_2_error_mat, axis=2)\n",
    "Type12_mat = Type1_mat + Type2_mat\n",
    "plt.matshow(Type12_mat)"
   ]
  },
  {
   "attachments": {},
   "cell_type": "markdown",
   "metadata": {},
   "source": [
    "# Plot"
   ]
  },
  {
   "cell_type": "code",
   "execution_count": 17,
   "metadata": {},
   "outputs": [],
   "source": [
    "# Type12_mat = np.load('Type12_mat.npy')"
   ]
  },
  {
   "cell_type": "code",
   "execution_count": 20,
   "metadata": {},
   "outputs": [
    {
     "name": "stdout",
     "output_type": "stream",
     "text": [
      "[0.1        0.12845442 0.16057272 0.19590892 0.2339067  0.27394203\n",
      " 0.31536447 0.35753323 0.39984607 0.44176023 0.48280553 0.52259074\n",
      " 0.56080433 0.59721112 0.63164603 0.66400608 0.69424168 0.72234762\n",
      " 0.74835465 0.77232155 0.79432823]\n"
     ]
    },
    {
     "data": {
      "image/png": "[encoded data removed]",
      "text/plain": [
       "<Figure size 640x480 with 2 Axes>"
      ]
     },
     "metadata": {},
     "output_type": "display_data"
    }
   ],
   "source": [
    "Type12_mat_log = -np.log10(-np.log10(Type12_mat))\n",
    "levels = 20\n",
    "fig, ax = plt.subplots()\n",
    "contourf_ = ax.contourf(np.log10(m_list), np.log10(n_ev_list), Type12_mat, levels=levels)\n",
    "cb = fig.colorbar(contourf_)\n",
    "log_log_p_list = cb.mappable.levels \n",
    "real_p_list = 10**(-(10**(-log_log_p_list)))\n",
    "print(real_p_list)\n",
    "real_p_list = np.around(real_p_list, decimals=4)\n",
    "real_p_list = real_p_list.astype(str)\n",
    "# real_p_list[0] = '1.42e-16'\n",
    "# real_p_list[1] = '6.02e-12'\n",
    "# real_p_list[2] = '1.14e-08'\n",
    "# real_p_list[3] = '2.38e-06'\n",
    "cb.set_ticks(log_log_p_list[1:-1:2])\n",
    "cb.set_ticklabels(real_p_list[1:-1:2])\n",
    "# plt.xlim(1, 4)\n",
    "# plt.ylim(1, 4)\n",
    "plt.xlabel('lg(m)')\n",
    "plt.ylabel('lg($n_{ev}$)')\n",
    "plt.title('Type I error + II error')\n",
    "plt.savefig('Type12_mat.pdf', dpi=300)"
   ]
  },
  {
   "cell_type": "code",
   "execution_count": null,
   "metadata": {},
   "outputs": [],
   "source": []
  },
  {
   "cell_type": "code",
   "execution_count": null,
   "metadata": {},
   "outputs": [],
   "source": []
  }
 ],
 "metadata": {
  "kernelspec": {
   "display_name": "Python 3 (ipykernel)",
   "language": "python",
   "name": "python3"
  },
  "language_info": {
   "codemirror_mode": {
    "name": "ipython",
    "version": 3
   },
   "file_extension": ".py",
   "mimetype": "text/x-python",
   "name": "python",
   "nbconvert_exporter": "python",
   "pygments_lexer": "ipython3",
   "version": "3.9.12"
  },
  "vscode": {
   "interpreter": {
    "hash": "b3398c4b5aa1e55195b0bb96b4f8fc5c3f4a0ffb5794362f58b6653d525fb08f"
   }
  }
 },
 "nbformat": 4,
 "nbformat_minor": 4
}

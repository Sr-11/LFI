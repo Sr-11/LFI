{
 "cells": [
  {
   "cell_type": "code",
   "execution_count": 1,
   "metadata": {},
   "outputs": [
    {
     "name": "stderr",
     "output_type": "stream",
     "text": [
      "/math/home/eruisun/software/anaconda/envs/LFI/lib/python3.9/site-packages/tqdm/auto.py:22: TqdmWarning: IProgress not found. Please update jupyter and ipywidgets. See https://ipywidgets.readthedocs.io/en/stable/user_install.html\n",
      "  from .autonotebook import tqdm as notebook_tqdm\n"
     ]
    }
   ],
   "source": [
    "import numpy as np\n",
    "import torch\n",
    "from utils import *\n",
    "from matplotlib import pyplot as plt\n",
    "import os\n",
    "from GPUtil import showUtilization as gpu_usage\n",
    "from tqdm import tqdm, trange\n",
    "import os\n",
    "os.environ[\"CUDA_DEVICE_ORDER\"]=\"PCI_BUS_ID\"\n",
    "os.environ[\"CUDA_VISIBLE_DEVICES\"]=\"0\"  # specify which GPU(s) to be used\n",
    " \n",
    "# Define the network structure\n",
    "H = 300\n",
    "out = 100\n",
    "L = 1\n",
    "class DN(torch.nn.Module):\n",
    "    def __init__(self):\n",
    "        super(DN, self).__init__()\n",
    "        self.restored = False\n",
    "        self.model = torch.nn.Sequential(\n",
    "            torch.nn.Linear(28, H, bias=True),\n",
    "            torch.nn.ReLU(),\n",
    "            torch.nn.Linear(H, H, bias=True),\n",
    "            torch.nn.ReLU(),\n",
    "            torch.nn.Linear(H, H, bias=True),\n",
    "            torch.nn.ReLU(),\n",
    "            torch.nn.Linear(H, H, bias=True),\n",
    "            torch.nn.ReLU(),\n",
    "            torch.nn.Linear(H, H, bias=True),\n",
    "            torch.nn.ReLU(),\n",
    "            torch.nn.Linear(H, out, bias=True),\n",
    "            #torch.nn.Dropout(p=0.5),\n",
    "        )\n",
    "    def forward(self, input):\n",
    "        output = self.model(input)\n",
    "        return output\n",
    "\n",
    "class another_DN(torch.nn.Module):\n",
    "    def __init__(self):\n",
    "        super(another_DN, self).__init__()\n",
    "        self.restored = False\n",
    "        self.model = torch.nn.Sequential(\n",
    "            torch.nn.Linear(28, H, bias=True),\n",
    "            torch.nn.Tanh(),\n",
    "            torch.nn.Linear(H, H, bias=True),\n",
    "            torch.nn.Tanh(),\n",
    "            torch.nn.Linear(H, H, bias=True),\n",
    "            torch.nn.Tanh(),\n",
    "            torch.nn.Linear(H, H, bias=True),\n",
    "            torch.nn.Tanh(),\n",
    "            torch.nn.Linear(H, H, bias=True),\n",
    "            torch.nn.Tanh(),\n",
    "            torch.nn.Linear(H, 28, bias=True),\n",
    "        )\n",
    "    def forward(self, input):\n",
    "        output = input\n",
    "        return output\n",
    "\n",
    "from kmod.kernel import DifferentiableKernel, KSTKernel, LinearKSTKernel\n",
    "from utils import Pdist2\n",
    "#class NeuralKernel(DifferentiableKernel, KSTKernel, LinearKSTKernel): \n",
    "# Since we use pytorch rather than autograd.np, we don't follow the above inheritance\n",
    "class NeuralKernel():\n",
    "    \"\"\"\n",
    "    A neural net + a isotropic Gaussian kernel.\n",
    "    Parameterization is the same as in the density of the standard normal\n",
    "    distribution. sigma2 is analogous to the variance.\n",
    "    \"\"\"\n",
    "    def __init__(self, model, another_model, epsilonOPT, sigmaOPT, sigma0OPT, eps, cst):\n",
    "        self.model = model\n",
    "        self.another_model = another_model\n",
    "        self.epsilonOPT = epsilonOPT\n",
    "        self.sigmaOPT = sigmaOPT\n",
    "        self.sigma0OPT = sigma0OPT\n",
    "        self.eps = eps\n",
    "        self.cst = cst\n",
    "        self.params = list(model.parameters())+list(another_model.parameters())+[epsilonOPT]+[sigmaOPT]+[sigma0OPT]+[eps]+[cst]\n",
    "\n",
    "    def compute_feature_matrix(self, XY, V): # compute fea_pq = psi_p(V)-psi_q(V) = n x J,\n",
    "        \"\"\"\n",
    "        Evaluate the Gaussian kernel on the two 2d numpy arrays.\n",
    "\n",
    "        Parameters\n",
    "        ----------\n",
    "        XY : (n1+n2) x d numpy array\n",
    "        V : J x d numpy array\n",
    "\n",
    "        Return\n",
    "        ------\n",
    "        fea_pq : n x J numpy array\n",
    "        \"\"\"\n",
    "        len_X = XY.shape[0]/2\n",
    "        J = V.shape[0]\n",
    "\n",
    "        cst = self.cst\n",
    "        sigma0 = self.sigma0OPT ** 2\n",
    "        sigma = self.sigmaOPT ** 2\n",
    "        epsilon = torch.exp(self.epsilonOPT)/(1+torch.exp(self.epsilonOPT))\n",
    "\n",
    "\n",
    "        model_XY = self.model(XY)\n",
    "        another_model_XY = self.another_model(XY)\n",
    "        model_X = model_XY[0:len_X, :]\n",
    "        model_Y = model_XY[len_X:, :]\n",
    "        another_model_X = another_model_XY[0:len_X, :]\n",
    "        another_model_Y = another_model_XY[len_X:, :]\n",
    "\n",
    "        model_V = self.model(V)\n",
    "        another_model_V = self.another_model(V)\n",
    "\n",
    "        Dxv = Pdist2(model_X, model_V)\n",
    "        Dyv = Pdist2(model_Y, model_V)\n",
    "        Dxv_org = Pdist2(another_model_X, another_model_V)\n",
    "        Dyv_org = Pdist2(another_model_Y, another_model_V)\n",
    "\n",
    "        Kxv = cst*((1-epsilon) * torch.exp(-(Dxv / sigma0) - (Dxv_org / sigma))**L + epsilon * torch.exp(-Dxv_org / sigma))\n",
    "        Kyv = cst*((1-epsilon) * torch.exp(-(Dyv / sigma0) - (Dyv_org / sigma))**L + epsilon * torch.exp(-Dyv_org / sigma))\n",
    "\n",
    "        fea_pq = 1/np.sqrt(J) * (Kxv - Kyv)\n",
    "        return fea_pq\n",
    "        \n",
    "    def compute_UME_mean_variance(self, XY, V): # compute mean and var of UME(X,Y)\n",
    "        \"\"\"\n",
    "        Return the mean and variance of the reduced\n",
    "        test statistic = \\sqrt{n} UME(P, Q)^2\n",
    "        The estimator of the mean is unbiased (can be negative).\n",
    "\n",
    "        returns: (mean, variance)\n",
    "        \"\"\"\n",
    "        # get the feature matrices psi (correlated)\n",
    "        # fea_pq = psi_p(V)-psi_q(V) = n x J,\n",
    "        J = V.shape[0]\n",
    "        n = XY.shape[0]/2\n",
    "        fea_pq = self.compute_feature_matrix(XY, V) # n x J\n",
    "\n",
    "        # compute the mean \n",
    "        t1 = torch.sum( torch.mean(fea_pq, axis=0)**2) * (n/float(n-1))\n",
    "        t2 = torch.mean(torch.sum(fea_pq**2, axis=1)) / float(n-1)\n",
    "        UME_mean = t1 - t2\n",
    "\n",
    "        # compute the variance\n",
    "        mu = torch.mean(fea_pq, axis=0) # length-J vector\n",
    "        UME_variance = 4.0*torch.mean(np.dot(fea_pq, mu)**2) - 4.0*torch.sum(mu**2)**2\n",
    "\n",
    "        return UME_mean, UME_variance\n",
    "\n",
    "# define the loss function\n",
    "def power_criterion_mix(XY, V, kernel): #  objective to maximize, \n",
    "    \"\"\"\n",
    "    Note: compared to Jit18, here R is linear mixture of P and Q, we don't need R for the objective\n",
    "    \"\"\"\n",
    "    # compute the mean and variance of the test statistic\n",
    "    TEMP = kernel.compute_UME_mean_variance(XY, V)\n",
    "    # calculate objective\n",
    "    UME_mean = TEMP[0]\n",
    "    UME_var = TEMP[1]\n",
    "    UME_std = torch.sqrt(UME_var+10**(-8))\n",
    "    ratio = torch.div(UME_mean,UME_std)\n",
    "    return ratio\n",
    "\n",
    "# save ckeckpoint\n",
    "def save_model(V, kernel, epoch, folder_path):\n",
    "    path = folder_path+str(epoch)+'/'\n",
    "    try:\n",
    "        os.makedirs(path) \n",
    "    except:\n",
    "        pass\n",
    "    torch.save(kernel.model.state_dict(), path+'model.pt')\n",
    "    torch.save(kernel.another_model.state_dict(), path+'another_model.pt')\n",
    "    torch.save(kernel.epsilonOPT, path+'epsilonOPT.pt')\n",
    "    torch.save(kernel.sigmaOPT, path+'sigmaOPT.pt')\n",
    "    torch.save(kernel.sigma0OPT, path+'sigma0OPT.pt')\n",
    "    torch.save(kernel.cst, path+'cst.pt')\n",
    "    torch.save(V, path+'V.pt')\n",
    "\n",
    "# load checkpoint\n",
    "def load_model(folder_path, epoch=0):\n",
    "    print('loading model from epoch', epoch)\n",
    "    path = folder_path+str(epoch)+'/'\n",
    "    model = DN().cuda()\n",
    "    model.load_state_dict(torch.load(path+'model.pt'))\n",
    "    another_model = another_DN().cuda()\n",
    "    another_model.load_state_dict(torch.load(path+'another_model.pt'))\n",
    "    epsilonOPT = torch.load(path+'epsilonOPT.pt')\n",
    "    sigmaOPT = torch.load(path+'sigmaOPT.pt')\n",
    "    sigma0OPT = torch.load(path+'sigma0OPT.pt')\n",
    "    eps = torch.load(path+'eps.pt')\n",
    "    cst = torch.load(path+'cst.pt')\n",
    "    V = torch.load(path+'V.pt')\n",
    "    kernel = NeuralKernel(model, another_model, epsilonOPT, sigmaOPT, sigma0OPT, eps, cst)\n",
    "    return V, kernel\n",
    "\n"
   ]
  },
  {
   "attachments": {},
   "cell_type": "markdown",
   "metadata": {},
   "source": [
    "# Import Packages"
   ]
  },
  {
   "cell_type": "code",
   "execution_count": 2,
   "metadata": {},
   "outputs": [],
   "source": [
    "from kmod import density, util, kernel\n",
    "from kmod import mctest as mct\n",
    "import matplotlib.pyplot as plt\n",
    "import autograd.numpy as np\n",
    "import autograd\n",
    "import scipy\n",
    "import kgof\n",
    "from kmod.mctest import SC_UME as SC_UME\n"
   ]
  },
  {
   "attachments": {},
   "cell_type": "markdown",
   "metadata": {},
   "source": [
    "# Load Dataset"
   ]
  },
  {
   "cell_type": "code",
   "execution_count": 3,
   "metadata": {},
   "outputs": [
    {
     "name": "stdout",
     "output_type": "stream",
     "text": [
      "/math/home/eruisun\n",
      "background : signal = 5829122.0 : 5170877.0\n",
      "signal : 52.99202299927481 %\n"
     ]
    }
   ],
   "source": [
    "# dataset = np.load('~/LFI/Higgs/HIGGS.npy')\n",
    "%cd ~\n",
    "dataset = np.load('./LFI/Higgs/HIGGS.npy')\n",
    "print('background : signal =',np.sum(dataset[:,0]),':',dataset.shape[0]-np.sum(dataset[:,0]))\n",
    "print('signal :',np.sum(dataset[:,0])/dataset.shape[0]*100,'%')\n",
    "# split into signal and background\n",
    "dataset_P = dataset[dataset[:,0]==0][:, 1:] # background (5170877, 28)\n",
    "dataset_Q = dataset[dataset[:,0]==1][:, 1:] # signal     (5829122, 28) "
   ]
  },
  {
   "cell_type": "code",
   "execution_count": 4,
   "metadata": {},
   "outputs": [],
   "source": [
    "# random select train X,Y\n",
    "datptr = kgof.data.Data(dataset_P[np.random.choice(dataset_P.shape[0], 100_000)])\n",
    "datqtr = kgof.data.Data(dataset_Q[np.random.choice(dataset_Q.shape[0], 100_000)])\n",
    "# random select train Z\n",
    "background_events = dataset_P[np.random.choice(dataset_P.shape[0], 90_000)]\n",
    "signal_events = dataset_Q[np.random.choice(dataset_Q.shape[0], 10_000)]\n",
    "datrtr = kgof.data.Data(np.concatenate((signal_events, background_events), axis=0))"
   ]
  },
  {
   "attachments": {},
   "cell_type": "markdown",
   "metadata": {},
   "source": [
    "# Optimize"
   ]
  },
  {
   "attachments": {},
   "cell_type": "markdown",
   "metadata": {},
   "source": [
    "注意这里PQR三个都被split了"
   ]
  },
  {
   "cell_type": "code",
   "execution_count": 5,
   "metadata": {},
   "outputs": [],
   "source": [
    "# split the data into training/test sets\n",
    "Xtr, Ytr, Ztr = [D.data() for D in [datptr, datqtr, datrtr]]"
   ]
  },
  {
   "attachments": {},
   "cell_type": "markdown",
   "metadata": {},
   "source": [
    "## Train the kernel and $W$"
   ]
  },
  {
   "cell_type": "code",
   "execution_count": null,
   "metadata": {},
   "outputs": [],
   "source": [
    "def early_stopping(validation_losses, epoch):\n",
    "    i = np.argmin(validation_losses)\n",
    "    # print(i)\n",
    "    if epoch - i > 10:\n",
    "        return True\n",
    "    else:\n",
    "        return False"
   ]
  },
  {
   "cell_type": "code",
   "execution_count": 6,
   "metadata": {},
   "outputs": [],
   "source": [
    "\n",
    "def optimize_3sample_criterion_and_kernel(prepared_batched_XY, # total_S, is a list\n",
    "                                          validation_XY, # validation set, is 2n*d\n",
    "                                        V, kernel, # params\n",
    "                                        N_epoch=100, learning_rate=0.01, momentum=0.9, # optimizer\n",
    "                                        print_every=10, # print and save checkpoint\n",
    "                                        early_stopping=None, # early stopping boolean function\n",
    "                                        fig_loss_epoch_name='', # name of the loss vs epoch figure\n",
    "                                        ):\n",
    "    params = list(kernel.params) + [V]\n",
    "    optimizer = torch.optim.SGD(params, lr=learning_rate, momentum=momentum)\n",
    "    total_S = prepared_batched_XY\n",
    "    batches = len(total_S)\n",
    "    #############################\n",
    "    # start training\n",
    "    #############################\n",
    "    validation_ratio_list = np.ones([N_epoch])*np.inf\n",
    "    for t in range(N_epoch):\n",
    "        print('epoch',t)\n",
    "        order = np.random.permutation(batches)\n",
    "        for ind in tqdm(order):\n",
    "            optimizer.zero_grad()\n",
    "            # calculate parameters\n",
    "            XY = total_S[ind]\n",
    "            # calculate MMD\n",
    "            ratio = power_criterion_mix(XY, V, kernel)\n",
    "            obj = -ratio\n",
    "            # update parameters\n",
    "            obj.backward(retain_graph=False)\n",
    "            obj.step()     \n",
    "        #validation\n",
    "        with torch.torch.no_grad():\n",
    "            validation_ratio = power_criterion_mix(validation_XY, V, kernel).item()\n",
    "            validation_ratio_list.append(validation_ratio)\n",
    "            print('validation =', validation_ratio_list[t])\n",
    "        # print log\n",
    "        if t%print_every==0:\n",
    "            plt.plot(validation_ratio_list[:t])\n",
    "            plt.savefig(fig_loss_epoch_name)\n",
    "            plt.clf()\n",
    "            save_model(params)\n",
    "        # early stopping\n",
    "        if early_stopping(validation_ratio_list, t):\n",
    "            save_model(params)\n",
    "            plt.plot(validation_ratio_list[:t])\n",
    "            plt.savefig(fig_loss_epoch_name)\n",
    "            plt.clf()\n",
    "            return V, kernel\n",
    "    return V, kernel"
   ]
  },
  {
   "cell_type": "code",
   "execution_count": null,
   "metadata": {},
   "outputs": [],
   "source": [
    "# train the network\n",
    "def train(n_tr, J=10, # size of X_tr, Y_tr and W=V\n",
    "        load_epoch=0, # load checkpoint if >0\n",
    "        batch_size=32, N_epoch=100, learning_rate=0.01, momentum=0.9, # optimizer\n",
    "        print_every=10, # print and save checkpoint\n",
    "        early_stopping=None, # early stopping boolean function\n",
    "        fig_loss_epoch_name='', # name of the loss vs epoch figure\n",
    "        seed = 0, # random seed\n",
    "        ):\n",
    "    n_backup = n_tr\n",
    "    try:\n",
    "        os.mkdir('./checkpoint n_tr=%d'%n_backup)\n",
    "    except:\n",
    "        pass\n",
    "    torch.manual_seed(seed)\n",
    "    np.random.seed(seed)\n",
    "    torch.backends.cudnn.deterministic = True\n",
    "    dtype = torch.float\n",
    "    device = torch.device(\"cuda:0\")\n",
    "\n",
    "    batches = n_tr//batch_size + 1 \n",
    "    n = batches*batch_size  \n",
    "    X = dataset_P[0:n]\n",
    "    Y = dataset_Q[0:n]\n",
    "\n",
    "    # prepare training data\n",
    "    total_S = [(X[i*batch_size:(i+1)*batch_size], \n",
    "                Y[i*batch_size:(i+1)*batch_size]) \n",
    "                for i in range(batches)]\n",
    "    total_S = [MatConvert(np.concatenate((X, Y), axis=0), device, dtype) for (X, Y) in total_S]\n",
    "\n",
    "    # prepare NN and kernel and V=W \n",
    "    model = DN().cuda()\n",
    "    another_model = another_DN().cuda()\n",
    "\n",
    "    epsilonOPT = MatConvert(np.zeros(1), device, dtype) # set to 0 for MMD-G\n",
    "    epsilonOPT.requires_grad = True\n",
    "    sigmaOPT = MatConvert(np.sqrt(np.random.rand(1) * 0.3), device, dtype)\n",
    "    sigmaOPT.requires_grad = True\n",
    "    sigma0OPT = MatConvert(np.sqrt(np.random.rand(1) * 0.002), device, dtype)\n",
    "    sigma0OPT.requires_grad = True\n",
    "    eps=MatConvert(np.zeros((1,)), device, dtype)\n",
    "    eps.requires_grad = True\n",
    "    cst=MatConvert(1*np.ones((1,)), device, dtype)\n",
    "    cst.requires_grad = True\n",
    "    kernel = NeuralKernel(model, another_model, epsilonOPT, sigmaOPT, sigma0OPT, eps, cst)\n",
    "\n",
    "    V = MatConvert(np.random.randn(J, 28), device, dtype)\n",
    "\n",
    "    # load checkpoint if one want to start from a previous checkpoint\n",
    "    if load_epoch>0:\n",
    "        V, kernel = load_model(n_backup, load_epoch)\n",
    "        print('loaded')\n",
    "    kernel.model.eval()\n",
    "    kernel.another_model.eval()\n",
    "\n",
    "    # validation data\n",
    "    validation_XY = np.concatenate((dataset_P[n + np.random.choice(n, 10000, replace=False)], \n",
    "                            dataset_Q[n + np.random.choice(n, 10000, replace=False)]), axis=0)\n",
    "    validation_XY = MatConvert(validation_XY, device, dtype)\n",
    "\n",
    "    #############################\n",
    "    # start training\n",
    "    #############################\n",
    "    return optimize_3sample_criterion_and_kernel(total_S, # total_S, is a list\n",
    "                                          validation_XY, # validation set, is 2n*d\n",
    "                                        V, kernel, # params\n",
    "                                        N_epoch=100, learning_rate=0.01, momentum=0.9, # optimizer\n",
    "                                        print_every=10, # print and save checkpoint\n",
    "                                        early_stopping=None, # early stopping boolean function\n",
    "                                        fig_loss_epoch_name='', # name of the loss vs epoch figure\n",
    "                                        )\n"
   ]
  },
  {
   "attachments": {},
   "cell_type": "markdown",
   "metadata": {},
   "source": [
    "## Test\n",
    "求几sigma不需要thres $T_\\alpha$\n",
    "求p-value就行\n"
   ]
  },
  {
   "attachments": {},
   "cell_type": "markdown",
   "metadata": {},
   "source": [
    "再注意它们的p-value是用asym估计的，\n",
    "我们也是用Gaussian估计？\n",
    "一样？"
   ]
  },
  {
   "cell_type": "code",
   "execution_count": 9,
   "metadata": {},
   "outputs": [],
   "source": [
    "def test_one_time(arg):\n",
    "    # random select test X,Y\n",
    "    datpte = kgof.data.Data(dataset_P[np.random.choice(dataset_P.shape[0], 10_000)])\n",
    "    datqte = kgof.data.Data(dataset_Q[np.random.choice(dataset_Q.shape[0], 10_000)])\n",
    "    # random select test Z\n",
    "    # background_events = dataset_P[np.random.choice(dataset_P.shape[0], 1000)]\n",
    "    # signal_events = dataset_Q[np.random.choice(dataset_Q.shape[0], 100)]\n",
    "    if arg == 'null':\n",
    "        datrte =  kgof.data.Data(dataset_P[np.random.choice(dataset_P.shape[0], 10_000)])\n",
    "    elif arg == 'mix':\n",
    "        background_events = dataset_P[np.random.choice(dataset_P.shape[0], 100)]\n",
    "        signal_events = dataset_Q[np.random.choice(dataset_Q.shape[0], 9900)]\n",
    "        datrte = kgof.data.Data(np.concatenate((signal_events, background_events), axis=0))\n",
    "\n",
    "    # Gaussian kernel constructed with the optimized squared bandwidth\n",
    "    k_opt = kernel.KGauss(gw2_opt)\n",
    "    # Construct an object to represent the test. Use the test data here (not the training data!)\n",
    "    scume_opt3 = mct.SC_UME(datpte, datqte, k_opt, k_opt, V_opt, V_opt)\n",
    "    # returns a dictionary\n",
    "    test_result = scume_opt3.perform_test(datrte)\n",
    "    # display(test_result)\n",
    "    return test_result"
   ]
  },
  {
   "cell_type": "code",
   "execution_count": 10,
   "metadata": {},
   "outputs": [
    {
     "name": "stderr",
     "output_type": "stream",
     "text": [
      "100%|██████████| 1000/1000 [00:36<00:00, 27.27it/s]\n"
     ]
    }
   ],
   "source": [
    "from tqdm import tqdm, trange\n",
    "Monte = 100\n",
    "null_test_results = []\n",
    "test_results = []\n",
    "for i in trange(Monte):\n",
    "    test_results.append(test_one_time('mix'))\n",
    "    null_test_results.append(test_one_time('null'))"
   ]
  },
  {
   "cell_type": "code",
   "execution_count": 11,
   "metadata": {},
   "outputs": [
    {
     "name": "stdout",
     "output_type": "stream",
     "text": [
      "mean of mix pvalues:  0.16720177721431645\n",
      "mean of null pvalues:  -0.1452878041857865\n"
     ]
    }
   ],
   "source": [
    "pvalues = np.array([r['pvalue'] for r in test_results])\n",
    "null_pvalues = np.array([r['pvalue'] for r in null_test_results])\n",
    "# transform into sigma unit\n",
    "from scipy.stats import norm\n",
    "pvalues = norm.ppf(1-pvalues)\n",
    "null_pvalues = norm.ppf(1-null_pvalues)\n",
    "# print mean\n",
    "print('mean of mix pvalues: ', np.mean(pvalues))\n",
    "print('mean of null pvalues: ', np.mean(null_pvalues))"
   ]
  },
  {
   "cell_type": "code",
   "execution_count": 12,
   "metadata": {},
   "outputs": [
    {
     "data": {
      "text/plain": [
       "<matplotlib.legend.Legend at 0x7fb62d3d5190>"
      ]
     },
     "execution_count": 12,
     "metadata": {},
     "output_type": "execute_result"
    },
    {
     "data": {
      "image/png": "[encoded data removed]",
      "text/plain": [
       "<Figure size 640x480 with 1 Axes>"
      ]
     },
     "metadata": {},
     "output_type": "display_data"
    }
   ],
   "source": [
    "plt.hist([r['test_stat'] for r in test_results], bins=50, alpha=0.5, label='mix')\n",
    "plt.hist([r['test_stat'] for r in null_test_results], bins=50, alpha=0.5, label='null')\n",
    "plt.legend()"
   ]
  },
  {
   "attachments": {},
   "cell_type": "markdown",
   "metadata": {},
   "source": [
    "# 用模拟值算pval"
   ]
  },
  {
   "cell_type": "code",
   "execution_count": 13,
   "metadata": {},
   "outputs": [
    {
     "name": "stderr",
     "output_type": "stream",
     "text": [
      "100%|██████████| 1000/1000 [00:03<00:00, 269.92it/s]\n"
     ]
    }
   ],
   "source": [
    "simulated_pvalues = []\n",
    "null_stats = [r['test_stat'] for r in null_test_results]\n",
    "for i in trange(Monte):\n",
    "    stat = test_results[i]['test_stat']\n",
    "    simulated_pvalues.append(np.mean(stat > np.array(null_stats)))"
   ]
  },
  {
   "cell_type": "code",
   "execution_count": 14,
   "metadata": {},
   "outputs": [
    {
     "name": "stdout",
     "output_type": "stream",
     "text": [
      "mean of simulated pvalues:  0.64281\n",
      "simulated pvalue in sigma:  0.36597999934450454\n"
     ]
    }
   ],
   "source": [
    "# simulated_pvalues = norm.ppf(1-np.array(simulated_pvalues))\n",
    "simulated_pvalue = np.mean(simulated_pvalues)\n",
    "print('mean of simulated pvalues: ', np.mean(simulated_pvalues))\n",
    "# into sigma unit\n",
    "simulated_pvalue = norm.ppf(simulated_pvalue)\n",
    "print('simulated pvalue in sigma: ', simulated_pvalue)"
   ]
  },
  {
   "cell_type": "code",
   "execution_count": null,
   "metadata": {},
   "outputs": [],
   "source": [
    "\n",
    "# if __name__ == \"__main__\":\n",
    "#     dataset = np.load('../HIGGS.npy')\n",
    "#     dataset_P = dataset[dataset[:,0]==0][:, 1:] # background (5829122, 28)\n",
    "#     dataset_Q = dataset[dataset[:,0]==1][:, 1:] # signal     (5170877, 28)\n",
    "\n",
    "#     n_list = [1300000, 1000000, 700000, 400000, 200000, 50000]\n",
    "#     for n in [1300000, 1000000, 700000, 400000, 200000, 50000]:\n",
    "#         for i in range(11):\n",
    "#             n_list.append(n+i)\n",
    "    \n",
    "#     for n in n_list:\n",
    "#         print('------ n =', n, '------')\n",
    "#         model,another_model,epsilonOPT,sigmaOPT,sigma0OPT,cst = train(n, \n",
    "#             N_epoch = 501,\n",
    "#             print_every = 5, \n",
    "#             batch_size = 1024, \n",
    "#             learning_rate = 2e-3, \n",
    "#             SGD = True, \n",
    "#             dataset_P = dataset_P, dataset_Q = dataset_Q,\n",
    "#             momentum=0.99, weight_decay=0.000)\n"
   ]
  }
 ],
 "metadata": {
  "kernelspec": {
   "display_name": "LFI",
   "language": "python",
   "name": "python3"
  },
  "language_info": {
   "codemirror_mode": {
    "name": "ipython",
    "version": 3
   },
   "file_extension": ".py",
   "mimetype": "text/x-python",
   "name": "python",
   "nbconvert_exporter": "python",
   "pygments_lexer": "ipython3",
   "version": "3.9.12"
  },
  "orig_nbformat": 4
 },
 "nbformat": 4,
 "nbformat_minor": 2
}

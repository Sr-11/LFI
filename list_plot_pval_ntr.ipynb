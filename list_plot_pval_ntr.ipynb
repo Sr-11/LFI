{
 "cells": [
  {
   "attachments": {},
   "cell_type": "markdown",
   "metadata": {},
   "source": [
    "# Import Packages"
   ]
  },
  {
   "cell_type": "code",
   "execution_count": 16,
   "metadata": {},
   "outputs": [],
   "source": [
    "import numpy as np\n",
    "from matplotlib import pyplot as plt\n",
    "import os\n",
    "from IPython.display import clear_output\n",
    "import torch, sys\n",
    "import pandas as pd\n",
    "import importlib.util\n",
    "os.environ[\"CUDA_DEVICE_ORDER\"]=\"PCI_BUS_ID\"\n",
    "os.environ[\"CUDA_VISIBLE_DEVICES\"]=\"0\"  \n",
    "device = torch.device(\"cuda:0\")\n",
    "dtype = torch.float32\n",
    "torch.manual_seed(42)\n",
    "np.random.seed(42)"
   ]
  },
  {
   "cell_type": "code",
   "execution_count": 17,
   "metadata": {},
   "outputs": [],
   "source": [
    "import global_config\n",
    "ns = global_config.test_param_configs['n_tr_list']"
   ]
  },
  {
   "attachments": {},
   "cell_type": "markdown",
   "metadata": {},
   "source": [
    "# Load p-value Data\n"
   ]
  },
  {
   "cell_type": "code",
   "execution_count": 18,
   "metadata": {},
   "outputs": [],
   "source": [
    "df = pd.DataFrame(columns=['label', 'n_tr', 'E[pval]', 'std[pval]', 'color', 'linestyle', 'key', 'soft_or_hard', 'display_flag'])"
   ]
  },
  {
   "cell_type": "code",
   "execution_count": 19,
   "metadata": {},
   "outputs": [
    {
     "name": "stderr",
     "output_type": "stream",
     "text": [
      "/tmp/ipykernel_2269061/3360628288.py:36: FutureWarning: The frame.append method is deprecated and will be removed from pandas in a future version. Use pandas.concat instead.\n",
      "  df = df.append(new_row_soft, ignore_index=True)\n",
      "/tmp/ipykernel_2269061/3360628288.py:36: FutureWarning: In a future version, object-dtype columns with all-bool values will not be included in reductions with bool_only=True. Explicitly cast to bool dtype instead.\n",
      "  df = df.append(new_row_soft, ignore_index=True)\n",
      "/tmp/ipykernel_2269061/3360628288.py:37: FutureWarning: The frame.append method is deprecated and will be removed from pandas in a future version. Use pandas.concat instead.\n",
      "  df = df.append(new_row_hard, ignore_index=True)\n",
      "/tmp/ipykernel_2269061/3360628288.py:37: FutureWarning: In a future version, object-dtype columns with all-bool values will not be included in reductions with bool_only=True. Explicitly cast to bool dtype instead.\n",
      "  df = df.append(new_row_hard, ignore_index=True)\n"
     ]
    }
   ],
   "source": [
    "def clean(A):\n",
    "    mean = np.mean(A)\n",
    "    std = np.std(A)\n",
    "    scores = (A-mean)/std\n",
    "    return A[np.abs(scores)<0.9]\n",
    "for key in global_config.method_configs:\n",
    "    if global_config.method_configs[key]:\n",
    "        current_dir = sys.path[0]\n",
    "        config_path = current_dir+'/methods/'+key+'/config.py'\n",
    "        config_spec = importlib.util.spec_from_file_location('config', config_path)\n",
    "        config = importlib.util.module_from_spec(config_spec)\n",
    "        config_spec.loader.exec_module(config)\n",
    "        pval_path = config.expr_configs['pval_mat_path']\n",
    "        for n in ns:\n",
    "            try:\n",
    "                p_soft_mat = np.load(pval_path+'/n_tr=%d_soft.npy'%n)\n",
    "                p_hard_mat = np.load(pval_path+'/n_tr=%d_hard.npy'%n)\n",
    "                new_row_soft = {'label': None, \n",
    "                                'n_tr': n, \n",
    "                                'E[pval]': np.mean(clean(p_soft_mat)),\n",
    "                                'std[pval]': np.std(clean(p_soft_mat)),\n",
    "                                'color': None,\n",
    "                                'linestyle': None,\n",
    "                                'key': key,\n",
    "                                'soft_or_hard': 'soft',\n",
    "                                'display_flag': False}\n",
    "                new_row_hard = {'label': None,\n",
    "                                'n_tr': n,\n",
    "                                'E[pval]': np.mean(clean(p_hard_mat)),\n",
    "                                'std[pval]': np.std(clean(p_hard_mat)),\n",
    "                                'color': None,\n",
    "                                'linestyle': None,\n",
    "                                'key': key,\n",
    "                                'soft_or_hard': 'hard',\n",
    "                                'display_flag': False}\n",
    "                df = df.append(new_row_soft, ignore_index=True)\n",
    "                df = df.append(new_row_hard, ignore_index=True)\n",
    "                clear_output(wait=True)\n",
    "            except:\n",
    "                pass"
   ]
  },
  {
   "attachments": {},
   "cell_type": "markdown",
   "metadata": {},
   "source": [
    "# Set (label, color, linestyle)"
   ]
  },
  {
   "cell_type": "code",
   "execution_count": 20,
   "metadata": {},
   "outputs": [],
   "source": [
    "colors = ['r', 'g', 'b', 'c', 'm', 'y', 'k']"
   ]
  },
  {
   "cell_type": "code",
   "execution_count": 21,
   "metadata": {},
   "outputs": [],
   "source": [
    "for index, row in df.iterrows():\n",
    "    if row['key'] == 'Res_Net' and row['soft_or_hard']=='hard':\n",
    "            df.at[index,'label'] = 'MMD-M with $t_{opt}$'\n",
    "            df.at[index,'color'] = 'black'; df.at[index,'linestyle'] = '-'\n",
    "            df.at[index,'display_flag'] = True\n",
    "    elif row['key'] == 'Res_Net' and row['soft_or_hard']=='soft':\n",
    "            row['label'] = 'MMD-M'\n",
    "            df.at[index,'color'] = 'C0'; df.at[index,'linestyle'] = '--'\n",
    "            df.at[index,'display_flag'] = True\n",
    "    elif row['key'] == 'Fea_Gau' and row['soft_or_hard']=='soft':\n",
    "            row['label'] = 'MMD-G'\n",
    "            df.at[index,'color'] = 'C1'; df.at[index,'linestyle'] = '--'\n",
    "            df.at[index,'display_flag'] = True\n",
    "    elif row['key'] == 'Gaussian' and row['soft_or_hard']=='soft':\n",
    "            row['label'] = 'MMD-O'\n",
    "            df.at[index,'color'] = 'm'; df.at[index,'linestyle'] = '--'\n",
    "            df.at[index,'display_flag'] = True\n",
    "    elif row['key'] == 'Scheffe' and row['soft_or_hard']=='hard':\n",
    "            row['label'] = 'SCHE with $t_{opt}$'\n",
    "            df.at[index,'color'] = 'blue'; df.at[index,'linestyle'] = '-'\n",
    "            df.at[index,'display_flag'] = True\n",
    "    elif row['key'] == 'Scheffe' and row['soft_or_hard']=='soft':\n",
    "            row['label'] = 'SCHE with t=0.5'\n",
    "            df.at[index,'color'] = 'orange'; df.at[index,'linestyle'] = '--'\n",
    "            df.at[index,'display_flag'] = True\n",
    "    elif row['key'] == 'LBI' and row['soft_or_hard']=='soft':\n",
    "            row['label'] = 'LBI'\n",
    "            df.at[index,'color'] = 'r'; df.at[index,'linestyle'] = '--'\n",
    "            df.at[index,'display_flag'] = True\n",
    "    elif row['key'] == 'UME' and row['soft_or_hard']=='soft':\n",
    "            row['label'] = 'UME'\n",
    "            df.at[index,'color'] = 'purple'; df.at[index,'linestyle'] = '--'\n",
    "            df.at[index,'display_flag'] = True\n",
    "    elif row['key'] == 'RFM' and row['soft_or_hard']=='soft':\n",
    "            row['label'] = 'RFM'\n",
    "            df.at[index,'color'] = 'c'; df.at[index,'linestyle'] = '--'\n",
    "            df.at[index,'display_flag'] = True"
   ]
  },
  {
   "attachments": {},
   "cell_type": "markdown",
   "metadata": {},
   "source": [
    "# Plot"
   ]
  },
  {
   "cell_type": "code",
   "execution_count": null,
   "metadata": {},
   "outputs": [],
   "source": []
  },
  {
   "cell_type": "code",
   "execution_count": 22,
   "metadata": {},
   "outputs": [],
   "source": [
    "label_list = ['MMD-M with $t_{opt}$',\n",
    "              'MMD-M',\n",
    "              'MMD-G',\n",
    "              'MMD-O',\n",
    "              'SCHE with $t_{opt}$',\n",
    "              'SCHE with t=0.5',\n",
    "              'LBI',\n",
    "              'UME',\n",
    "              'RFM']"
   ]
  },
  {
   "cell_type": "code",
   "execution_count": 23,
   "metadata": {},
   "outputs": [
    {
     "data": {
      "image/png": "[encoded data removed]",
      "text/plain": [
       "<Figure size 600x600 with 1 Axes>"
      ]
     },
     "metadata": {},
     "output_type": "display_data"
    }
   ],
   "source": [
    "fig = plt.figure(figsize=(6, 6))\n",
    "for label in label_list:\n",
    "    filtered_df = df[df['label'] == label]\n",
    "    mean_list = np.zeros(len(ns))\n",
    "    std_list = np.zeros(len(ns))\n",
    "    color = None\n",
    "    for i, n in enumerate(ns):\n",
    "        row = filtered_df[filtered_df['n_tr'] == n]\n",
    "        if row.shape[0] == 1:\n",
    "            mean_list[i] = row['E[pval]']\n",
    "            std_list[i] = row['std[pval]']\n",
    "            color = df.at[index,'color']\n",
    "        elif row.T.shape[0] > 1:\n",
    "            pass\n",
    "        else:\n",
    "            pass\n",
    "    plt.plot(ns, mean_list, label=label, marker='o', alpha=0.99, color=color)\n",
    "    plt.fill_between(ns, mean_list-std_list, mean_list+std_list, alpha=0.2, color=color)\n",
    "plt.legend(bbox_to_anchor=(0, 1.02, 1, 0.2), loc=\"lower left\",\n",
    "                mode=\"expand\", borderaxespad=0, ncol=2)\n",
    "plt.xlabel('Training set size 2n/million')\n",
    "plt.xticks(ns, np.array(ns)*2/10**6)\n",
    "plt.tick_params(axis='x', which='major', labelsize=7)\n",
    "plt.xticks(rotation=90)\n",
    "plt.ylabel('Significance of discovery/σ')\n",
    "plt.ylim(0.9, 5.5)\n",
    "plt.tight_layout()\n"
   ]
  },
  {
   "cell_type": "code",
   "execution_count": 24,
   "metadata": {},
   "outputs": [
    {
     "data": {
      "text/html": [
       "<div>\n",
       "<style scoped>\n",
       "    .dataframe tbody tr th:only-of-type {\n",
       "        vertical-align: middle;\n",
       "    }\n",
       "\n",
       "    .dataframe tbody tr th {\n",
       "        vertical-align: top;\n",
       "    }\n",
       "\n",
       "    .dataframe thead th {\n",
       "        text-align: right;\n",
       "    }\n",
       "</style>\n",
       "<table border=\"1\" class=\"dataframe\">\n",
       "  <thead>\n",
       "    <tr style=\"text-align: right;\">\n",
       "      <th></th>\n",
       "      <th>label</th>\n",
       "      <th>n_tr</th>\n",
       "      <th>E[pval]</th>\n",
       "      <th>std[pval]</th>\n",
       "      <th>color</th>\n",
       "      <th>linestyle</th>\n",
       "      <th>key</th>\n",
       "      <th>soft_or_hard</th>\n",
       "      <th>display_flag</th>\n",
       "    </tr>\n",
       "  </thead>\n",
       "  <tbody>\n",
       "    <tr>\n",
       "      <th>1</th>\n",
       "      <td>MMD-M with $t_{opt}$</td>\n",
       "      <td>1300000</td>\n",
       "      <td>5.055654</td>\n",
       "      <td>8.002851e-02</td>\n",
       "      <td>black</td>\n",
       "      <td>-</td>\n",
       "      <td>Res_Net</td>\n",
       "      <td>hard</td>\n",
       "      <td>True</td>\n",
       "    </tr>\n",
       "    <tr>\n",
       "      <th>3</th>\n",
       "      <td>MMD-M with $t_{opt}$</td>\n",
       "      <td>1000000</td>\n",
       "      <td>4.881222</td>\n",
       "      <td>1.334968e-01</td>\n",
       "      <td>black</td>\n",
       "      <td>-</td>\n",
       "      <td>Res_Net</td>\n",
       "      <td>hard</td>\n",
       "      <td>True</td>\n",
       "    </tr>\n",
       "    <tr>\n",
       "      <th>5</th>\n",
       "      <td>MMD-M with $t_{opt}$</td>\n",
       "      <td>700000</td>\n",
       "      <td>4.673178</td>\n",
       "      <td>1.142563e-01</td>\n",
       "      <td>black</td>\n",
       "      <td>-</td>\n",
       "      <td>Res_Net</td>\n",
       "      <td>hard</td>\n",
       "      <td>True</td>\n",
       "    </tr>\n",
       "    <tr>\n",
       "      <th>7</th>\n",
       "      <td>MMD-M with $t_{opt}$</td>\n",
       "      <td>400000</td>\n",
       "      <td>4.153500</td>\n",
       "      <td>1.363954e-01</td>\n",
       "      <td>black</td>\n",
       "      <td>-</td>\n",
       "      <td>Res_Net</td>\n",
       "      <td>hard</td>\n",
       "      <td>True</td>\n",
       "    </tr>\n",
       "    <tr>\n",
       "      <th>9</th>\n",
       "      <td>MMD-M with $t_{opt}$</td>\n",
       "      <td>200000</td>\n",
       "      <td>1.258048</td>\n",
       "      <td>2.220446e-16</td>\n",
       "      <td>black</td>\n",
       "      <td>-</td>\n",
       "      <td>Res_Net</td>\n",
       "      <td>hard</td>\n",
       "      <td>True</td>\n",
       "    </tr>\n",
       "    <tr>\n",
       "      <th>11</th>\n",
       "      <td>MMD-M with $t_{opt}$</td>\n",
       "      <td>50000</td>\n",
       "      <td>2.767539</td>\n",
       "      <td>6.390492e-02</td>\n",
       "      <td>black</td>\n",
       "      <td>-</td>\n",
       "      <td>Res_Net</td>\n",
       "      <td>hard</td>\n",
       "      <td>True</td>\n",
       "    </tr>\n",
       "  </tbody>\n",
       "</table>\n",
       "</div>"
      ],
      "text/plain": [
       "                   label     n_tr   E[pval]     std[pval]  color linestyle  \\\n",
       "1   MMD-M with $t_{opt}$  1300000  5.055654  8.002851e-02  black         -   \n",
       "3   MMD-M with $t_{opt}$  1000000  4.881222  1.334968e-01  black         -   \n",
       "5   MMD-M with $t_{opt}$   700000  4.673178  1.142563e-01  black         -   \n",
       "7   MMD-M with $t_{opt}$   400000  4.153500  1.363954e-01  black         -   \n",
       "9   MMD-M with $t_{opt}$   200000  1.258048  2.220446e-16  black         -   \n",
       "11  MMD-M with $t_{opt}$    50000  2.767539  6.390492e-02  black         -   \n",
       "\n",
       "        key soft_or_hard display_flag  \n",
       "1   Res_Net         hard         True  \n",
       "3   Res_Net         hard         True  \n",
       "5   Res_Net         hard         True  \n",
       "7   Res_Net         hard         True  \n",
       "9   Res_Net         hard         True  \n",
       "11  Res_Net         hard         True  "
      ]
     },
     "execution_count": 24,
     "metadata": {},
     "output_type": "execute_result"
    }
   ],
   "source": [
    "df[df['label'] == 'MMD-M with $t_{opt}$'\t]"
   ]
  },
  {
   "cell_type": "code",
   "execution_count": 25,
   "metadata": {},
   "outputs": [
    {
     "data": {
      "text/plain": [
       "<Figure size 640x480 with 0 Axes>"
      ]
     },
     "metadata": {},
     "output_type": "display_data"
    }
   ],
   "source": [
    "plt.savefig('./plots/Significance of discovery.pdf')\n",
    "plt.show()"
   ]
  }
 ],
 "metadata": {
  "kernelspec": {
   "display_name": "LFI",
   "language": "python",
   "name": "python3"
  },
  "language_info": {
   "codemirror_mode": {
    "name": "ipython",
    "version": 3
   },
   "file_extension": ".py",
   "mimetype": "text/x-python",
   "name": "python",
   "nbconvert_exporter": "python",
   "pygments_lexer": "ipython3",
   "version": "3.9.12"
  },
  "orig_nbformat": 4,
  "vscode": {
   "interpreter": {
    "hash": "b3398c4b5aa1e55195b0bb96b4f8fc5c3f4a0ffb5794362f58b6653d525fb08f"
   }
  }
 },
 "nbformat": 4,
 "nbformat_minor": 2
}

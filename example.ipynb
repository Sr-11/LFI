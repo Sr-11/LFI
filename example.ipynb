{
 "cells": [
  {
   "attachments": {},
   "cell_type": "markdown",
   "metadata": {},
   "source": [
    "# Instruction to `lfi`\n",
    "\n",
    "This notebook will introduce you to  `lfi`, a python package implemented in our paper (removed for submission). See the Github page (removed for submission) for instructions."
   ]
  },
  {
   "cell_type": "code",
   "execution_count": 1,
   "metadata": {},
   "outputs": [
    {
     "name": "stderr",
     "output_type": "stream",
     "text": [
      "/math/home/eruisun/software/anaconda/envs/LFI/lib/python3.9/site-packages/tqdm/auto.py:22: TqdmWarning: IProgress not found. Please update jupyter and ipywidgets. See https://ipywidgets.readthedocs.io/en/stable/user_install.html\n",
      "  from .autonotebook import tqdm as notebook_tqdm\n"
     ]
    }
   ],
   "source": [
    "import sys, os, inspect\n",
    "sys.path.append('..')\n",
    "import lfi\n",
    "import numpy as np\n",
    "import matplotlib.pyplot as plt\n",
    "import torch\n",
    "from IPython.display import clear_output\n",
    "device = torch.device('cuda' if torch.cuda.is_available() else 'cpu')"
   ]
  },
  {
   "attachments": {},
   "cell_type": "markdown",
   "metadata": {},
   "source": [
    "## A simple example"
   ]
  },
  {
   "attachments": {},
   "cell_type": "markdown",
   "metadata": {},
   "source": [
    "### Prepare data"
   ]
  },
  {
   "attachments": {},
   "cell_type": "markdown",
   "metadata": {},
   "source": [
    "As a simple example, let us consider a two-dimensional example where $P_X$, $P_Y$ are 2-dimensional Gaussians $\\mathcal{N}((0,0),I)$, $\\mathcal{N}((0.5,0),I)$."
   ]
  },
  {
   "cell_type": "code",
   "execution_count": 2,
   "metadata": {},
   "outputs": [],
   "source": [
    "mean_X = np.array([0, 0])\n",
    "mean_Y = np.array([0.5, 0])"
   ]
  },
  {
   "attachments": {},
   "cell_type": "markdown",
   "metadata": {},
   "source": [
    "Set $n_{tr},n_{cal},n_{ev}$"
   ]
  },
  {
   "cell_type": "code",
   "execution_count": 3,
   "metadata": {},
   "outputs": [],
   "source": [
    "n_tr = 1000\n",
    "n_ev = 1000\n",
    "n_cal = 1000"
   ]
  },
  {
   "cell_type": "code",
   "execution_count": 4,
   "metadata": {},
   "outputs": [],
   "source": [
    "X_tr = mean_X + np.random.randn(n_tr, 2)\n",
    "Y_tr = mean_Y + np.random.randn(n_tr, 2)\n",
    "X_ev = mean_X + np.random.randn(n_ev, 2)\n",
    "Y_ev = mean_Y + np.random.randn(n_ev, 2)\n",
    "X_cal = mean_X + np.random.randn(n_cal, 2)\n",
    "Y_cal = mean_Y + np.random.randn(n_cal, 2)"
   ]
  },
  {
   "cell_type": "code",
   "execution_count": 5,
   "metadata": {},
   "outputs": [],
   "source": [
    "X_cal = torch.tensor(X_cal, device=device)\n",
    "Y_cal = torch.tensor(Y_cal, device=device)\n",
    "X_ev = torch.tensor(X_ev, device=device)\n",
    "Y_ev = torch.tensor(Y_ev, device=device)\n",
    "X_tr = torch.tensor(X_tr, device=device)\n",
    "Y_tr = torch.tensor(Y_tr, device=device)"
   ]
  },
  {
   "attachments": {},
   "cell_type": "markdown",
   "metadata": {},
   "source": [
    "### Prepare kernel"
   ]
  },
  {
   "attachments": {},
   "cell_type": "markdown",
   "metadata": {},
   "source": [
    "Let the kernel be an isotropic Gaussian kernel with a trainable bandwidth. We should define a class named `Model` inherits from `torch.nn.Module`. `Model` must contain the following functions:\n",
    "1. \\_\\_init\\_\\_(self, device, **kwargs): \n",
    "    - device is where the model should stored.\n",
    "    - self.params must be initialized as trainable parameters here.\n",
    "2. com-ute_loss(self, XY_tr, **kwargs):\n",
    "    - XY_tr.shape=(2*batch_size, dim), should return the loss function for training\n",
    "3. compute_scores(self, X_ev, Y_ev, Z_input):\n",
    "    - X_ev.shape=Y_ev.shape=(n_ev,dim) and Z_input.shape=(n_z;dim). return the witness function. \n",
    "4. compute_gamma(self, X_ev, Y_ev, Z_input):\n",
    "    - compute the $\\gamma(X_{ev},Y_{ev})$ in our paper."
   ]
  },
  {
   "cell_type": "code",
   "execution_count": 6,
   "metadata": {},
   "outputs": [],
   "source": [
    "class Model(torch.nn.Module):\n",
    "    def __init__(self, device, **kwargs):\n",
    "        super(Model, self).__init__()\n",
    "        self.device = device\n",
    "        self.sigma = torch.ones(1, requires_grad=True, device=self.device)\n",
    "        self.params = [self.sigma]\n",
    "            \n",
    "    def compute_loss(self, XY_tr, **kwargs):\n",
    "        X_tr = XY_tr[:XY_tr.shape[0]//2]\n",
    "        Y_tr = XY_tr[XY_tr.shape[0]//2:]\n",
    "        Kxx = torch.exp(-(lfi.utils.Pdist2(X_tr,X_tr)/self.sigma**2))\n",
    "        Kyy = torch.exp(-(lfi.utils.Pdist2(Y_tr,Y_tr)/self.sigma**2))\n",
    "        Kxy = torch.exp(-(lfi.utils.Pdist2(X_tr,Y_tr)/self.sigma**2))\n",
    "        mmd_val, mmd_var = lfi.utils.h1_mean_var_gram(Kxx, Kyy, Kxy, True)\n",
    "        STAT_u = mmd_val / torch.sqrt(mmd_var+10**(-8)) \n",
    "        return -STAT_u\n",
    "    \n",
    "    def compute_scores(self, X_ev, Y_ev, Z_input):\n",
    "        Kxz = torch.exp(-(lfi.utils.Pdist2(X_ev,Z_input)/self.sigma**2))\n",
    "        Kyz = torch.exp(-(lfi.utils.Pdist2(Y_ev,Z_input)/self.sigma**2))\n",
    "        phi_Z = torch.mean(Kyz,0) - torch.mean(Kxz,0)\n",
    "        return phi_Z\n",
    "\n",
    "    def compute_gamma(self, X_ev, Y_ev, pi):\n",
    "        batch_size = X_ev.shape[0]\n",
    "        Kxx = torch.exp(-(lfi.utils.Pdist2(X_ev,X_ev)/self.sigma**2))\n",
    "        Kyy = torch.exp(-(lfi.utils.Pdist2(Y_ev,Y_ev)/self.sigma**2))\n",
    "        Kxy = torch.exp(-(lfi.utils.Pdist2(X_ev,Y_ev)/self.sigma**2))\n",
    "        EKxx = (torch.sum(Kxx) - torch.sum(torch.diag(Kxx)))/ (batch_size * (batch_size - 1))\n",
    "        EKyy = (torch.sum(Kyy) - torch.sum(torch.diag(Kyy)))/ (batch_size * (batch_size - 1))\n",
    "        EKxy = torch.sum(Kxy) / (batch_size * batch_size)\n",
    "        gamma = EKxx*(pi/2-1) + EKxy*(1-pi) + EKyy*(pi/2)\n",
    "        return gamma"
   ]
  },
  {
   "cell_type": "code",
   "execution_count": 7,
   "metadata": {},
   "outputs": [],
   "source": [
    "kernel = Model(device)"
   ]
  },
  {
   "attachments": {},
   "cell_type": "markdown",
   "metadata": {},
   "source": [
    "### Train the kernel"
   ]
  },
  {
   "attachments": {},
   "cell_type": "markdown",
   "metadata": {},
   "source": [
    "Then we train the model. Choose 10% of $X_{tr}, Y_{tr}$ to be the validation set."
   ]
  },
  {
   "cell_type": "code",
   "execution_count": 8,
   "metadata": {},
   "outputs": [],
   "source": [
    "n_validation = 0.1*n_tr\n",
    "X_validate = X_tr[:int(n_validation)]\n",
    "Y_validate = Y_tr[:int(n_validation)]"
   ]
  },
  {
   "attachments": {},
   "cell_type": "markdown",
   "metadata": {},
   "source": [
    "Create training set and validation set"
   ]
  },
  {
   "cell_type": "code",
   "execution_count": 9,
   "metadata": {},
   "outputs": [],
   "source": [
    "S_validate = torch.cat([X_validate, Y_validate]).to(device)\n",
    "XY_tr = torch.cat((X_tr, Y_tr)).to(device)\n",
    "train_loader = torch.utils.data.DataLoader([XY_tr], batch_size=1, shuffle=True)"
   ]
  },
  {
   "attachments": {},
   "cell_type": "markdown",
   "metadata": {},
   "source": [
    "Setup the training"
   ]
  },
  {
   "cell_type": "code",
   "execution_count": 10,
   "metadata": {},
   "outputs": [],
   "source": [
    "optimizer = torch.optim.Adam(kernel.params, lr=0.1) # optimizer \n",
    "N_epoch = 100 # the maximum number of epochs\n",
    "ckpt_dir = './checkpoints' # directory to save the checkpoints\n",
    "patience = 10 # we stop training once the validation loss does not improve for 10 epochs\n",
    "save_every = 100 # save the model every 10 epoch"
   ]
  },
  {
   "attachments": {},
   "cell_type": "markdown",
   "metadata": {},
   "source": [
    "Start training"
   ]
  },
  {
   "cell_type": "code",
   "execution_count": 11,
   "metadata": {},
   "outputs": [
    {
     "data": {
      "image/png": "[encoded data removed]",
      "text/plain": [
       "<Figure size 640x480 with 1 Axes>"
      ]
     },
     "metadata": {},
     "output_type": "display_data"
    }
   ],
   "source": [
    "kernel, validation_loss_epoch_records = lfi.train.train(n_tr, train_loader, S_validate, \n",
    "                                                        kernel, optimizer, N_epoch, \n",
    "                                                        save_every, ckpt_dir, patience, verbose=False)\n",
    "clear_output()\n",
    "plt.plot(validation_loss_epoch_records)\n",
    "plt.xlabel('Epoch')\n",
    "plt.ylabel('Validation loss')\n",
    "plt.show()"
   ]
  },
  {
   "attachments": {},
   "cell_type": "markdown",
   "metadata": {},
   "source": [
    "### Test"
   ]
  },
  {
   "attachments": {},
   "cell_type": "markdown",
   "metadata": {},
   "source": [
    "Suppose we have $Z$ sampled from $0.1P_X+0.9P_Y$ with size $m$"
   ]
  },
  {
   "cell_type": "code",
   "execution_count": 12,
   "metadata": {},
   "outputs": [],
   "source": [
    "m = 100\n",
    "tem = np.random.binomial(m, 0.1)\n",
    "Z = np.concatenate((mean_X + np.random.randn(tem, 2), mean_Y + np.random.randn(m-tem, 2)), axis=0)\n",
    "Z = torch.tensor(Z, device=device)"
   ]
  },
  {
   "attachments": {},
   "cell_type": "markdown",
   "metadata": {},
   "source": [
    "The p value is calculated via Gaussian approximation (as explained in paper)"
   ]
  },
  {
   "cell_type": "code",
   "execution_count": 13,
   "metadata": {},
   "outputs": [
    {
     "name": "stdout",
     "output_type": "stream",
     "text": [
      "Estimated p-value: 5.14σ\n"
     ]
    }
   ],
   "source": [
    "p, wit_Z = lfi.test.get_estimated_pval(kernel, X_cal, Y_cal, X_ev, Y_ev, Z=Z)\n",
    "print('Estimated p-value: %.2fσ'%p.item())"
   ]
  },
  {
   "attachments": {},
   "cell_type": "markdown",
   "metadata": {},
   "source": [
    "We can also perform the test (4) in our paper"
   ]
  },
  {
   "cell_type": "code",
   "execution_count": 15,
   "metadata": {},
   "outputs": [
    {
     "name": "stdout",
     "output_type": "stream",
     "text": [
      "Z is classifies to H1\n"
     ]
    }
   ],
   "source": [
    "print('Z is classified to H%d'%(wit_Z > kernel.compute_gamma(X_ev, Y_ev, 0.1)))"
   ]
  }
 ],
 "metadata": {
  "kernelspec": {
   "display_name": "Python 3.9.12 ('LFI')",
   "language": "python",
   "name": "python3"
  },
  "language_info": {
   "codemirror_mode": {
    "name": "ipython",
    "version": 3
   },
   "file_extension": ".py",
   "mimetype": "text/x-python",
   "name": "python",
   "nbconvert_exporter": "python",
   "pygments_lexer": "ipython3",
   "version": "3.9.12"
  },
  "orig_nbformat": 4,
  "vscode": {
   "interpreter": {
    "hash": "b3398c4b5aa1e55195b0bb96b4f8fc5c3f4a0ffb5794362f58b6653d525fb08f"
   }
  }
 },
 "nbformat": 4,
 "nbformat_minor": 2
}
